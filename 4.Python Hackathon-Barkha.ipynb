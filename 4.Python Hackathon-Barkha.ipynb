{
 "cells": [
  {
   "cell_type": "code",
   "execution_count": 2,
   "id": "34ece856",
   "metadata": {},
   "outputs": [],
   "source": [
    "import numpy as np\n",
    "import pandas as pd\n",
    "import matplotlib.pyplot as plt\n",
    "import seaborn as sns\n",
    "import warnings\n",
    "from datetime import datetime, date\n",
    "import plotly.express as px"
   ]
  },
  {
   "cell_type": "code",
   "execution_count": 97,
   "id": "e19e030a",
   "metadata": {},
   "outputs": [],
   "source": [
    "warnings.simplefilter(action='ignore', category=[FutureWarning,UserWarning])"
   ]
  },
  {
   "cell_type": "code",
   "execution_count": 4,
   "id": "4ae127fb",
   "metadata": {},
   "outputs": [],
   "source": [
    "%matplotlib inline"
   ]
  },
  {
   "cell_type": "code",
   "execution_count": 5,
   "id": "ba737ca6",
   "metadata": {},
   "outputs": [],
   "source": [
    "df_patients = pd.read_excel(\"HospitalDatabase.xlsx\",\"Patients\")\n",
    "df_ed_visits = pd.read_excel(\"HospitalDatabase.xlsx\",\"EDVisits\")\n",
    "df_ambulatory_visits = pd.read_excel(\"HospitalDatabase.xlsx\",\"AmbulatoryVisits\")\n",
    "df_re_admission_registry = pd.read_excel(\"HospitalDatabase.xlsx\",\"ReAdmissionRegistry\")\n",
    "df_discharge = pd.read_excel(\"HospitalDatabase.xlsx\",\"Discharges\")\n",
    "df_providers = pd.read_excel(\"HospitalDatabase.xlsx\",\"Providers\")\n",
    "df_ed_unique = pd.read_excel(\"HospitalDatabase.xlsx\",\"EDUnique\")"
   ]
  },
  {
   "cell_type": "code",
   "execution_count": null,
   "id": "2a4fe610",
   "metadata": {},
   "outputs": [],
   "source": [
    "df_patients = pd.read_excel(\"HospitalDatabase.xlsx\",\"Patients\")\n",
    "df_patients.head(10)"
   ]
  },
  {
   "cell_type": "markdown",
   "id": "a82bad30",
   "metadata": {},
   "source": [
    "# 1. Calculate the time spent in ED Department for each visit.\n"
   ]
  },
  {
   "cell_type": "code",
   "execution_count": 32,
   "id": "0751a83d",
   "metadata": {},
   "outputs": [
    {
     "data": {
      "text/html": [
       "<div>\n",
       "<style scoped>\n",
       "    .dataframe tbody tr th:only-of-type {\n",
       "        vertical-align: middle;\n",
       "    }\n",
       "\n",
       "    .dataframe tbody tr th {\n",
       "        vertical-align: top;\n",
       "    }\n",
       "\n",
       "    .dataframe thead th {\n",
       "        text-align: right;\n",
       "    }\n",
       "</style>\n",
       "<table border=\"1\" class=\"dataframe\">\n",
       "  <thead>\n",
       "    <tr style=\"text-align: right;\">\n",
       "      <th></th>\n",
       "      <th>EDVisitID</th>\n",
       "      <th>PatientID</th>\n",
       "      <th>VisitDate</th>\n",
       "      <th>EDDischargeTime</th>\n",
       "      <th>Acuity</th>\n",
       "      <th>ReasonForVisit</th>\n",
       "      <th>EDDisposition</th>\n",
       "      <th>TimeSpent</th>\n",
       "    </tr>\n",
       "  </thead>\n",
       "  <tbody>\n",
       "    <tr>\n",
       "      <th>0</th>\n",
       "      <td>1</td>\n",
       "      <td>1</td>\n",
       "      <td>2020-01-01 00:00:00.000</td>\n",
       "      <td>2020-01-01 11:20:22.924</td>\n",
       "      <td>1</td>\n",
       "      <td>Stomach Ache</td>\n",
       "      <td>Admitted</td>\n",
       "      <td>11.339444</td>\n",
       "    </tr>\n",
       "    <tr>\n",
       "      <th>1</th>\n",
       "      <td>12</td>\n",
       "      <td>12</td>\n",
       "      <td>2020-01-01 02:45:40.302</td>\n",
       "      <td>2020-01-02 02:00:00.517</td>\n",
       "      <td>2</td>\n",
       "      <td>Migraine</td>\n",
       "      <td>Admitted</td>\n",
       "      <td>23.238889</td>\n",
       "    </tr>\n",
       "    <tr>\n",
       "      <th>2</th>\n",
       "      <td>13</td>\n",
       "      <td>13</td>\n",
       "      <td>2020-01-01 03:09:24.701</td>\n",
       "      <td>2020-01-01 05:00:20.852</td>\n",
       "      <td>3</td>\n",
       "      <td>Stomach Ache</td>\n",
       "      <td>Admitted</td>\n",
       "      <td>1.848889</td>\n",
       "    </tr>\n",
       "    <tr>\n",
       "      <th>3</th>\n",
       "      <td>14</td>\n",
       "      <td>14</td>\n",
       "      <td>2020-01-01 03:12:19.349</td>\n",
       "      <td>2020-01-01 04:32:29.142</td>\n",
       "      <td>3</td>\n",
       "      <td>Migraine</td>\n",
       "      <td>Admitted</td>\n",
       "      <td>1.335833</td>\n",
       "    </tr>\n",
       "    <tr>\n",
       "      <th>4</th>\n",
       "      <td>15</td>\n",
       "      <td>15</td>\n",
       "      <td>2020-01-01 03:46:32.698</td>\n",
       "      <td>2020-01-01 06:24:52.741</td>\n",
       "      <td>3</td>\n",
       "      <td>Chest Pain</td>\n",
       "      <td>Admitted</td>\n",
       "      <td>2.638889</td>\n",
       "    </tr>\n",
       "    <tr>\n",
       "      <th>...</th>\n",
       "      <td>...</td>\n",
       "      <td>...</td>\n",
       "      <td>...</td>\n",
       "      <td>...</td>\n",
       "      <td>...</td>\n",
       "      <td>...</td>\n",
       "      <td>...</td>\n",
       "      <td>...</td>\n",
       "    </tr>\n",
       "    <tr>\n",
       "      <th>1194</th>\n",
       "      <td>1183</td>\n",
       "      <td>929</td>\n",
       "      <td>2020-01-15 10:38:42.570</td>\n",
       "      <td>2020-01-16 02:31:52.023</td>\n",
       "      <td>4</td>\n",
       "      <td>Chest Pain</td>\n",
       "      <td>Discharged</td>\n",
       "      <td>15.885833</td>\n",
       "    </tr>\n",
       "    <tr>\n",
       "      <th>1195</th>\n",
       "      <td>1186</td>\n",
       "      <td>932</td>\n",
       "      <td>2020-01-15 11:52:37.540</td>\n",
       "      <td>2020-01-16 10:19:41.570</td>\n",
       "      <td>1</td>\n",
       "      <td>Pneumonia</td>\n",
       "      <td>Discharged</td>\n",
       "      <td>22.451111</td>\n",
       "    </tr>\n",
       "    <tr>\n",
       "      <th>1196</th>\n",
       "      <td>1187</td>\n",
       "      <td>933</td>\n",
       "      <td>2020-01-15 12:11:11.678</td>\n",
       "      <td>2020-01-15 16:41:15.223</td>\n",
       "      <td>1</td>\n",
       "      <td>Pneumonia</td>\n",
       "      <td>Discharged</td>\n",
       "      <td>4.500833</td>\n",
       "    </tr>\n",
       "    <tr>\n",
       "      <th>1197</th>\n",
       "      <td>1188</td>\n",
       "      <td>934</td>\n",
       "      <td>2020-01-15 12:21:46.006</td>\n",
       "      <td>2020-01-15 18:32:21.060</td>\n",
       "      <td>1</td>\n",
       "      <td>Pneumonia</td>\n",
       "      <td>Discharged</td>\n",
       "      <td>6.176389</td>\n",
       "    </tr>\n",
       "    <tr>\n",
       "      <th>1198</th>\n",
       "      <td>1189</td>\n",
       "      <td>935</td>\n",
       "      <td>2020-01-15 12:51:14.875</td>\n",
       "      <td>2020-01-15 23:40:41.456</td>\n",
       "      <td>1</td>\n",
       "      <td>Pneumonia</td>\n",
       "      <td>Discharged</td>\n",
       "      <td>10.823889</td>\n",
       "    </tr>\n",
       "  </tbody>\n",
       "</table>\n",
       "<p>1199 rows × 8 columns</p>\n",
       "</div>"
      ],
      "text/plain": [
       "      EDVisitID  PatientID               VisitDate         EDDischargeTime  \\\n",
       "0             1          1 2020-01-01 00:00:00.000 2020-01-01 11:20:22.924   \n",
       "1            12         12 2020-01-01 02:45:40.302 2020-01-02 02:00:00.517   \n",
       "2            13         13 2020-01-01 03:09:24.701 2020-01-01 05:00:20.852   \n",
       "3            14         14 2020-01-01 03:12:19.349 2020-01-01 04:32:29.142   \n",
       "4            15         15 2020-01-01 03:46:32.698 2020-01-01 06:24:52.741   \n",
       "...         ...        ...                     ...                     ...   \n",
       "1194       1183        929 2020-01-15 10:38:42.570 2020-01-16 02:31:52.023   \n",
       "1195       1186        932 2020-01-15 11:52:37.540 2020-01-16 10:19:41.570   \n",
       "1196       1187        933 2020-01-15 12:11:11.678 2020-01-15 16:41:15.223   \n",
       "1197       1188        934 2020-01-15 12:21:46.006 2020-01-15 18:32:21.060   \n",
       "1198       1189        935 2020-01-15 12:51:14.875 2020-01-15 23:40:41.456   \n",
       "\n",
       "      Acuity ReasonForVisit EDDisposition  TimeSpent  \n",
       "0          1   Stomach Ache      Admitted  11.339444  \n",
       "1          2       Migraine      Admitted  23.238889  \n",
       "2          3   Stomach Ache      Admitted   1.848889  \n",
       "3          3       Migraine      Admitted   1.335833  \n",
       "4          3     Chest Pain      Admitted   2.638889  \n",
       "...      ...            ...           ...        ...  \n",
       "1194       4     Chest Pain    Discharged  15.885833  \n",
       "1195       1      Pneumonia    Discharged  22.451111  \n",
       "1196       1      Pneumonia    Discharged   4.500833  \n",
       "1197       1      Pneumonia    Discharged   6.176389  \n",
       "1198       1      Pneumonia    Discharged  10.823889  \n",
       "\n",
       "[1199 rows x 8 columns]"
      ]
     },
     "execution_count": 32,
     "metadata": {},
     "output_type": "execute_result"
    }
   ],
   "source": [
    "df_ed_visits[\"TimeSpent\"] =(df_ed_visits[\"EDDischargeTime\"]-df_ed_visits[\"VisitDate\"]).dt.seconds/3600\n",
    "df_ed_visits"
   ]
  },
  {
   "cell_type": "markdown",
   "id": "7eda4850",
   "metadata": {},
   "source": [
    "# 2.Get the  number of patients based on service and primary diagnosis.\n"
   ]
  },
  {
   "cell_type": "code",
   "execution_count": null,
   "id": "a91fa6e1",
   "metadata": {},
   "outputs": [],
   "source": [
    "by_diaganosis = df_re_admission_registry.groupby([\"PrimaryDiagnosis\",\"Service\"]).count()\n",
    "by_diaganosis[\"PatientID\"]"
   ]
  },
  {
   "cell_type": "markdown",
   "id": "aeb4c469",
   "metadata": {},
   "source": [
    "# 4. Connect to sql and write a query to get list of Provider names whose Providername is starting with letter T.  (Attach screenshots for this question)\n"
   ]
  },
  {
   "cell_type": "code",
   "execution_count": 98,
   "id": "98c9cd4b",
   "metadata": {},
   "outputs": [
    {
     "name": "stdout",
     "output_type": "stream",
     "text": [
      "   ProviderName\n",
      "0     Ted Texas\n",
      "1     Ted Green\n",
      "2     Ted Black\n",
      "3  Tyler Conner\n",
      "4    Tony Creed\n",
      "5     Trent Tye\n"
     ]
    }
   ],
   "source": [
    "import pymysql\n",
    "\n",
    "import pandas as a\n",
    "\n",
    "conn=pymysql.connect(host='localhost',port=int(3306),user='root',passwd='Barkha*1984',db='pythonhackathon')\n",
    "\n",
    "df=a.read_sql_query(\"SELECT ProviderName FROM Providers where ProviderName like 'T%' \",conn)\n",
    "\n",
    "print(df)"
   ]
  },
  {
   "cell_type": "markdown",
   "id": "24aee956",
   "metadata": {},
   "source": [
    "# 5. Create a bar chart between expectedLOS & Primary diagnosis.\n"
   ]
  },
  {
   "cell_type": "code",
   "execution_count": null,
   "id": "e4b6a0c5",
   "metadata": {},
   "outputs": [],
   "source": [
    "sns.barplot(data = df_re_admission_registry, x=\"ExpectedLOS\", y = \"PrimaryDiagnosis\")\n"
   ]
  },
  {
   "cell_type": "markdown",
   "id": "cbad57a5",
   "metadata": {},
   "source": [
    "# 6. Find the last name of the patients, by getting the first name from the user.\n"
   ]
  },
  {
   "cell_type": "code",
   "execution_count": null,
   "id": "a9126a2c",
   "metadata": {},
   "outputs": [],
   "source": [
    "name = input(\"Enter the last name to get the first name: \")\n",
    "df_patients[\"LastName\"].loc[df_patients['FirstName'] == name]"
   ]
  },
  {
   "cell_type": "markdown",
   "id": "d65966b8",
   "metadata": {},
   "source": [
    "# 7. Find the list of patients whose ExpectedLOS is greater than the value given by the user.\n"
   ]
  },
  {
   "cell_type": "code",
   "execution_count": null,
   "id": "575411fe",
   "metadata": {},
   "outputs": [],
   "source": [
    "LOS = float(input(\"Enter the ExpectedLOS: \"))\n",
    "df_re_admission_registry[[\"PatientID\",\"ExpectedLOS\"]][df_re_admission_registry[\"ExpectedLOS\"]>LOS]"
   ]
  },
  {
   "cell_type": "markdown",
   "id": "0d73f03f",
   "metadata": {},
   "source": [
    "# 8. Using Sunburst chart display the providers name by their provider speciality, considering their experience.\n"
   ]
  },
  {
   "cell_type": "code",
   "execution_count": 44,
   "id": "230184b7",
   "metadata": {},
   "outputs": [
    {
     "data": {
      "application/vnd.plotly.v1+json": {
       "config": {
        "plotlyServerURL": "https://plot.ly"
       },
       "data": [
        {
         "branchvalues": "total",
         "domain": {
          "x": [
           0,
           1
          ],
          "y": [
           0,
           1
          ]
         },
         "hovertemplate": "labels=%{label}<br>Experience=%{value}<br>parent=%{parent}<br>id=%{id}<extra></extra>",
         "ids": [
          "Surgery/Abigail Marriot",
          "Pediatrics/Ala Bama",
          "Cardiology/Bailey Barret",
          "Pediatrics/Barry Bar",
          "PrimaryCare/Brenda Bing",
          "PrimaryCare/Bridget Brenda",
          "PrimaryCare/Chandler Bing",
          "Surgery/Christian Saint",
          "Surgery/Dave Yu",
          "PrimaryCare/Dwight Scott",
          "Surgery/Fred Man",
          "Pediatrics/Harry Kane",
          "PrimaryCare/Harry West",
          "PrimaryCare/Holly Hue",
          "PrimaryCare/Joesph Ross",
          "Cardiology/Joesph Walter",
          "Pediatrics/Jordan Michael",
          "PrimaryCare/Justin Time",
          "Cardiology/Kent Kendall",
          "Surgery/Kim Kimberly",
          "PrimaryCare/Kimberly Cone",
          "Cardiology/Luke Long",
          "Cardiology/Megan Bonco",
          "PrimaryCare/Michael Halpert",
          "PrimaryCare/Mike Joseph",
          "Pediatrics/Mike Myers",
          "PrimaryCare/Pamela Ding",
          "Surgery/Perry Pardon",
          "PrimaryCare/Phyllis Stanley",
          "PrimaryCare/Rosie Renter",
          "Cardiology/Ryan Kevin",
          "Pediatrics/Sally Sue",
          "Surgery/Sarah Ab",
          "Pediatrics/Ted Black",
          "Pediatrics/Ted Green",
          "Pediatrics/Ted Texas",
          "PrimaryCare/Tony Creed",
          "PrimaryCare/Trent Tye",
          "Cardiology/Tyler Conner",
          "Cardiology/Walter King",
          "Cardiology",
          "Pediatrics",
          "PrimaryCare",
          "Surgery"
         ],
         "labels": [
          "Abigail Marriot",
          "Ala Bama",
          "Bailey Barret",
          "Barry Bar",
          "Brenda Bing",
          "Bridget Brenda",
          "Chandler Bing",
          "Christian Saint",
          "Dave Yu",
          "Dwight Scott",
          "Fred Man",
          "Harry Kane",
          "Harry West",
          "Holly Hue",
          "Joesph Ross",
          "Joesph Walter",
          "Jordan Michael",
          "Justin Time",
          "Kent Kendall",
          "Kim Kimberly",
          "Kimberly Cone",
          "Luke Long",
          "Megan Bonco",
          "Michael Halpert",
          "Mike Joseph",
          "Mike Myers",
          "Pamela Ding",
          "Perry Pardon",
          "Phyllis Stanley",
          "Rosie Renter",
          "Ryan Kevin",
          "Sally Sue",
          "Sarah Ab",
          "Ted Black",
          "Ted Green",
          "Ted Texas",
          "Tony Creed",
          "Trent Tye",
          "Tyler Conner",
          "Walter King",
          "Cardiology",
          "Pediatrics",
          "PrimaryCare",
          "Surgery"
         ],
         "name": "",
         "parents": [
          "Surgery",
          "Pediatrics",
          "Cardiology",
          "Pediatrics",
          "PrimaryCare",
          "PrimaryCare",
          "PrimaryCare",
          "Surgery",
          "Surgery",
          "PrimaryCare",
          "Surgery",
          "Pediatrics",
          "PrimaryCare",
          "PrimaryCare",
          "PrimaryCare",
          "Cardiology",
          "Pediatrics",
          "PrimaryCare",
          "Cardiology",
          "Surgery",
          "PrimaryCare",
          "Cardiology",
          "Cardiology",
          "PrimaryCare",
          "PrimaryCare",
          "Pediatrics",
          "PrimaryCare",
          "Surgery",
          "PrimaryCare",
          "PrimaryCare",
          "Cardiology",
          "Pediatrics",
          "Surgery",
          "Pediatrics",
          "Pediatrics",
          "Pediatrics",
          "PrimaryCare",
          "PrimaryCare",
          "Cardiology",
          "Cardiology",
          "",
          "",
          "",
          ""
         ],
         "type": "sunburst",
         "values": [
          25,
          28,
          20,
          28,
          16,
          16,
          16,
          23,
          24,
          14,
          25,
          28,
          10,
          11,
          15,
          18,
          30,
          17,
          22,
          25,
          10,
          17,
          19,
          14,
          17,
          30,
          14,
          22,
          12,
          10,
          20,
          30,
          25,
          26,
          27,
          30,
          13,
          10,
          20,
          17,
          153,
          257,
          215,
          169
         ]
        }
       ],
       "layout": {
        "legend": {
         "tracegroupgap": 0
        },
        "margin": {
         "t": 60
        },
        "template": {
         "data": {
          "bar": [
           {
            "error_x": {
             "color": "#2a3f5f"
            },
            "error_y": {
             "color": "#2a3f5f"
            },
            "marker": {
             "line": {
              "color": "#E5ECF6",
              "width": 0.5
             },
             "pattern": {
              "fillmode": "overlay",
              "size": 10,
              "solidity": 0.2
             }
            },
            "type": "bar"
           }
          ],
          "barpolar": [
           {
            "marker": {
             "line": {
              "color": "#E5ECF6",
              "width": 0.5
             },
             "pattern": {
              "fillmode": "overlay",
              "size": 10,
              "solidity": 0.2
             }
            },
            "type": "barpolar"
           }
          ],
          "carpet": [
           {
            "aaxis": {
             "endlinecolor": "#2a3f5f",
             "gridcolor": "white",
             "linecolor": "white",
             "minorgridcolor": "white",
             "startlinecolor": "#2a3f5f"
            },
            "baxis": {
             "endlinecolor": "#2a3f5f",
             "gridcolor": "white",
             "linecolor": "white",
             "minorgridcolor": "white",
             "startlinecolor": "#2a3f5f"
            },
            "type": "carpet"
           }
          ],
          "choropleth": [
           {
            "colorbar": {
             "outlinewidth": 0,
             "ticks": ""
            },
            "type": "choropleth"
           }
          ],
          "contour": [
           {
            "colorbar": {
             "outlinewidth": 0,
             "ticks": ""
            },
            "colorscale": [
             [
              0,
              "#0d0887"
             ],
             [
              0.1111111111111111,
              "#46039f"
             ],
             [
              0.2222222222222222,
              "#7201a8"
             ],
             [
              0.3333333333333333,
              "#9c179e"
             ],
             [
              0.4444444444444444,
              "#bd3786"
             ],
             [
              0.5555555555555556,
              "#d8576b"
             ],
             [
              0.6666666666666666,
              "#ed7953"
             ],
             [
              0.7777777777777778,
              "#fb9f3a"
             ],
             [
              0.8888888888888888,
              "#fdca26"
             ],
             [
              1,
              "#f0f921"
             ]
            ],
            "type": "contour"
           }
          ],
          "contourcarpet": [
           {
            "colorbar": {
             "outlinewidth": 0,
             "ticks": ""
            },
            "type": "contourcarpet"
           }
          ],
          "heatmap": [
           {
            "colorbar": {
             "outlinewidth": 0,
             "ticks": ""
            },
            "colorscale": [
             [
              0,
              "#0d0887"
             ],
             [
              0.1111111111111111,
              "#46039f"
             ],
             [
              0.2222222222222222,
              "#7201a8"
             ],
             [
              0.3333333333333333,
              "#9c179e"
             ],
             [
              0.4444444444444444,
              "#bd3786"
             ],
             [
              0.5555555555555556,
              "#d8576b"
             ],
             [
              0.6666666666666666,
              "#ed7953"
             ],
             [
              0.7777777777777778,
              "#fb9f3a"
             ],
             [
              0.8888888888888888,
              "#fdca26"
             ],
             [
              1,
              "#f0f921"
             ]
            ],
            "type": "heatmap"
           }
          ],
          "heatmapgl": [
           {
            "colorbar": {
             "outlinewidth": 0,
             "ticks": ""
            },
            "colorscale": [
             [
              0,
              "#0d0887"
             ],
             [
              0.1111111111111111,
              "#46039f"
             ],
             [
              0.2222222222222222,
              "#7201a8"
             ],
             [
              0.3333333333333333,
              "#9c179e"
             ],
             [
              0.4444444444444444,
              "#bd3786"
             ],
             [
              0.5555555555555556,
              "#d8576b"
             ],
             [
              0.6666666666666666,
              "#ed7953"
             ],
             [
              0.7777777777777778,
              "#fb9f3a"
             ],
             [
              0.8888888888888888,
              "#fdca26"
             ],
             [
              1,
              "#f0f921"
             ]
            ],
            "type": "heatmapgl"
           }
          ],
          "histogram": [
           {
            "marker": {
             "pattern": {
              "fillmode": "overlay",
              "size": 10,
              "solidity": 0.2
             }
            },
            "type": "histogram"
           }
          ],
          "histogram2d": [
           {
            "colorbar": {
             "outlinewidth": 0,
             "ticks": ""
            },
            "colorscale": [
             [
              0,
              "#0d0887"
             ],
             [
              0.1111111111111111,
              "#46039f"
             ],
             [
              0.2222222222222222,
              "#7201a8"
             ],
             [
              0.3333333333333333,
              "#9c179e"
             ],
             [
              0.4444444444444444,
              "#bd3786"
             ],
             [
              0.5555555555555556,
              "#d8576b"
             ],
             [
              0.6666666666666666,
              "#ed7953"
             ],
             [
              0.7777777777777778,
              "#fb9f3a"
             ],
             [
              0.8888888888888888,
              "#fdca26"
             ],
             [
              1,
              "#f0f921"
             ]
            ],
            "type": "histogram2d"
           }
          ],
          "histogram2dcontour": [
           {
            "colorbar": {
             "outlinewidth": 0,
             "ticks": ""
            },
            "colorscale": [
             [
              0,
              "#0d0887"
             ],
             [
              0.1111111111111111,
              "#46039f"
             ],
             [
              0.2222222222222222,
              "#7201a8"
             ],
             [
              0.3333333333333333,
              "#9c179e"
             ],
             [
              0.4444444444444444,
              "#bd3786"
             ],
             [
              0.5555555555555556,
              "#d8576b"
             ],
             [
              0.6666666666666666,
              "#ed7953"
             ],
             [
              0.7777777777777778,
              "#fb9f3a"
             ],
             [
              0.8888888888888888,
              "#fdca26"
             ],
             [
              1,
              "#f0f921"
             ]
            ],
            "type": "histogram2dcontour"
           }
          ],
          "mesh3d": [
           {
            "colorbar": {
             "outlinewidth": 0,
             "ticks": ""
            },
            "type": "mesh3d"
           }
          ],
          "parcoords": [
           {
            "line": {
             "colorbar": {
              "outlinewidth": 0,
              "ticks": ""
             }
            },
            "type": "parcoords"
           }
          ],
          "pie": [
           {
            "automargin": true,
            "type": "pie"
           }
          ],
          "scatter": [
           {
            "fillpattern": {
             "fillmode": "overlay",
             "size": 10,
             "solidity": 0.2
            },
            "type": "scatter"
           }
          ],
          "scatter3d": [
           {
            "line": {
             "colorbar": {
              "outlinewidth": 0,
              "ticks": ""
             }
            },
            "marker": {
             "colorbar": {
              "outlinewidth": 0,
              "ticks": ""
             }
            },
            "type": "scatter3d"
           }
          ],
          "scattercarpet": [
           {
            "marker": {
             "colorbar": {
              "outlinewidth": 0,
              "ticks": ""
             }
            },
            "type": "scattercarpet"
           }
          ],
          "scattergeo": [
           {
            "marker": {
             "colorbar": {
              "outlinewidth": 0,
              "ticks": ""
             }
            },
            "type": "scattergeo"
           }
          ],
          "scattergl": [
           {
            "marker": {
             "colorbar": {
              "outlinewidth": 0,
              "ticks": ""
             }
            },
            "type": "scattergl"
           }
          ],
          "scattermapbox": [
           {
            "marker": {
             "colorbar": {
              "outlinewidth": 0,
              "ticks": ""
             }
            },
            "type": "scattermapbox"
           }
          ],
          "scatterpolar": [
           {
            "marker": {
             "colorbar": {
              "outlinewidth": 0,
              "ticks": ""
             }
            },
            "type": "scatterpolar"
           }
          ],
          "scatterpolargl": [
           {
            "marker": {
             "colorbar": {
              "outlinewidth": 0,
              "ticks": ""
             }
            },
            "type": "scatterpolargl"
           }
          ],
          "scatterternary": [
           {
            "marker": {
             "colorbar": {
              "outlinewidth": 0,
              "ticks": ""
             }
            },
            "type": "scatterternary"
           }
          ],
          "surface": [
           {
            "colorbar": {
             "outlinewidth": 0,
             "ticks": ""
            },
            "colorscale": [
             [
              0,
              "#0d0887"
             ],
             [
              0.1111111111111111,
              "#46039f"
             ],
             [
              0.2222222222222222,
              "#7201a8"
             ],
             [
              0.3333333333333333,
              "#9c179e"
             ],
             [
              0.4444444444444444,
              "#bd3786"
             ],
             [
              0.5555555555555556,
              "#d8576b"
             ],
             [
              0.6666666666666666,
              "#ed7953"
             ],
             [
              0.7777777777777778,
              "#fb9f3a"
             ],
             [
              0.8888888888888888,
              "#fdca26"
             ],
             [
              1,
              "#f0f921"
             ]
            ],
            "type": "surface"
           }
          ],
          "table": [
           {
            "cells": {
             "fill": {
              "color": "#EBF0F8"
             },
             "line": {
              "color": "white"
             }
            },
            "header": {
             "fill": {
              "color": "#C8D4E3"
             },
             "line": {
              "color": "white"
             }
            },
            "type": "table"
           }
          ]
         },
         "layout": {
          "annotationdefaults": {
           "arrowcolor": "#2a3f5f",
           "arrowhead": 0,
           "arrowwidth": 1
          },
          "autotypenumbers": "strict",
          "coloraxis": {
           "colorbar": {
            "outlinewidth": 0,
            "ticks": ""
           }
          },
          "colorscale": {
           "diverging": [
            [
             0,
             "#8e0152"
            ],
            [
             0.1,
             "#c51b7d"
            ],
            [
             0.2,
             "#de77ae"
            ],
            [
             0.3,
             "#f1b6da"
            ],
            [
             0.4,
             "#fde0ef"
            ],
            [
             0.5,
             "#f7f7f7"
            ],
            [
             0.6,
             "#e6f5d0"
            ],
            [
             0.7,
             "#b8e186"
            ],
            [
             0.8,
             "#7fbc41"
            ],
            [
             0.9,
             "#4d9221"
            ],
            [
             1,
             "#276419"
            ]
           ],
           "sequential": [
            [
             0,
             "#0d0887"
            ],
            [
             0.1111111111111111,
             "#46039f"
            ],
            [
             0.2222222222222222,
             "#7201a8"
            ],
            [
             0.3333333333333333,
             "#9c179e"
            ],
            [
             0.4444444444444444,
             "#bd3786"
            ],
            [
             0.5555555555555556,
             "#d8576b"
            ],
            [
             0.6666666666666666,
             "#ed7953"
            ],
            [
             0.7777777777777778,
             "#fb9f3a"
            ],
            [
             0.8888888888888888,
             "#fdca26"
            ],
            [
             1,
             "#f0f921"
            ]
           ],
           "sequentialminus": [
            [
             0,
             "#0d0887"
            ],
            [
             0.1111111111111111,
             "#46039f"
            ],
            [
             0.2222222222222222,
             "#7201a8"
            ],
            [
             0.3333333333333333,
             "#9c179e"
            ],
            [
             0.4444444444444444,
             "#bd3786"
            ],
            [
             0.5555555555555556,
             "#d8576b"
            ],
            [
             0.6666666666666666,
             "#ed7953"
            ],
            [
             0.7777777777777778,
             "#fb9f3a"
            ],
            [
             0.8888888888888888,
             "#fdca26"
            ],
            [
             1,
             "#f0f921"
            ]
           ]
          },
          "colorway": [
           "#636efa",
           "#EF553B",
           "#00cc96",
           "#ab63fa",
           "#FFA15A",
           "#19d3f3",
           "#FF6692",
           "#B6E880",
           "#FF97FF",
           "#FECB52"
          ],
          "font": {
           "color": "#2a3f5f"
          },
          "geo": {
           "bgcolor": "white",
           "lakecolor": "white",
           "landcolor": "#E5ECF6",
           "showlakes": true,
           "showland": true,
           "subunitcolor": "white"
          },
          "hoverlabel": {
           "align": "left"
          },
          "hovermode": "closest",
          "mapbox": {
           "style": "light"
          },
          "paper_bgcolor": "white",
          "plot_bgcolor": "#E5ECF6",
          "polar": {
           "angularaxis": {
            "gridcolor": "white",
            "linecolor": "white",
            "ticks": ""
           },
           "bgcolor": "#E5ECF6",
           "radialaxis": {
            "gridcolor": "white",
            "linecolor": "white",
            "ticks": ""
           }
          },
          "scene": {
           "xaxis": {
            "backgroundcolor": "#E5ECF6",
            "gridcolor": "white",
            "gridwidth": 2,
            "linecolor": "white",
            "showbackground": true,
            "ticks": "",
            "zerolinecolor": "white"
           },
           "yaxis": {
            "backgroundcolor": "#E5ECF6",
            "gridcolor": "white",
            "gridwidth": 2,
            "linecolor": "white",
            "showbackground": true,
            "ticks": "",
            "zerolinecolor": "white"
           },
           "zaxis": {
            "backgroundcolor": "#E5ECF6",
            "gridcolor": "white",
            "gridwidth": 2,
            "linecolor": "white",
            "showbackground": true,
            "ticks": "",
            "zerolinecolor": "white"
           }
          },
          "shapedefaults": {
           "line": {
            "color": "#2a3f5f"
           }
          },
          "ternary": {
           "aaxis": {
            "gridcolor": "white",
            "linecolor": "white",
            "ticks": ""
           },
           "baxis": {
            "gridcolor": "white",
            "linecolor": "white",
            "ticks": ""
           },
           "bgcolor": "#E5ECF6",
           "caxis": {
            "gridcolor": "white",
            "linecolor": "white",
            "ticks": ""
           }
          },
          "title": {
           "x": 0.05
          },
          "xaxis": {
           "automargin": true,
           "gridcolor": "white",
           "linecolor": "white",
           "ticks": "",
           "title": {
            "standoff": 15
           },
           "zerolinecolor": "white",
           "zerolinewidth": 2
          },
          "yaxis": {
           "automargin": true,
           "gridcolor": "white",
           "linecolor": "white",
           "ticks": "",
           "title": {
            "standoff": 15
           },
           "zerolinecolor": "white",
           "zerolinewidth": 2
          }
         }
        }
       }
      },
      "text/html": [
       "<div>                            <div id=\"ebf5ae6d-5db6-4547-bf61-f10a3f988514\" class=\"plotly-graph-div\" style=\"height:525px; width:100%;\"></div>            <script type=\"text/javascript\">                require([\"plotly\"], function(Plotly) {                    window.PLOTLYENV=window.PLOTLYENV || {};                                    if (document.getElementById(\"ebf5ae6d-5db6-4547-bf61-f10a3f988514\")) {                    Plotly.newPlot(                        \"ebf5ae6d-5db6-4547-bf61-f10a3f988514\",                        [{\"branchvalues\":\"total\",\"domain\":{\"x\":[0.0,1.0],\"y\":[0.0,1.0]},\"hovertemplate\":\"labels=%{label}<br>Experience=%{value}<br>parent=%{parent}<br>id=%{id}<extra></extra>\",\"ids\":[\"Surgery/Abigail Marriot\",\"Pediatrics/Ala Bama\",\"Cardiology/Bailey Barret\",\"Pediatrics/Barry Bar\",\"PrimaryCare/Brenda Bing\",\"PrimaryCare/Bridget Brenda\",\"PrimaryCare/Chandler Bing\",\"Surgery/Christian Saint\",\"Surgery/Dave Yu\",\"PrimaryCare/Dwight Scott\",\"Surgery/Fred Man\",\"Pediatrics/Harry Kane\",\"PrimaryCare/Harry West\",\"PrimaryCare/Holly Hue\",\"PrimaryCare/Joesph Ross\",\"Cardiology/Joesph Walter\",\"Pediatrics/Jordan Michael\",\"PrimaryCare/Justin Time\",\"Cardiology/Kent Kendall\",\"Surgery/Kim Kimberly\",\"PrimaryCare/Kimberly Cone\",\"Cardiology/Luke Long\",\"Cardiology/Megan Bonco\",\"PrimaryCare/Michael Halpert\",\"PrimaryCare/Mike Joseph\",\"Pediatrics/Mike Myers\",\"PrimaryCare/Pamela Ding\",\"Surgery/Perry Pardon\",\"PrimaryCare/Phyllis Stanley\",\"PrimaryCare/Rosie Renter\",\"Cardiology/Ryan Kevin\",\"Pediatrics/Sally Sue\",\"Surgery/Sarah Ab\",\"Pediatrics/Ted Black\",\"Pediatrics/Ted Green\",\"Pediatrics/Ted Texas\",\"PrimaryCare/Tony Creed\",\"PrimaryCare/Trent Tye\",\"Cardiology/Tyler Conner\",\"Cardiology/Walter King\",\"Cardiology\",\"Pediatrics\",\"PrimaryCare\",\"Surgery\"],\"labels\":[\"Abigail Marriot\",\"Ala Bama\",\"Bailey Barret\",\"Barry Bar\",\"Brenda Bing\",\"Bridget Brenda\",\"Chandler Bing\",\"Christian Saint\",\"Dave Yu\",\"Dwight Scott\",\"Fred Man\",\"Harry Kane\",\"Harry West\",\"Holly Hue\",\"Joesph Ross\",\"Joesph Walter\",\"Jordan Michael\",\"Justin Time\",\"Kent Kendall\",\"Kim Kimberly\",\"Kimberly Cone\",\"Luke Long\",\"Megan Bonco\",\"Michael Halpert\",\"Mike Joseph\",\"Mike Myers\",\"Pamela Ding\",\"Perry Pardon\",\"Phyllis Stanley\",\"Rosie Renter\",\"Ryan Kevin\",\"Sally Sue\",\"Sarah Ab\",\"Ted Black\",\"Ted Green\",\"Ted Texas\",\"Tony Creed\",\"Trent Tye\",\"Tyler Conner\",\"Walter King\",\"Cardiology\",\"Pediatrics\",\"PrimaryCare\",\"Surgery\"],\"name\":\"\",\"parents\":[\"Surgery\",\"Pediatrics\",\"Cardiology\",\"Pediatrics\",\"PrimaryCare\",\"PrimaryCare\",\"PrimaryCare\",\"Surgery\",\"Surgery\",\"PrimaryCare\",\"Surgery\",\"Pediatrics\",\"PrimaryCare\",\"PrimaryCare\",\"PrimaryCare\",\"Cardiology\",\"Pediatrics\",\"PrimaryCare\",\"Cardiology\",\"Surgery\",\"PrimaryCare\",\"Cardiology\",\"Cardiology\",\"PrimaryCare\",\"PrimaryCare\",\"Pediatrics\",\"PrimaryCare\",\"Surgery\",\"PrimaryCare\",\"PrimaryCare\",\"Cardiology\",\"Pediatrics\",\"Surgery\",\"Pediatrics\",\"Pediatrics\",\"Pediatrics\",\"PrimaryCare\",\"PrimaryCare\",\"Cardiology\",\"Cardiology\",\"\",\"\",\"\",\"\"],\"values\":[25,28,20,28,16,16,16,23,24,14,25,28,10,11,15,18,30,17,22,25,10,17,19,14,17,30,14,22,12,10,20,30,25,26,27,30,13,10,20,17,153,257,215,169],\"type\":\"sunburst\"}],                        {\"template\":{\"data\":{\"histogram2dcontour\":[{\"type\":\"histogram2dcontour\",\"colorbar\":{\"outlinewidth\":0,\"ticks\":\"\"},\"colorscale\":[[0.0,\"#0d0887\"],[0.1111111111111111,\"#46039f\"],[0.2222222222222222,\"#7201a8\"],[0.3333333333333333,\"#9c179e\"],[0.4444444444444444,\"#bd3786\"],[0.5555555555555556,\"#d8576b\"],[0.6666666666666666,\"#ed7953\"],[0.7777777777777778,\"#fb9f3a\"],[0.8888888888888888,\"#fdca26\"],[1.0,\"#f0f921\"]]}],\"choropleth\":[{\"type\":\"choropleth\",\"colorbar\":{\"outlinewidth\":0,\"ticks\":\"\"}}],\"histogram2d\":[{\"type\":\"histogram2d\",\"colorbar\":{\"outlinewidth\":0,\"ticks\":\"\"},\"colorscale\":[[0.0,\"#0d0887\"],[0.1111111111111111,\"#46039f\"],[0.2222222222222222,\"#7201a8\"],[0.3333333333333333,\"#9c179e\"],[0.4444444444444444,\"#bd3786\"],[0.5555555555555556,\"#d8576b\"],[0.6666666666666666,\"#ed7953\"],[0.7777777777777778,\"#fb9f3a\"],[0.8888888888888888,\"#fdca26\"],[1.0,\"#f0f921\"]]}],\"heatmap\":[{\"type\":\"heatmap\",\"colorbar\":{\"outlinewidth\":0,\"ticks\":\"\"},\"colorscale\":[[0.0,\"#0d0887\"],[0.1111111111111111,\"#46039f\"],[0.2222222222222222,\"#7201a8\"],[0.3333333333333333,\"#9c179e\"],[0.4444444444444444,\"#bd3786\"],[0.5555555555555556,\"#d8576b\"],[0.6666666666666666,\"#ed7953\"],[0.7777777777777778,\"#fb9f3a\"],[0.8888888888888888,\"#fdca26\"],[1.0,\"#f0f921\"]]}],\"heatmapgl\":[{\"type\":\"heatmapgl\",\"colorbar\":{\"outlinewidth\":0,\"ticks\":\"\"},\"colorscale\":[[0.0,\"#0d0887\"],[0.1111111111111111,\"#46039f\"],[0.2222222222222222,\"#7201a8\"],[0.3333333333333333,\"#9c179e\"],[0.4444444444444444,\"#bd3786\"],[0.5555555555555556,\"#d8576b\"],[0.6666666666666666,\"#ed7953\"],[0.7777777777777778,\"#fb9f3a\"],[0.8888888888888888,\"#fdca26\"],[1.0,\"#f0f921\"]]}],\"contourcarpet\":[{\"type\":\"contourcarpet\",\"colorbar\":{\"outlinewidth\":0,\"ticks\":\"\"}}],\"contour\":[{\"type\":\"contour\",\"colorbar\":{\"outlinewidth\":0,\"ticks\":\"\"},\"colorscale\":[[0.0,\"#0d0887\"],[0.1111111111111111,\"#46039f\"],[0.2222222222222222,\"#7201a8\"],[0.3333333333333333,\"#9c179e\"],[0.4444444444444444,\"#bd3786\"],[0.5555555555555556,\"#d8576b\"],[0.6666666666666666,\"#ed7953\"],[0.7777777777777778,\"#fb9f3a\"],[0.8888888888888888,\"#fdca26\"],[1.0,\"#f0f921\"]]}],\"surface\":[{\"type\":\"surface\",\"colorbar\":{\"outlinewidth\":0,\"ticks\":\"\"},\"colorscale\":[[0.0,\"#0d0887\"],[0.1111111111111111,\"#46039f\"],[0.2222222222222222,\"#7201a8\"],[0.3333333333333333,\"#9c179e\"],[0.4444444444444444,\"#bd3786\"],[0.5555555555555556,\"#d8576b\"],[0.6666666666666666,\"#ed7953\"],[0.7777777777777778,\"#fb9f3a\"],[0.8888888888888888,\"#fdca26\"],[1.0,\"#f0f921\"]]}],\"mesh3d\":[{\"type\":\"mesh3d\",\"colorbar\":{\"outlinewidth\":0,\"ticks\":\"\"}}],\"scatter\":[{\"fillpattern\":{\"fillmode\":\"overlay\",\"size\":10,\"solidity\":0.2},\"type\":\"scatter\"}],\"parcoords\":[{\"type\":\"parcoords\",\"line\":{\"colorbar\":{\"outlinewidth\":0,\"ticks\":\"\"}}}],\"scatterpolargl\":[{\"type\":\"scatterpolargl\",\"marker\":{\"colorbar\":{\"outlinewidth\":0,\"ticks\":\"\"}}}],\"bar\":[{\"error_x\":{\"color\":\"#2a3f5f\"},\"error_y\":{\"color\":\"#2a3f5f\"},\"marker\":{\"line\":{\"color\":\"#E5ECF6\",\"width\":0.5},\"pattern\":{\"fillmode\":\"overlay\",\"size\":10,\"solidity\":0.2}},\"type\":\"bar\"}],\"scattergeo\":[{\"type\":\"scattergeo\",\"marker\":{\"colorbar\":{\"outlinewidth\":0,\"ticks\":\"\"}}}],\"scatterpolar\":[{\"type\":\"scatterpolar\",\"marker\":{\"colorbar\":{\"outlinewidth\":0,\"ticks\":\"\"}}}],\"histogram\":[{\"marker\":{\"pattern\":{\"fillmode\":\"overlay\",\"size\":10,\"solidity\":0.2}},\"type\":\"histogram\"}],\"scattergl\":[{\"type\":\"scattergl\",\"marker\":{\"colorbar\":{\"outlinewidth\":0,\"ticks\":\"\"}}}],\"scatter3d\":[{\"type\":\"scatter3d\",\"line\":{\"colorbar\":{\"outlinewidth\":0,\"ticks\":\"\"}},\"marker\":{\"colorbar\":{\"outlinewidth\":0,\"ticks\":\"\"}}}],\"scattermapbox\":[{\"type\":\"scattermapbox\",\"marker\":{\"colorbar\":{\"outlinewidth\":0,\"ticks\":\"\"}}}],\"scatterternary\":[{\"type\":\"scatterternary\",\"marker\":{\"colorbar\":{\"outlinewidth\":0,\"ticks\":\"\"}}}],\"scattercarpet\":[{\"type\":\"scattercarpet\",\"marker\":{\"colorbar\":{\"outlinewidth\":0,\"ticks\":\"\"}}}],\"carpet\":[{\"aaxis\":{\"endlinecolor\":\"#2a3f5f\",\"gridcolor\":\"white\",\"linecolor\":\"white\",\"minorgridcolor\":\"white\",\"startlinecolor\":\"#2a3f5f\"},\"baxis\":{\"endlinecolor\":\"#2a3f5f\",\"gridcolor\":\"white\",\"linecolor\":\"white\",\"minorgridcolor\":\"white\",\"startlinecolor\":\"#2a3f5f\"},\"type\":\"carpet\"}],\"table\":[{\"cells\":{\"fill\":{\"color\":\"#EBF0F8\"},\"line\":{\"color\":\"white\"}},\"header\":{\"fill\":{\"color\":\"#C8D4E3\"},\"line\":{\"color\":\"white\"}},\"type\":\"table\"}],\"barpolar\":[{\"marker\":{\"line\":{\"color\":\"#E5ECF6\",\"width\":0.5},\"pattern\":{\"fillmode\":\"overlay\",\"size\":10,\"solidity\":0.2}},\"type\":\"barpolar\"}],\"pie\":[{\"automargin\":true,\"type\":\"pie\"}]},\"layout\":{\"autotypenumbers\":\"strict\",\"colorway\":[\"#636efa\",\"#EF553B\",\"#00cc96\",\"#ab63fa\",\"#FFA15A\",\"#19d3f3\",\"#FF6692\",\"#B6E880\",\"#FF97FF\",\"#FECB52\"],\"font\":{\"color\":\"#2a3f5f\"},\"hovermode\":\"closest\",\"hoverlabel\":{\"align\":\"left\"},\"paper_bgcolor\":\"white\",\"plot_bgcolor\":\"#E5ECF6\",\"polar\":{\"bgcolor\":\"#E5ECF6\",\"angularaxis\":{\"gridcolor\":\"white\",\"linecolor\":\"white\",\"ticks\":\"\"},\"radialaxis\":{\"gridcolor\":\"white\",\"linecolor\":\"white\",\"ticks\":\"\"}},\"ternary\":{\"bgcolor\":\"#E5ECF6\",\"aaxis\":{\"gridcolor\":\"white\",\"linecolor\":\"white\",\"ticks\":\"\"},\"baxis\":{\"gridcolor\":\"white\",\"linecolor\":\"white\",\"ticks\":\"\"},\"caxis\":{\"gridcolor\":\"white\",\"linecolor\":\"white\",\"ticks\":\"\"}},\"coloraxis\":{\"colorbar\":{\"outlinewidth\":0,\"ticks\":\"\"}},\"colorscale\":{\"sequential\":[[0.0,\"#0d0887\"],[0.1111111111111111,\"#46039f\"],[0.2222222222222222,\"#7201a8\"],[0.3333333333333333,\"#9c179e\"],[0.4444444444444444,\"#bd3786\"],[0.5555555555555556,\"#d8576b\"],[0.6666666666666666,\"#ed7953\"],[0.7777777777777778,\"#fb9f3a\"],[0.8888888888888888,\"#fdca26\"],[1.0,\"#f0f921\"]],\"sequentialminus\":[[0.0,\"#0d0887\"],[0.1111111111111111,\"#46039f\"],[0.2222222222222222,\"#7201a8\"],[0.3333333333333333,\"#9c179e\"],[0.4444444444444444,\"#bd3786\"],[0.5555555555555556,\"#d8576b\"],[0.6666666666666666,\"#ed7953\"],[0.7777777777777778,\"#fb9f3a\"],[0.8888888888888888,\"#fdca26\"],[1.0,\"#f0f921\"]],\"diverging\":[[0,\"#8e0152\"],[0.1,\"#c51b7d\"],[0.2,\"#de77ae\"],[0.3,\"#f1b6da\"],[0.4,\"#fde0ef\"],[0.5,\"#f7f7f7\"],[0.6,\"#e6f5d0\"],[0.7,\"#b8e186\"],[0.8,\"#7fbc41\"],[0.9,\"#4d9221\"],[1,\"#276419\"]]},\"xaxis\":{\"gridcolor\":\"white\",\"linecolor\":\"white\",\"ticks\":\"\",\"title\":{\"standoff\":15},\"zerolinecolor\":\"white\",\"automargin\":true,\"zerolinewidth\":2},\"yaxis\":{\"gridcolor\":\"white\",\"linecolor\":\"white\",\"ticks\":\"\",\"title\":{\"standoff\":15},\"zerolinecolor\":\"white\",\"automargin\":true,\"zerolinewidth\":2},\"scene\":{\"xaxis\":{\"backgroundcolor\":\"#E5ECF6\",\"gridcolor\":\"white\",\"linecolor\":\"white\",\"showbackground\":true,\"ticks\":\"\",\"zerolinecolor\":\"white\",\"gridwidth\":2},\"yaxis\":{\"backgroundcolor\":\"#E5ECF6\",\"gridcolor\":\"white\",\"linecolor\":\"white\",\"showbackground\":true,\"ticks\":\"\",\"zerolinecolor\":\"white\",\"gridwidth\":2},\"zaxis\":{\"backgroundcolor\":\"#E5ECF6\",\"gridcolor\":\"white\",\"linecolor\":\"white\",\"showbackground\":true,\"ticks\":\"\",\"zerolinecolor\":\"white\",\"gridwidth\":2}},\"shapedefaults\":{\"line\":{\"color\":\"#2a3f5f\"}},\"annotationdefaults\":{\"arrowcolor\":\"#2a3f5f\",\"arrowhead\":0,\"arrowwidth\":1},\"geo\":{\"bgcolor\":\"white\",\"landcolor\":\"#E5ECF6\",\"subunitcolor\":\"white\",\"showland\":true,\"showlakes\":true,\"lakecolor\":\"white\"},\"title\":{\"x\":0.05},\"mapbox\":{\"style\":\"light\"}}},\"legend\":{\"tracegroupgap\":0},\"margin\":{\"t\":60}},                        {\"responsive\": true}                    ).then(function(){\n",
       "                            \n",
       "var gd = document.getElementById('ebf5ae6d-5db6-4547-bf61-f10a3f988514');\n",
       "var x = new MutationObserver(function (mutations, observer) {{\n",
       "        var display = window.getComputedStyle(gd).display;\n",
       "        if (!display || display === 'none') {{\n",
       "            console.log([gd, 'removed!']);\n",
       "            Plotly.purge(gd);\n",
       "            observer.disconnect();\n",
       "        }}\n",
       "}});\n",
       "\n",
       "// Listen for the removal of the full notebook cells\n",
       "var notebookContainer = gd.closest('#notebook-container');\n",
       "if (notebookContainer) {{\n",
       "    x.observe(notebookContainer, {childList: true});\n",
       "}}\n",
       "\n",
       "// Listen for the clearing of the current output cell\n",
       "var outputEl = gd.closest('.output');\n",
       "if (outputEl) {{\n",
       "    x.observe(outputEl, {childList: true});\n",
       "}}\n",
       "\n",
       "                        })                };                });            </script>        </div>"
      ]
     },
     "metadata": {},
     "output_type": "display_data"
    }
   ],
   "source": [
    "df_providers[\"Experience\"] = (pd.to_datetime('today').year- df_providers[\"ProviderDateOnStaff\"].dt.year)\n",
    "df_providers\n",
    "fig = px.sunburst(df_providers, path=['ProviderSpecialty','ProviderName'], values =\"Experience\" )\n",
    "fig.show()\n"
   ]
  },
  {
   "cell_type": "markdown",
   "id": "11df7da3",
   "metadata": {},
   "source": [
    "# 9.Create a subplot on x = np.arange(0, 10, 0.1) , y = np.sin(np.pi * x) + x with 2 rows & 2 columns with object oriented approach.\n"
   ]
  },
  {
   "cell_type": "code",
   "execution_count": 6,
   "id": "886f3fd8",
   "metadata": {},
   "outputs": [
    {
     "data": {
      "image/png": "[encoded data removed]",
      "text/plain": [
       "<Figure size 640x480 with 2 Axes>"
      ]
     },
     "execution_count": 6,
     "metadata": {},
     "output_type": "execute_result"
    },
    {
     "data": {
      "image/png": "[encoded data removed]",
      "text/plain": [
       "<Figure size 640x480 with 2 Axes>"
      ]
     },
     "metadata": {},
     "output_type": "display_data"
    }
   ],
   "source": [
    "x = np.arange(0, 10, 0.1)\n",
    "y = np.sin(np.pi * x) + x\n",
    "fig, axes = plt.subplots(nrows = 1, ncols = 2)\n",
    "for ax in axes:\n",
    "    ax.plot(x,y,\"g\")\n",
    "    ax.set_xlabel('X')\n",
    "    ax.set_ylabel('Y')\n",
    "    ax.set_title('Title')\n",
    "fig\n",
    "\n"
   ]
  },
  {
   "cell_type": "markdown",
   "id": "467309a4",
   "metadata": {},
   "source": [
    "# 10.Get the number of patients based on ReasonForVisit and EDDisposition (use stack/unstack functions).\n"
   ]
  },
  {
   "cell_type": "code",
   "execution_count": 277,
   "id": "885821d2",
   "metadata": {},
   "outputs": [
    {
     "name": "stdout",
     "output_type": "stream",
     "text": [
      "EDDisposition  ReasonForVisit     \n",
      "Admitted       Accident                39\n",
      "               Bleeding                16\n",
      "               Car Accident            17\n",
      "               Chest Pain              94\n",
      "               Fever                   46\n",
      "               Gun Shot                16\n",
      "               Migraine                47\n",
      "               Pneumonia              136\n",
      "               Shortness of Breath     72\n",
      "               Stomach Ache            32\n",
      "Discharged     Bleeding                15\n",
      "               Chest Pain              15\n",
      "               Cough                    1\n",
      "               Fever                  188\n",
      "               Intoxication            30\n",
      "               Laceration              30\n",
      "               Migraine               109\n",
      "               Pneumonia               65\n",
      "               Shortness of Breath     77\n",
      "               Stomach Ache           154\n",
      "Name: PatientID, dtype: int64\n"
     ]
    }
   ],
   "source": [
    "grouped_count = df_ed_visits.groupby([\"EDDisposition\",\"ReasonForVisit\"]).count()\n",
    "stacked = grouped_count.stack()\n",
    "unstack_level = grouped_count.stack(level=0).unstack()\n",
    "print(unstack_level[\"PatientID\"])\n"
   ]
  },
  {
   "cell_type": "markdown",
   "id": "aedea107",
   "metadata": {},
   "source": [
    "# 11. Create a dataframe with date and time as columns, where the values are the discharge time from readmissionregistry sheet.\n"
   ]
  },
  {
   "cell_type": "code",
   "execution_count": 49,
   "id": "361c61a8",
   "metadata": {},
   "outputs": [
    {
     "data": {
      "text/html": [
       "<div>\n",
       "<style scoped>\n",
       "    .dataframe tbody tr th:only-of-type {\n",
       "        vertical-align: middle;\n",
       "    }\n",
       "\n",
       "    .dataframe tbody tr th {\n",
       "        vertical-align: top;\n",
       "    }\n",
       "\n",
       "    .dataframe thead th {\n",
       "        text-align: right;\n",
       "    }\n",
       "</style>\n",
       "<table border=\"1\" class=\"dataframe\">\n",
       "  <thead>\n",
       "    <tr style=\"text-align: right;\">\n",
       "      <th></th>\n",
       "      <th>Date</th>\n",
       "      <th>Time</th>\n",
       "    </tr>\n",
       "  </thead>\n",
       "  <tbody>\n",
       "    <tr>\n",
       "      <th>0</th>\n",
       "      <td>2018-01-04</td>\n",
       "      <td>19:59:31.391000</td>\n",
       "    </tr>\n",
       "    <tr>\n",
       "      <th>1</th>\n",
       "      <td>2018-01-04</td>\n",
       "      <td>21:28:51.898000</td>\n",
       "    </tr>\n",
       "    <tr>\n",
       "      <th>2</th>\n",
       "      <td>2018-01-04</td>\n",
       "      <td>22:28:23.672000</td>\n",
       "    </tr>\n",
       "    <tr>\n",
       "      <th>3</th>\n",
       "      <td>2018-01-05</td>\n",
       "      <td>05:47:04.933000</td>\n",
       "    </tr>\n",
       "    <tr>\n",
       "      <th>4</th>\n",
       "      <td>2018-01-05</td>\n",
       "      <td>14:18:30.029000</td>\n",
       "    </tr>\n",
       "    <tr>\n",
       "      <th>...</th>\n",
       "      <td>...</td>\n",
       "      <td>...</td>\n",
       "    </tr>\n",
       "    <tr>\n",
       "      <th>715</th>\n",
       "      <td>2018-03-07</td>\n",
       "      <td>21:22:10.061000</td>\n",
       "    </tr>\n",
       "    <tr>\n",
       "      <th>716</th>\n",
       "      <td>2018-03-08</td>\n",
       "      <td>02:43:18.749000</td>\n",
       "    </tr>\n",
       "    <tr>\n",
       "      <th>717</th>\n",
       "      <td>2018-03-08</td>\n",
       "      <td>09:27:18.377000</td>\n",
       "    </tr>\n",
       "    <tr>\n",
       "      <th>718</th>\n",
       "      <td>2018-03-10</td>\n",
       "      <td>06:06:12.068000</td>\n",
       "    </tr>\n",
       "    <tr>\n",
       "      <th>719</th>\n",
       "      <td>2018-03-10</td>\n",
       "      <td>20:38:30.568000</td>\n",
       "    </tr>\n",
       "  </tbody>\n",
       "</table>\n",
       "<p>720 rows × 2 columns</p>\n",
       "</div>"
      ],
      "text/plain": [
       "           Date             Time\n",
       "0    2018-01-04  19:59:31.391000\n",
       "1    2018-01-04  21:28:51.898000\n",
       "2    2018-01-04  22:28:23.672000\n",
       "3    2018-01-05  05:47:04.933000\n",
       "4    2018-01-05  14:18:30.029000\n",
       "..          ...              ...\n",
       "715  2018-03-07  21:22:10.061000\n",
       "716  2018-03-08  02:43:18.749000\n",
       "717  2018-03-08  09:27:18.377000\n",
       "718  2018-03-10  06:06:12.068000\n",
       "719  2018-03-10  20:38:30.568000\n",
       "\n",
       "[720 rows x 2 columns]"
      ]
     },
     "execution_count": 49,
     "metadata": {},
     "output_type": "execute_result"
    }
   ],
   "source": [
    "df_re_admission_registry[\"Date\"] = pd.DatetimeIndex(df_re_admission_registry[\"DischargeDate\"]).date\n",
    "df_re_admission_registry[\"Time\"] = pd.DatetimeIndex(df_re_admission_registry[\"DischargeDate\"]).time\n",
    "df_new = df_re_admission_registry[[\"Date\", \"Time\"]].copy()\n",
    "df_new"
   ]
  },
  {
   "cell_type": "markdown",
   "id": "bf09250a",
   "metadata": {},
   "source": [
    "# 12.Create a visualization on the count of patients based on primary diagnosis.\n"
   ]
  },
  {
   "cell_type": "code",
   "execution_count": 284,
   "id": "fa75124a",
   "metadata": {},
   "outputs": [
    {
     "data": {
      "text/plain": [
       "<Axes: xlabel='PatientID', ylabel='PrimaryDiagnosis'>"
      ]
     },
     "execution_count": 284,
     "metadata": {},
     "output_type": "execute_result"
    },
    {
     "data": {
      "image/png": "[encoded data removed]",
      "text/plain": [
       "<Figure size 640x480 with 1 Axes>"
      ]
     },
     "metadata": {},
     "output_type": "display_data"
    }
   ],
   "source": [
    "sns.barplot(data = df_re_admission_registry,x = \"PatientID\", y = \"PrimaryDiagnosis\")"
   ]
  },
  {
   "cell_type": "markdown",
   "id": "98958f33",
   "metadata": {},
   "source": [
    "# 13. Create a bar chart on service & expected length of stay.\n"
   ]
  },
  {
   "cell_type": "code",
   "execution_count": 213,
   "id": "682e32a9",
   "metadata": {},
   "outputs": [
    {
     "data": {
      "text/plain": [
       "<Axes: xlabel='Service', ylabel='ExpectedLOS'>"
      ]
     },
     "execution_count": 213,
     "metadata": {},
     "output_type": "execute_result"
    },
    {
     "data": {
      "image/png": "[encoded data removed]",
      "text/plain": [
       "<Figure size 1000x500 with 1 Axes>"
      ]
     },
     "metadata": {},
     "output_type": "display_data"
    }
   ],
   "source": [
    "fig, ax = plt.subplots(figsize=(10, 5))\n",
    "sns.barplot(data = df_re_admission_registry, x = \"Service\",y = \"ExpectedLOS\")\n"
   ]
  },
  {
   "cell_type": "markdown",
   "id": "b353a067",
   "metadata": {},
   "source": [
    "# 14. Find the count of Spanish Speaking patients.\n"
   ]
  },
  {
   "cell_type": "code",
   "execution_count": 169,
   "id": "5aa0b8e7",
   "metadata": {},
   "outputs": [
    {
     "data": {
      "text/plain": [
       "110"
      ]
     },
     "execution_count": 169,
     "metadata": {},
     "output_type": "execute_result"
    }
   ],
   "source": [
    "df_patients[\"PatientID\"][df_patients[\"Language\"]==\"Spanish\"].count()"
   ]
  },
  {
   "cell_type": "markdown",
   "id": "97c8c1d1",
   "metadata": {},
   "source": [
    "# 17. Connect to sql and write a query to get Ambulatory visit record's year. (Attach screenshots for this question)\n"
   ]
  },
  {
   "cell_type": "code",
   "execution_count": 107,
   "id": "dd19d6c4",
   "metadata": {},
   "outputs": [
    {
     "name": "stdout",
     "output_type": "stream",
     "text": [
      "  RecordYear\n",
      "0       2019\n"
     ]
    }
   ],
   "source": [
    "import pymysql\n",
    "\n",
    "import pandas as a\n",
    "\n",
    "conn=pymysql.connect(host='localhost',port=int(3306),user='root',passwd='Barkha*1984',db='pythonhackathon')\n",
    "\n",
    "df=a.read_sql_query(\"SELECT distinct(SUBSTRING_INDEX(DateofVisit,'/',-1)) as RecordYear from ambulatory\",conn)\n",
    "\n",
    "print(df)"
   ]
  },
  {
   "cell_type": "markdown",
   "id": "1a478e2f",
   "metadata": {},
   "source": [
    "# 18. Display using a donut chart the patient count in the ReAdmissionRegistry.\n"
   ]
  },
  {
   "cell_type": "code",
   "execution_count": null,
   "id": "67d11cb6",
   "metadata": {},
   "outputs": [],
   "source": [
    "df_re_admission_registry[]"
   ]
  },
  {
   "cell_type": "markdown",
   "id": "a6714212",
   "metadata": {},
   "source": [
    "# 23. Add column 'Age' in Patient table.\n"
   ]
  },
  {
   "cell_type": "code",
   "execution_count": 8,
   "id": "c1238a65",
   "metadata": {},
   "outputs": [
    {
     "data": {
      "text/html": [
       "<div>\n",
       "<style scoped>\n",
       "    .dataframe tbody tr th:only-of-type {\n",
       "        vertical-align: middle;\n",
       "    }\n",
       "\n",
       "    .dataframe tbody tr th {\n",
       "        vertical-align: top;\n",
       "    }\n",
       "\n",
       "    .dataframe thead th {\n",
       "        text-align: right;\n",
       "    }\n",
       "</style>\n",
       "<table border=\"1\" class=\"dataframe\">\n",
       "  <thead>\n",
       "    <tr style=\"text-align: right;\">\n",
       "      <th></th>\n",
       "      <th>PatientID</th>\n",
       "      <th>FirstName</th>\n",
       "      <th>LastName</th>\n",
       "      <th>DateOfBirth</th>\n",
       "      <th>Gender</th>\n",
       "      <th>Race</th>\n",
       "      <th>Language</th>\n",
       "      <th>Date</th>\n",
       "      <th>Age</th>\n",
       "    </tr>\n",
       "  </thead>\n",
       "  <tbody>\n",
       "    <tr>\n",
       "      <th>0</th>\n",
       "      <td>1</td>\n",
       "      <td>Lanni</td>\n",
       "      <td>Sue</td>\n",
       "      <td>1960-01-01 00:00:00.000</td>\n",
       "      <td>Male</td>\n",
       "      <td>White</td>\n",
       "      <td>English</td>\n",
       "      <td>1960-01-01</td>\n",
       "      <td>63</td>\n",
       "    </tr>\n",
       "    <tr>\n",
       "      <th>1</th>\n",
       "      <td>2</td>\n",
       "      <td>Far</td>\n",
       "      <td>Myers</td>\n",
       "      <td>1985-11-15 02:08:42.090</td>\n",
       "      <td>Male</td>\n",
       "      <td>White</td>\n",
       "      <td>English</td>\n",
       "      <td>1985-11-15</td>\n",
       "      <td>37</td>\n",
       "    </tr>\n",
       "    <tr>\n",
       "      <th>2</th>\n",
       "      <td>3</td>\n",
       "      <td>Devlin</td>\n",
       "      <td>Michael</td>\n",
       "      <td>1976-04-15 02:52:09.762</td>\n",
       "      <td>Male</td>\n",
       "      <td>White</td>\n",
       "      <td>English</td>\n",
       "      <td>1976-04-15</td>\n",
       "      <td>46</td>\n",
       "    </tr>\n",
       "    <tr>\n",
       "      <th>3</th>\n",
       "      <td>4</td>\n",
       "      <td>Carmine</td>\n",
       "      <td>Texas</td>\n",
       "      <td>1968-10-15 03:32:13.635</td>\n",
       "      <td>Male</td>\n",
       "      <td>White</td>\n",
       "      <td>English</td>\n",
       "      <td>1968-10-15</td>\n",
       "      <td>54</td>\n",
       "    </tr>\n",
       "    <tr>\n",
       "      <th>4</th>\n",
       "      <td>5</td>\n",
       "      <td>Tann</td>\n",
       "      <td>Bama</td>\n",
       "      <td>1962-05-01 19:12:58.950</td>\n",
       "      <td>Male</td>\n",
       "      <td>White</td>\n",
       "      <td>English</td>\n",
       "      <td>1962-05-01</td>\n",
       "      <td>60</td>\n",
       "    </tr>\n",
       "    <tr>\n",
       "      <th>...</th>\n",
       "      <td>...</td>\n",
       "      <td>...</td>\n",
       "      <td>...</td>\n",
       "      <td>...</td>\n",
       "      <td>...</td>\n",
       "      <td>...</td>\n",
       "      <td>...</td>\n",
       "      <td>...</td>\n",
       "      <td>...</td>\n",
       "    </tr>\n",
       "    <tr>\n",
       "      <th>940</th>\n",
       "      <td>941</td>\n",
       "      <td>Wat</td>\n",
       "      <td>Fideler</td>\n",
       "      <td>1986-05-26 00:01:19.761</td>\n",
       "      <td>Male</td>\n",
       "      <td>Black/African-American</td>\n",
       "      <td>English</td>\n",
       "      <td>1986-05-26</td>\n",
       "      <td>36</td>\n",
       "    </tr>\n",
       "    <tr>\n",
       "      <th>941</th>\n",
       "      <td>942</td>\n",
       "      <td>Wandie</td>\n",
       "      <td>Baythrop</td>\n",
       "      <td>1970-06-10 21:41:03.814</td>\n",
       "      <td>Male</td>\n",
       "      <td>Black/African-American</td>\n",
       "      <td>English</td>\n",
       "      <td>1970-06-10</td>\n",
       "      <td>52</td>\n",
       "    </tr>\n",
       "    <tr>\n",
       "      <th>942</th>\n",
       "      <td>943</td>\n",
       "      <td>Diahann</td>\n",
       "      <td>Smeeton</td>\n",
       "      <td>1983-01-08 21:49:27.884</td>\n",
       "      <td>Male</td>\n",
       "      <td>Black/African-American</td>\n",
       "      <td>English</td>\n",
       "      <td>1983-01-08</td>\n",
       "      <td>40</td>\n",
       "    </tr>\n",
       "    <tr>\n",
       "      <th>943</th>\n",
       "      <td>944</td>\n",
       "      <td>Panchito</td>\n",
       "      <td>Sharple</td>\n",
       "      <td>1963-06-05 07:57:05.569</td>\n",
       "      <td>Male</td>\n",
       "      <td>Black/African-American</td>\n",
       "      <td>English</td>\n",
       "      <td>1963-06-05</td>\n",
       "      <td>59</td>\n",
       "    </tr>\n",
       "    <tr>\n",
       "      <th>944</th>\n",
       "      <td>945</td>\n",
       "      <td>Walsh</td>\n",
       "      <td>Calvie</td>\n",
       "      <td>1972-08-06 03:40:03.454</td>\n",
       "      <td>Male</td>\n",
       "      <td>Black/African-American</td>\n",
       "      <td>English</td>\n",
       "      <td>1972-08-06</td>\n",
       "      <td>50</td>\n",
       "    </tr>\n",
       "  </tbody>\n",
       "</table>\n",
       "<p>945 rows × 9 columns</p>\n",
       "</div>"
      ],
      "text/plain": [
       "     PatientID FirstName  LastName             DateOfBirth Gender  \\\n",
       "0            1     Lanni       Sue 1960-01-01 00:00:00.000   Male   \n",
       "1            2       Far     Myers 1985-11-15 02:08:42.090   Male   \n",
       "2            3   Devlin    Michael 1976-04-15 02:52:09.762   Male   \n",
       "3            4   Carmine     Texas 1968-10-15 03:32:13.635   Male   \n",
       "4            5     Tann       Bama 1962-05-01 19:12:58.950   Male   \n",
       "..         ...       ...       ...                     ...    ...   \n",
       "940        941       Wat   Fideler 1986-05-26 00:01:19.761   Male   \n",
       "941        942    Wandie  Baythrop 1970-06-10 21:41:03.814   Male   \n",
       "942        943   Diahann   Smeeton 1983-01-08 21:49:27.884   Male   \n",
       "943        944  Panchito   Sharple 1963-06-05 07:57:05.569   Male   \n",
       "944        945     Walsh    Calvie 1972-08-06 03:40:03.454   Male   \n",
       "\n",
       "                       Race Language        Date  Age  \n",
       "0                     White  English  1960-01-01   63  \n",
       "1                     White  English  1985-11-15   37  \n",
       "2                     White  English  1976-04-15   46  \n",
       "3                     White  English  1968-10-15   54  \n",
       "4                     White  English  1962-05-01   60  \n",
       "..                      ...      ...         ...  ...  \n",
       "940  Black/African-American  English  1986-05-26   36  \n",
       "941  Black/African-American  English  1970-06-10   52  \n",
       "942  Black/African-American  English  1983-01-08   40  \n",
       "943  Black/African-American  English  1963-06-05   59  \n",
       "944  Black/African-American  English  1972-08-06   50  \n",
       "\n",
       "[945 rows x 9 columns]"
      ]
     },
     "execution_count": 8,
     "metadata": {},
     "output_type": "execute_result"
    }
   ],
   "source": [
    "def age(born):\n",
    "    born = datetime.strptime(born, \"%Y-%m-%d\").date()\n",
    "    today = date.today()\n",
    "    return today.year - born.year - ((today.month, today.day) < (born.month, born.day))\n",
    "df_patients['Date'] = (pd.to_datetime(df_patients['DateOfBirth']).dt.date).astype(str)\n",
    "df_patients['Age'] = df_patients['Date'].apply(age)\n",
    "df_patients"
   ]
  },
  {
   "cell_type": "markdown",
   "id": "a54eaadb",
   "metadata": {},
   "source": [
    "# 41. Find the age prone to get stroke.\n"
   ]
  },
  {
   "cell_type": "code",
   "execution_count": null,
   "id": "4cdd062c",
   "metadata": {},
   "outputs": [],
   "source": []
  },
  {
   "cell_type": "markdown",
   "id": "38639123",
   "metadata": {},
   "source": [
    "# 42. Calculate mortality by diagnosis.\n"
   ]
  },
  {
   "cell_type": "code",
   "execution_count": 125,
   "id": "450e6afa",
   "metadata": {},
   "outputs": [
    {
     "data": {
      "text/plain": [
       "PrimaryDiagnosis\n",
       "AMI                    48\n",
       "Afib                   11\n",
       "Broken Leg              9\n",
       "Diabetes               64\n",
       "Fever                  19\n",
       "Flu                    80\n",
       "Heart Failure          78\n",
       "Hip Fracture           23\n",
       "Hypertension           50\n",
       "Kidney Failure         20\n",
       "Knee Replacement       23\n",
       "Laceration             29\n",
       "Migraine               12\n",
       "Pain                    7\n",
       "Pneumonia             177\n",
       "Spinal Cord Injury      2\n",
       "Stroke                 68\n",
       "Name: ExpectedMortality, dtype: int64"
      ]
     },
     "execution_count": 125,
     "metadata": {},
     "output_type": "execute_result"
    }
   ],
   "source": [
    "by_diaganosis = df_re_admission_registry.groupby(\"PrimaryDiagnosis\").count()\n",
    "by_diaganosis[\"ExpectedMortality\"]"
   ]
  },
  {
   "cell_type": "code",
   "execution_count": null,
   "id": "3dc081ba",
   "metadata": {},
   "outputs": [],
   "source": []
  },
  {
   "cell_type": "markdown",
   "id": "9bb9776b",
   "metadata": {},
   "source": [
    "# 43. Details of patients whose first name or last name contains \"lau\""
   ]
  },
  {
   "cell_type": "code",
   "execution_count": 7,
   "id": "208aca09",
   "metadata": {},
   "outputs": [],
   "source": [
    "newdf = df_patients[(df_patients['FirstName'].str.contains(\"lau\", case = False) ) | (df_patients['LastName'].str.contains(\"lau\",case = False))]"
   ]
  },
  {
   "cell_type": "code",
   "execution_count": 8,
   "id": "a6e6985a",
   "metadata": {},
   "outputs": [
    {
     "data": {
      "text/html": [
       "<div>\n",
       "<style scoped>\n",
       "    .dataframe tbody tr th:only-of-type {\n",
       "        vertical-align: middle;\n",
       "    }\n",
       "\n",
       "    .dataframe tbody tr th {\n",
       "        vertical-align: top;\n",
       "    }\n",
       "\n",
       "    .dataframe thead th {\n",
       "        text-align: right;\n",
       "    }\n",
       "</style>\n",
       "<table border=\"1\" class=\"dataframe\">\n",
       "  <thead>\n",
       "    <tr style=\"text-align: right;\">\n",
       "      <th></th>\n",
       "      <th>PatientID</th>\n",
       "      <th>FirstName</th>\n",
       "      <th>LastName</th>\n",
       "      <th>DateOfBirth</th>\n",
       "      <th>Gender</th>\n",
       "      <th>Race</th>\n",
       "      <th>Language</th>\n",
       "    </tr>\n",
       "  </thead>\n",
       "  <tbody>\n",
       "    <tr>\n",
       "      <th>282</th>\n",
       "      <td>283</td>\n",
       "      <td>Lauren</td>\n",
       "      <td>Gaskal</td>\n",
       "      <td>1962-05-08 01:54:00.111</td>\n",
       "      <td>Female</td>\n",
       "      <td>Black/African-American</td>\n",
       "      <td>English</td>\n",
       "    </tr>\n",
       "    <tr>\n",
       "      <th>322</th>\n",
       "      <td>323</td>\n",
       "      <td>Lauren</td>\n",
       "      <td>Foort</td>\n",
       "      <td>1960-06-23 20:07:53.045</td>\n",
       "      <td>Female</td>\n",
       "      <td>White</td>\n",
       "      <td>English</td>\n",
       "    </tr>\n",
       "    <tr>\n",
       "      <th>369</th>\n",
       "      <td>370</td>\n",
       "      <td>Zulauf</td>\n",
       "      <td>Ellingham</td>\n",
       "      <td>1982-12-17 16:27:56.391</td>\n",
       "      <td>Female</td>\n",
       "      <td>White</td>\n",
       "      <td>English</td>\n",
       "    </tr>\n",
       "    <tr>\n",
       "      <th>382</th>\n",
       "      <td>383</td>\n",
       "      <td>Zulauf</td>\n",
       "      <td>LLC</td>\n",
       "      <td>1969-03-16 07:48:49.338</td>\n",
       "      <td>Female</td>\n",
       "      <td>White</td>\n",
       "      <td>English</td>\n",
       "    </tr>\n",
       "    <tr>\n",
       "      <th>454</th>\n",
       "      <td>455</td>\n",
       "      <td>Zulauf</td>\n",
       "      <td>Alvar</td>\n",
       "      <td>1961-10-02 08:24:17.334</td>\n",
       "      <td>Female</td>\n",
       "      <td>White</td>\n",
       "      <td>English</td>\n",
       "    </tr>\n",
       "    <tr>\n",
       "      <th>463</th>\n",
       "      <td>464</td>\n",
       "      <td>Zulauf</td>\n",
       "      <td>Manske</td>\n",
       "      <td>1965-06-22 02:49:28.667</td>\n",
       "      <td>Female</td>\n",
       "      <td>White</td>\n",
       "      <td>English</td>\n",
       "    </tr>\n",
       "    <tr>\n",
       "      <th>818</th>\n",
       "      <td>819</td>\n",
       "      <td>Zulauf</td>\n",
       "      <td>Bitcheno</td>\n",
       "      <td>1967-04-02 07:17:53.635</td>\n",
       "      <td>Female</td>\n",
       "      <td>White</td>\n",
       "      <td>English</td>\n",
       "    </tr>\n",
       "    <tr>\n",
       "      <th>830</th>\n",
       "      <td>831</td>\n",
       "      <td>Zulauf</td>\n",
       "      <td>O'Shavlan</td>\n",
       "      <td>1970-05-17 08:09:28.988</td>\n",
       "      <td>Female</td>\n",
       "      <td>White</td>\n",
       "      <td>English</td>\n",
       "    </tr>\n",
       "    <tr>\n",
       "      <th>850</th>\n",
       "      <td>851</td>\n",
       "      <td>Lemmy</td>\n",
       "      <td>Klausen</td>\n",
       "      <td>1973-06-18 06:19:43.475</td>\n",
       "      <td>Female</td>\n",
       "      <td>White</td>\n",
       "      <td>English</td>\n",
       "    </tr>\n",
       "    <tr>\n",
       "      <th>906</th>\n",
       "      <td>907</td>\n",
       "      <td>Jerrilyn</td>\n",
       "      <td>Klausen</td>\n",
       "      <td>1979-09-04 13:05:57.870</td>\n",
       "      <td>Male</td>\n",
       "      <td>Black/African-American</td>\n",
       "      <td>English</td>\n",
       "    </tr>\n",
       "    <tr>\n",
       "      <th>910</th>\n",
       "      <td>911</td>\n",
       "      <td>Zulauf</td>\n",
       "      <td>Orbine</td>\n",
       "      <td>1973-06-26 03:13:50.449</td>\n",
       "      <td>Male</td>\n",
       "      <td>Black/African-American</td>\n",
       "      <td>English</td>\n",
       "    </tr>\n",
       "  </tbody>\n",
       "</table>\n",
       "</div>"
      ],
      "text/plain": [
       "     PatientID FirstName   LastName             DateOfBirth  Gender  \\\n",
       "282        283    Lauren     Gaskal 1962-05-08 01:54:00.111  Female   \n",
       "322        323    Lauren      Foort 1960-06-23 20:07:53.045  Female   \n",
       "369        370    Zulauf  Ellingham 1982-12-17 16:27:56.391  Female   \n",
       "382        383    Zulauf        LLC 1969-03-16 07:48:49.338  Female   \n",
       "454        455    Zulauf      Alvar 1961-10-02 08:24:17.334  Female   \n",
       "463        464    Zulauf     Manske 1965-06-22 02:49:28.667  Female   \n",
       "818        819    Zulauf   Bitcheno 1967-04-02 07:17:53.635  Female   \n",
       "830        831    Zulauf  O'Shavlan 1970-05-17 08:09:28.988  Female   \n",
       "850        851     Lemmy    Klausen 1973-06-18 06:19:43.475  Female   \n",
       "906        907  Jerrilyn    Klausen 1979-09-04 13:05:57.870    Male   \n",
       "910        911    Zulauf     Orbine 1973-06-26 03:13:50.449    Male   \n",
       "\n",
       "                       Race Language  \n",
       "282  Black/African-American  English  \n",
       "322                   White  English  \n",
       "369                   White  English  \n",
       "382                   White  English  \n",
       "454                   White  English  \n",
       "463                   White  English  \n",
       "818                   White  English  \n",
       "830                   White  English  \n",
       "850                   White  English  \n",
       "906  Black/African-American  English  \n",
       "910  Black/African-American  English  "
      ]
     },
     "execution_count": 8,
     "metadata": {},
     "output_type": "execute_result"
    }
   ],
   "source": [
    "newdf"
   ]
  },
  {
   "cell_type": "markdown",
   "id": "d53a7f6f",
   "metadata": {},
   "source": [
    "# 44. Display data by splitting age in 4 quartiles and labeling the quartiles.\n"
   ]
  },
  {
   "cell_type": "code",
   "execution_count": 207,
   "id": "37f5c675",
   "metadata": {},
   "outputs": [
    {
     "data": {
      "text/html": [
       "<div>\n",
       "<style scoped>\n",
       "    .dataframe tbody tr th:only-of-type {\n",
       "        vertical-align: middle;\n",
       "    }\n",
       "\n",
       "    .dataframe tbody tr th {\n",
       "        vertical-align: top;\n",
       "    }\n",
       "\n",
       "    .dataframe thead th {\n",
       "        text-align: right;\n",
       "    }\n",
       "</style>\n",
       "<table border=\"1\" class=\"dataframe\">\n",
       "  <thead>\n",
       "    <tr style=\"text-align: right;\">\n",
       "      <th></th>\n",
       "      <th>PatientID</th>\n",
       "      <th>FirstName</th>\n",
       "      <th>LastName</th>\n",
       "      <th>DateOfBirth</th>\n",
       "      <th>Gender</th>\n",
       "      <th>Race</th>\n",
       "      <th>Language</th>\n",
       "      <th>Date</th>\n",
       "      <th>Age</th>\n",
       "      <th>Quartile</th>\n",
       "    </tr>\n",
       "  </thead>\n",
       "  <tbody>\n",
       "    <tr>\n",
       "      <th>0</th>\n",
       "      <td>1</td>\n",
       "      <td>Lanni</td>\n",
       "      <td>Sue</td>\n",
       "      <td>1960-01-01 00:00:00.000</td>\n",
       "      <td>Male</td>\n",
       "      <td>White</td>\n",
       "      <td>English</td>\n",
       "      <td>1960-01-01</td>\n",
       "      <td>63</td>\n",
       "      <td>D</td>\n",
       "    </tr>\n",
       "    <tr>\n",
       "      <th>1</th>\n",
       "      <td>2</td>\n",
       "      <td>Far</td>\n",
       "      <td>Myers</td>\n",
       "      <td>1985-11-15 02:08:42.090</td>\n",
       "      <td>Male</td>\n",
       "      <td>White</td>\n",
       "      <td>English</td>\n",
       "      <td>1985-11-15</td>\n",
       "      <td>37</td>\n",
       "      <td>A</td>\n",
       "    </tr>\n",
       "    <tr>\n",
       "      <th>2</th>\n",
       "      <td>3</td>\n",
       "      <td>Devlin</td>\n",
       "      <td>Michael</td>\n",
       "      <td>1976-04-15 02:52:09.762</td>\n",
       "      <td>Male</td>\n",
       "      <td>White</td>\n",
       "      <td>English</td>\n",
       "      <td>1976-04-15</td>\n",
       "      <td>46</td>\n",
       "      <td>B</td>\n",
       "    </tr>\n",
       "    <tr>\n",
       "      <th>3</th>\n",
       "      <td>4</td>\n",
       "      <td>Carmine</td>\n",
       "      <td>Texas</td>\n",
       "      <td>1968-10-15 03:32:13.635</td>\n",
       "      <td>Male</td>\n",
       "      <td>White</td>\n",
       "      <td>English</td>\n",
       "      <td>1968-10-15</td>\n",
       "      <td>54</td>\n",
       "      <td>C</td>\n",
       "    </tr>\n",
       "    <tr>\n",
       "      <th>4</th>\n",
       "      <td>5</td>\n",
       "      <td>Tann</td>\n",
       "      <td>Bama</td>\n",
       "      <td>1962-05-01 19:12:58.950</td>\n",
       "      <td>Male</td>\n",
       "      <td>White</td>\n",
       "      <td>English</td>\n",
       "      <td>1962-05-01</td>\n",
       "      <td>60</td>\n",
       "      <td>D</td>\n",
       "    </tr>\n",
       "    <tr>\n",
       "      <th>...</th>\n",
       "      <td>...</td>\n",
       "      <td>...</td>\n",
       "      <td>...</td>\n",
       "      <td>...</td>\n",
       "      <td>...</td>\n",
       "      <td>...</td>\n",
       "      <td>...</td>\n",
       "      <td>...</td>\n",
       "      <td>...</td>\n",
       "      <td>...</td>\n",
       "    </tr>\n",
       "    <tr>\n",
       "      <th>940</th>\n",
       "      <td>941</td>\n",
       "      <td>Wat</td>\n",
       "      <td>Fideler</td>\n",
       "      <td>1986-05-26 00:01:19.761</td>\n",
       "      <td>Male</td>\n",
       "      <td>Black/African-American</td>\n",
       "      <td>English</td>\n",
       "      <td>1986-05-26</td>\n",
       "      <td>36</td>\n",
       "      <td>A</td>\n",
       "    </tr>\n",
       "    <tr>\n",
       "      <th>941</th>\n",
       "      <td>942</td>\n",
       "      <td>Wandie</td>\n",
       "      <td>Baythrop</td>\n",
       "      <td>1970-06-10 21:41:03.814</td>\n",
       "      <td>Male</td>\n",
       "      <td>Black/African-American</td>\n",
       "      <td>English</td>\n",
       "      <td>1970-06-10</td>\n",
       "      <td>52</td>\n",
       "      <td>C</td>\n",
       "    </tr>\n",
       "    <tr>\n",
       "      <th>942</th>\n",
       "      <td>943</td>\n",
       "      <td>Diahann</td>\n",
       "      <td>Smeeton</td>\n",
       "      <td>1983-01-08 21:49:27.884</td>\n",
       "      <td>Male</td>\n",
       "      <td>Black/African-American</td>\n",
       "      <td>English</td>\n",
       "      <td>1983-01-08</td>\n",
       "      <td>40</td>\n",
       "      <td>A</td>\n",
       "    </tr>\n",
       "    <tr>\n",
       "      <th>943</th>\n",
       "      <td>944</td>\n",
       "      <td>Panchito</td>\n",
       "      <td>Sharple</td>\n",
       "      <td>1963-06-05 07:57:05.569</td>\n",
       "      <td>Male</td>\n",
       "      <td>Black/African-American</td>\n",
       "      <td>English</td>\n",
       "      <td>1963-06-05</td>\n",
       "      <td>59</td>\n",
       "      <td>D</td>\n",
       "    </tr>\n",
       "    <tr>\n",
       "      <th>944</th>\n",
       "      <td>945</td>\n",
       "      <td>Walsh</td>\n",
       "      <td>Calvie</td>\n",
       "      <td>1972-08-06 03:40:03.454</td>\n",
       "      <td>Male</td>\n",
       "      <td>Black/African-American</td>\n",
       "      <td>English</td>\n",
       "      <td>1972-08-06</td>\n",
       "      <td>50</td>\n",
       "      <td>C</td>\n",
       "    </tr>\n",
       "  </tbody>\n",
       "</table>\n",
       "<p>945 rows × 10 columns</p>\n",
       "</div>"
      ],
      "text/plain": [
       "     PatientID FirstName  LastName             DateOfBirth Gender  \\\n",
       "0            1     Lanni       Sue 1960-01-01 00:00:00.000   Male   \n",
       "1            2       Far     Myers 1985-11-15 02:08:42.090   Male   \n",
       "2            3   Devlin    Michael 1976-04-15 02:52:09.762   Male   \n",
       "3            4   Carmine     Texas 1968-10-15 03:32:13.635   Male   \n",
       "4            5     Tann       Bama 1962-05-01 19:12:58.950   Male   \n",
       "..         ...       ...       ...                     ...    ...   \n",
       "940        941       Wat   Fideler 1986-05-26 00:01:19.761   Male   \n",
       "941        942    Wandie  Baythrop 1970-06-10 21:41:03.814   Male   \n",
       "942        943   Diahann   Smeeton 1983-01-08 21:49:27.884   Male   \n",
       "943        944  Panchito   Sharple 1963-06-05 07:57:05.569   Male   \n",
       "944        945     Walsh    Calvie 1972-08-06 03:40:03.454   Male   \n",
       "\n",
       "                       Race Language        Date  Age Quartile  \n",
       "0                     White  English  1960-01-01   63        D  \n",
       "1                     White  English  1985-11-15   37        A  \n",
       "2                     White  English  1976-04-15   46        B  \n",
       "3                     White  English  1968-10-15   54        C  \n",
       "4                     White  English  1962-05-01   60        D  \n",
       "..                      ...      ...         ...  ...      ...  \n",
       "940  Black/African-American  English  1986-05-26   36        A  \n",
       "941  Black/African-American  English  1970-06-10   52        C  \n",
       "942  Black/African-American  English  1983-01-08   40        A  \n",
       "943  Black/African-American  English  1963-06-05   59        D  \n",
       "944  Black/African-American  English  1972-08-06   50        C  \n",
       "\n",
       "[945 rows x 10 columns]"
      ]
     },
     "execution_count": 207,
     "metadata": {},
     "output_type": "execute_result"
    }
   ],
   "source": [
    "df_patients['Quartile'], cut_bin = pd.qcut(df_patients['Age'], q = 4, labels = ['A','B', 'C', 'D'], retbins = True)\n",
    "df_patients"
   ]
  },
  {
   "cell_type": "markdown",
   "id": "1c37d742",
   "metadata": {},
   "source": [
    "# 45. Usage of Enumeration in Python with any example"
   ]
  },
  {
   "cell_type": "code",
   "execution_count": 212,
   "id": "dfb273d1",
   "metadata": {},
   "outputs": [
    {
     "name": "stdout",
     "output_type": "stream",
     "text": [
      "(0, 'tea')\n",
      "(1, 'coffee')\n",
      "(2, 'cappuccino')\n",
      "(3, 'lemonade')\n"
     ]
    }
   ],
   "source": [
    "drinks = ['tea', 'coffee', 'cappuccino', 'lemonade']\n",
    "for elements in enumerate(drinks):\n",
    "    print(elements)"
   ]
  },
  {
   "cell_type": "code",
   "execution_count": 213,
   "id": "b3ac3482",
   "metadata": {},
   "outputs": [
    {
     "name": "stdout",
     "output_type": "stream",
     "text": [
      "100 tea\n",
      "101 coffee\n",
      "102 cappuccino\n",
      "103 lemonade\n"
     ]
    }
   ],
   "source": [
    "#changing index and printing separately\n",
    "for count, elements in enumerate(drinks,100):\n",
    "    print(count,elements)"
   ]
  },
  {
   "cell_type": "code",
   "execution_count": 215,
   "id": "d73a4646",
   "metadata": {},
   "outputs": [
    {
     "name": "stdout",
     "output_type": "stream",
     "text": [
      "100\n",
      "tea\n",
      "101\n",
      "coffee\n",
      "102\n",
      "cappuccino\n",
      "103\n",
      "lemonade\n"
     ]
    }
   ],
   "source": [
    "# getting desired output\n",
    "for count, element in enumerate(drinks,100):\n",
    "    print(count)\n",
    "    print(element)"
   ]
  },
  {
   "cell_type": "markdown",
   "id": "6a8c2432",
   "metadata": {},
   "source": [
    "# 46.Count of cancelled status"
   ]
  },
  {
   "cell_type": "code",
   "execution_count": 20,
   "id": "ec4825f5",
   "metadata": {},
   "outputs": [
    {
     "data": {
      "text/plain": [
       "60"
      ]
     },
     "execution_count": 20,
     "metadata": {},
     "output_type": "execute_result"
    }
   ],
   "source": [
    "new_df = df_ambulatory_visits[df_ambulatory_visits['VisitStatus']=='Canceled'][\"VisitID\"]\n",
    "new_df.count()"
   ]
  },
  {
   "cell_type": "markdown",
   "id": "76a924d6",
   "metadata": {},
   "source": [
    "# 47. Display the patient details with maximum pulse pressure.\n"
   ]
  },
  {
   "cell_type": "code",
   "execution_count": 21,
   "id": "5b9523fa",
   "metadata": {},
   "outputs": [
    {
     "data": {
      "text/html": [
       "<div>\n",
       "<style scoped>\n",
       "    .dataframe tbody tr th:only-of-type {\n",
       "        vertical-align: middle;\n",
       "    }\n",
       "\n",
       "    .dataframe tbody tr th {\n",
       "        vertical-align: top;\n",
       "    }\n",
       "\n",
       "    .dataframe thead th {\n",
       "        text-align: right;\n",
       "    }\n",
       "</style>\n",
       "<table border=\"1\" class=\"dataframe\">\n",
       "  <thead>\n",
       "    <tr style=\"text-align: right;\">\n",
       "      <th></th>\n",
       "      <th>VisitID</th>\n",
       "      <th>PatientMRN</th>\n",
       "      <th>ProviderID</th>\n",
       "      <th>DateofVisit</th>\n",
       "      <th>DateScheduled</th>\n",
       "      <th>VisitDepartmentID</th>\n",
       "      <th>VisitType</th>\n",
       "      <th>BloodPressureSystolic</th>\n",
       "      <th>BloodPressureDiastolic</th>\n",
       "      <th>Pulse</th>\n",
       "      <th>VisitStatus</th>\n",
       "    </tr>\n",
       "  </thead>\n",
       "  <tbody>\n",
       "    <tr>\n",
       "      <th>495</th>\n",
       "      <td>174</td>\n",
       "      <td>812</td>\n",
       "      <td>22</td>\n",
       "      <td>2019-02-19</td>\n",
       "      <td>2019-01-31 21:32:02.485</td>\n",
       "      <td>6</td>\n",
       "      <td>Follow Up</td>\n",
       "      <td>182.0</td>\n",
       "      <td>115.899432</td>\n",
       "      <td>99.986463</td>\n",
       "      <td>Completed</td>\n",
       "    </tr>\n",
       "  </tbody>\n",
       "</table>\n",
       "</div>"
      ],
      "text/plain": [
       "     VisitID  PatientMRN  ProviderID DateofVisit           DateScheduled  \\\n",
       "495      174         812          22  2019-02-19 2019-01-31 21:32:02.485   \n",
       "\n",
       "     VisitDepartmentID  VisitType  BloodPressureSystolic  \\\n",
       "495                  6  Follow Up                  182.0   \n",
       "\n",
       "     BloodPressureDiastolic      Pulse VisitStatus  \n",
       "495              115.899432  99.986463   Completed  "
      ]
     },
     "execution_count": 21,
     "metadata": {},
     "output_type": "execute_result"
    }
   ],
   "source": [
    "df_ambulatory_visits[df_ambulatory_visits['Pulse']==df_ambulatory_visits['Pulse'].max()]"
   ]
  },
  {
   "cell_type": "markdown",
   "id": "f2622402",
   "metadata": {},
   "source": [
    "# 48. Create a heat map to show the correlation between the column values of Edvisits.\n"
   ]
  },
  {
   "cell_type": "code",
   "execution_count": 40,
   "id": "b8c522e7",
   "metadata": {},
   "outputs": [
    {
     "data": {
      "image/png": "[encoded data removed]",
      "text/plain": [
       "<Figure size 640x480 with 2 Axes>"
      ]
     },
     "metadata": {},
     "output_type": "display_data"
    }
   ],
   "source": [
    "ed_visit = df_ed_visits.corr()\n",
    "sns.heatmap(ed_visit,cmap = \"coolwarm\", annot=True)\n",
    "plt.show()"
   ]
  },
  {
   "cell_type": "markdown",
   "id": "d0815136",
   "metadata": {},
   "source": [
    "# 49. Plot a graph by counting the no. of patients in each department.\n"
   ]
  },
  {
   "cell_type": "code",
   "execution_count": 15,
   "id": "f899eafc",
   "metadata": {},
   "outputs": [
    {
     "data": {
      "text/plain": [
       "<Axes: title={'center': 'No. of Patients per Department'}, xlabel='PatientMRN', ylabel='VisitDepartmentID'>"
      ]
     },
     "execution_count": 15,
     "metadata": {},
     "output_type": "execute_result"
    },
    {
     "data": {
      "image/png": "[encoded data removed]",
      "text/plain": [
       "<Figure size 640x480 with 1 Axes>"
      ]
     },
     "metadata": {},
     "output_type": "display_data"
    }
   ],
   "source": [
    "by_dept = df_ambulatory_visits.groupby(\"VisitDepartmentID\").count()[\"PatientMRN\"]\n",
    "by_dept.plot(kind='bar',title=\"No. of Patients per Department\", ylabel='VisitDepartmentID',\n",
    "         xlabel='PatientMRN')"
   ]
  },
  {
   "cell_type": "markdown",
   "id": "030cabc8",
   "metadata": {},
   "source": [
    "# 50. Display patient details where \"ReasonForVisit\" is either 'Migraine' or 'Pneumonia' and Acuity is 2 or more.\n"
   ]
  },
  {
   "cell_type": "code",
   "execution_count": 34,
   "id": "54f58ad3",
   "metadata": {},
   "outputs": [
    {
     "data": {
      "text/html": [
       "<div>\n",
       "<style scoped>\n",
       "    .dataframe tbody tr th:only-of-type {\n",
       "        vertical-align: middle;\n",
       "    }\n",
       "\n",
       "    .dataframe tbody tr th {\n",
       "        vertical-align: top;\n",
       "    }\n",
       "\n",
       "    .dataframe thead th {\n",
       "        text-align: right;\n",
       "    }\n",
       "</style>\n",
       "<table border=\"1\" class=\"dataframe\">\n",
       "  <thead>\n",
       "    <tr style=\"text-align: right;\">\n",
       "      <th></th>\n",
       "      <th>EDVisitID</th>\n",
       "      <th>PatientID</th>\n",
       "      <th>VisitDate</th>\n",
       "      <th>EDDischargeTime</th>\n",
       "      <th>Acuity</th>\n",
       "      <th>ReasonForVisit</th>\n",
       "      <th>EDDisposition</th>\n",
       "    </tr>\n",
       "  </thead>\n",
       "  <tbody>\n",
       "    <tr>\n",
       "      <th>12</th>\n",
       "      <td>30</td>\n",
       "      <td>30</td>\n",
       "      <td>2020-01-01 07:25:54.177</td>\n",
       "      <td>2020-01-01 23:30:20.151</td>\n",
       "      <td>3</td>\n",
       "      <td>Pneumonia</td>\n",
       "      <td>Admitted</td>\n",
       "    </tr>\n",
       "    <tr>\n",
       "      <th>13</th>\n",
       "      <td>31</td>\n",
       "      <td>31</td>\n",
       "      <td>2020-01-01 07:32:51.917</td>\n",
       "      <td>2020-01-01 19:55:46.991</td>\n",
       "      <td>4</td>\n",
       "      <td>Pneumonia</td>\n",
       "      <td>Admitted</td>\n",
       "    </tr>\n",
       "    <tr>\n",
       "      <th>16</th>\n",
       "      <td>44</td>\n",
       "      <td>44</td>\n",
       "      <td>2020-01-01 11:41:20.981</td>\n",
       "      <td>2020-01-02 05:18:13.677</td>\n",
       "      <td>4</td>\n",
       "      <td>Pneumonia</td>\n",
       "      <td>Admitted</td>\n",
       "    </tr>\n",
       "    <tr>\n",
       "      <th>21</th>\n",
       "      <td>53</td>\n",
       "      <td>53</td>\n",
       "      <td>2020-01-01 14:28:21.684</td>\n",
       "      <td>2020-01-01 22:29:33.906</td>\n",
       "      <td>4</td>\n",
       "      <td>Pneumonia</td>\n",
       "      <td>Admitted</td>\n",
       "    </tr>\n",
       "    <tr>\n",
       "      <th>24</th>\n",
       "      <td>56</td>\n",
       "      <td>55</td>\n",
       "      <td>2020-01-01 15:02:36.206</td>\n",
       "      <td>2020-01-02 10:40:08.571</td>\n",
       "      <td>4</td>\n",
       "      <td>Pneumonia</td>\n",
       "      <td>Admitted</td>\n",
       "    </tr>\n",
       "    <tr>\n",
       "      <th>...</th>\n",
       "      <td>...</td>\n",
       "      <td>...</td>\n",
       "      <td>...</td>\n",
       "      <td>...</td>\n",
       "      <td>...</td>\n",
       "      <td>...</td>\n",
       "      <td>...</td>\n",
       "    </tr>\n",
       "    <tr>\n",
       "      <th>488</th>\n",
       "      <td>1145</td>\n",
       "      <td>891</td>\n",
       "      <td>2020-01-14 22:17:55.508</td>\n",
       "      <td>2020-01-15 15:14:49.962</td>\n",
       "      <td>4</td>\n",
       "      <td>Pneumonia</td>\n",
       "      <td>Admitted</td>\n",
       "    </tr>\n",
       "    <tr>\n",
       "      <th>491</th>\n",
       "      <td>1158</td>\n",
       "      <td>904</td>\n",
       "      <td>2020-01-15 02:06:42.088</td>\n",
       "      <td>2020-01-15 07:04:01.523</td>\n",
       "      <td>4</td>\n",
       "      <td>Pneumonia</td>\n",
       "      <td>Admitted</td>\n",
       "    </tr>\n",
       "    <tr>\n",
       "      <th>496</th>\n",
       "      <td>1167</td>\n",
       "      <td>913</td>\n",
       "      <td>2020-01-15 05:09:22.987</td>\n",
       "      <td>2020-01-16 03:57:13.244</td>\n",
       "      <td>4</td>\n",
       "      <td>Pneumonia</td>\n",
       "      <td>Admitted</td>\n",
       "    </tr>\n",
       "    <tr>\n",
       "      <th>499</th>\n",
       "      <td>1170</td>\n",
       "      <td>916</td>\n",
       "      <td>2020-01-15 05:57:29.834</td>\n",
       "      <td>2020-01-15 06:03:50.631</td>\n",
       "      <td>4</td>\n",
       "      <td>Pneumonia</td>\n",
       "      <td>Admitted</td>\n",
       "    </tr>\n",
       "    <tr>\n",
       "      <th>501</th>\n",
       "      <td>1172</td>\n",
       "      <td>918</td>\n",
       "      <td>2020-01-15 06:51:43.655</td>\n",
       "      <td>2020-01-15 16:27:42.410</td>\n",
       "      <td>5</td>\n",
       "      <td>Pneumonia</td>\n",
       "      <td>Admitted</td>\n",
       "    </tr>\n",
       "  </tbody>\n",
       "</table>\n",
       "<p>90 rows × 7 columns</p>\n",
       "</div>"
      ],
      "text/plain": [
       "     EDVisitID  PatientID               VisitDate         EDDischargeTime  \\\n",
       "12          30         30 2020-01-01 07:25:54.177 2020-01-01 23:30:20.151   \n",
       "13          31         31 2020-01-01 07:32:51.917 2020-01-01 19:55:46.991   \n",
       "16          44         44 2020-01-01 11:41:20.981 2020-01-02 05:18:13.677   \n",
       "21          53         53 2020-01-01 14:28:21.684 2020-01-01 22:29:33.906   \n",
       "24          56         55 2020-01-01 15:02:36.206 2020-01-02 10:40:08.571   \n",
       "..         ...        ...                     ...                     ...   \n",
       "488       1145        891 2020-01-14 22:17:55.508 2020-01-15 15:14:49.962   \n",
       "491       1158        904 2020-01-15 02:06:42.088 2020-01-15 07:04:01.523   \n",
       "496       1167        913 2020-01-15 05:09:22.987 2020-01-16 03:57:13.244   \n",
       "499       1170        916 2020-01-15 05:57:29.834 2020-01-15 06:03:50.631   \n",
       "501       1172        918 2020-01-15 06:51:43.655 2020-01-15 16:27:42.410   \n",
       "\n",
       "     Acuity ReasonForVisit EDDisposition  \n",
       "12        3      Pneumonia      Admitted  \n",
       "13        4      Pneumonia      Admitted  \n",
       "16        4      Pneumonia      Admitted  \n",
       "21        4      Pneumonia      Admitted  \n",
       "24        4      Pneumonia      Admitted  \n",
       "..      ...            ...           ...  \n",
       "488       4      Pneumonia      Admitted  \n",
       "491       4      Pneumonia      Admitted  \n",
       "496       4      Pneumonia      Admitted  \n",
       "499       4      Pneumonia      Admitted  \n",
       "501       5      Pneumonia      Admitted  \n",
       "\n",
       "[90 rows x 7 columns]"
      ]
     },
     "execution_count": 34,
     "metadata": {},
     "output_type": "execute_result"
    }
   ],
   "source": [
    "df_ed_visits[(df_ed_visits[\"ReasonForVisit\"].isin([\"Migrane\",\"Pneumonia\"])) & (df_ed_visits[\"Acuity\"] > 2)]"
   ]
  },
  {
   "cell_type": "markdown",
   "id": "76cd0549",
   "metadata": {},
   "source": [
    "# 51. Take the ReasonForVisit from user, find the number of patients admitted with that ReasonForVisit.\n"
   ]
  },
  {
   "cell_type": "code",
   "execution_count": 98,
   "id": "d81e3c36",
   "metadata": {},
   "outputs": [
    {
     "name": "stdout",
     "output_type": "stream",
     "text": [
      "Enter the reason of visit to find the number of patients admitted with that reason: as\n",
      "Enter a valid reason of visit\n"
     ]
    }
   ],
   "source": [
    "reason = input(\"Enter the reason of visit to find the number of patients admitted with that reason: \")\n",
    "if reason in df_ed_visits[\"ReasonForVisit\"].values:\n",
    "    by_reason = df_ed_visits.groupby(\"ReasonForVisit\").count()[\"PatientID\"]\n",
    "    print(f\"{by_reason.loc[reason]} patients are admitted for {reason}\")\n",
    "else:\n",
    "    print(\"Enter a valid reason of visit\")"
   ]
  },
  {
   "cell_type": "markdown",
   "id": "91522273",
   "metadata": {},
   "source": [
    "# 52. Using indexing , loc to retrieve the row with maximum BloodPressureSystolic.\n"
   ]
  },
  {
   "cell_type": "code",
   "execution_count": 53,
   "id": "774d5293",
   "metadata": {},
   "outputs": [
    {
     "data": {
      "text/plain": [
       "VisitID                                          933\n",
       "PatientMRN                                       884\n",
       "ProviderID                                        27\n",
       "DateofVisit                      2019-02-14 00:00:00\n",
       "DateScheduled             2019-01-22 19:26:49.163000\n",
       "VisitDepartmentID                                 12\n",
       "VisitType                               Telemedicine\n",
       "BloodPressureSystolic                          190.0\n",
       "BloodPressureDiastolic                    143.989174\n",
       "Pulse                                      74.976879\n",
       "VisitStatus                                Completed\n",
       "Name: 236, dtype: object"
      ]
     },
     "execution_count": 53,
     "metadata": {},
     "output_type": "execute_result"
    }
   ],
   "source": [
    "df_ambulatory_visits.loc[df_ambulatory_visits[\"BloodPressureSystolic\"].idxmax()]"
   ]
  },
  {
   "cell_type": "markdown",
   "id": "727988e2",
   "metadata": {},
   "source": [
    "# 53. Plot a graph by multiplotting on the same canvas  (Take any set of x & y values).\n"
   ]
  },
  {
   "cell_type": "code",
   "execution_count": 54,
   "id": "8fa69e0a",
   "metadata": {},
   "outputs": [],
   "source": [
    "x = np.linspace(0,5,10)\n",
    "y = x ** 2"
   ]
  },
  {
   "cell_type": "code",
   "execution_count": 55,
   "id": "cd99a86a",
   "metadata": {},
   "outputs": [
    {
     "data": {
      "text/plain": [
       "array([0.        , 0.55555556, 1.11111111, 1.66666667, 2.22222222,\n",
       "       2.77777778, 3.33333333, 3.88888889, 4.44444444, 5.        ])"
      ]
     },
     "execution_count": 55,
     "metadata": {},
     "output_type": "execute_result"
    }
   ],
   "source": [
    "x"
   ]
  },
  {
   "cell_type": "code",
   "execution_count": 56,
   "id": "3fa20b67",
   "metadata": {},
   "outputs": [
    {
     "data": {
      "text/plain": [
       "array([ 0.        ,  0.30864198,  1.2345679 ,  2.77777778,  4.9382716 ,\n",
       "        7.71604938, 11.11111111, 15.12345679, 19.75308642, 25.        ])"
      ]
     },
     "execution_count": 56,
     "metadata": {},
     "output_type": "execute_result"
    }
   ],
   "source": [
    "y"
   ]
  },
  {
   "cell_type": "code",
   "execution_count": 59,
   "id": "6777c445",
   "metadata": {},
   "outputs": [
    {
     "data": {
      "text/plain": [
       "[<matplotlib.lines.Line2D at 0x22930f0f4c0>]"
      ]
     },
     "execution_count": 59,
     "metadata": {},
     "output_type": "execute_result"
    },
    {
     "data": {
      "image/png": "[encoded data removed]",
      "text/plain": [
       "<Figure size 640x480 with 2 Axes>"
      ]
     },
     "metadata": {},
     "output_type": "display_data"
    }
   ],
   "source": [
    "plt.subplot(1,2,1)\n",
    "plt.plot(x,y,\"r--\")\n",
    "plt.subplot(1,2,2)\n",
    "plt.plot(x,y,\"g*-\")"
   ]
  },
  {
   "cell_type": "markdown",
   "id": "22375279",
   "metadata": {},
   "source": [
    "# 54. Retrieve the row with minimum DBP using sorting technique.\n"
   ]
  },
  {
   "cell_type": "code",
   "execution_count": 66,
   "id": "8c392557",
   "metadata": {},
   "outputs": [
    {
     "data": {
      "text/html": [
       "<div>\n",
       "<style scoped>\n",
       "    .dataframe tbody tr th:only-of-type {\n",
       "        vertical-align: middle;\n",
       "    }\n",
       "\n",
       "    .dataframe tbody tr th {\n",
       "        vertical-align: top;\n",
       "    }\n",
       "\n",
       "    .dataframe thead th {\n",
       "        text-align: right;\n",
       "    }\n",
       "</style>\n",
       "<table border=\"1\" class=\"dataframe\">\n",
       "  <thead>\n",
       "    <tr style=\"text-align: right;\">\n",
       "      <th></th>\n",
       "      <th>VisitID</th>\n",
       "      <th>PatientMRN</th>\n",
       "      <th>ProviderID</th>\n",
       "      <th>DateofVisit</th>\n",
       "      <th>DateScheduled</th>\n",
       "      <th>VisitDepartmentID</th>\n",
       "      <th>VisitType</th>\n",
       "      <th>BloodPressureSystolic</th>\n",
       "      <th>BloodPressureDiastolic</th>\n",
       "      <th>Pulse</th>\n",
       "      <th>VisitStatus</th>\n",
       "    </tr>\n",
       "  </thead>\n",
       "  <tbody>\n",
       "    <tr>\n",
       "      <th>757</th>\n",
       "      <td>163</td>\n",
       "      <td>801</td>\n",
       "      <td>11</td>\n",
       "      <td>2019-02-08</td>\n",
       "      <td>2019-02-07 23:41:12.181</td>\n",
       "      <td>7</td>\n",
       "      <td>Follow Up</td>\n",
       "      <td>120.0</td>\n",
       "      <td>51.695653</td>\n",
       "      <td>53.310495</td>\n",
       "      <td>Completed</td>\n",
       "    </tr>\n",
       "  </tbody>\n",
       "</table>\n",
       "</div>"
      ],
      "text/plain": [
       "     VisitID  PatientMRN  ProviderID DateofVisit           DateScheduled  \\\n",
       "757      163         801          11  2019-02-08 2019-02-07 23:41:12.181   \n",
       "\n",
       "     VisitDepartmentID  VisitType  BloodPressureSystolic  \\\n",
       "757                  7  Follow Up                  120.0   \n",
       "\n",
       "     BloodPressureDiastolic      Pulse VisitStatus  \n",
       "757               51.695653  53.310495   Completed  "
      ]
     },
     "execution_count": 66,
     "metadata": {},
     "output_type": "execute_result"
    }
   ],
   "source": [
    "df_ambulatory_visits.sort_values(by=[\"BloodPressureDiastolic\"]).head(1)\n"
   ]
  },
  {
   "cell_type": "markdown",
   "id": "353a3c4a",
   "metadata": {},
   "source": [
    "# 55. Replace all the null values in ReadmissionFlag with 0.\n"
   ]
  },
  {
   "cell_type": "code",
   "execution_count": 176,
   "id": "4d0c0a0d",
   "metadata": {},
   "outputs": [
    {
     "data": {
      "text/plain": [
       "0      0.0\n",
       "1      1.0\n",
       "2      1.0\n",
       "3      1.0\n",
       "4      0.0\n",
       "      ... \n",
       "715    0.0\n",
       "716    0.0\n",
       "717    0.0\n",
       "718    0.0\n",
       "719    0.0\n",
       "Name: ReadmissionFlag, Length: 720, dtype: float64"
      ]
     },
     "execution_count": 176,
     "metadata": {},
     "output_type": "execute_result"
    }
   ],
   "source": [
    "df_re_admission_registry[\"ReadmissionFlag\"].fillna(0, inplace=True)\n",
    "df_re_admission_registry[\"ReadmissionFlag\"]"
   ]
  },
  {
   "cell_type": "markdown",
   "id": "a8b12038",
   "metadata": {},
   "source": [
    "# 56. Get the list of patient ID's which are not there in ReadmissionRegistry.\n"
   ]
  },
  {
   "cell_type": "code",
   "execution_count": 142,
   "id": "c631714d",
   "metadata": {},
   "outputs": [
    {
     "data": {
      "text/plain": [
       "array([  4, 135, 145, 189, 200, 224, 234, 374, 378, 379, 380, 381, 382,\n",
       "       383, 384, 385, 386, 387, 388, 389, 390, 391, 392, 393, 394, 395,\n",
       "       396, 397, 398, 399, 414, 501, 562, 599, 690, 691, 704, 726, 743,\n",
       "       744, 745, 746, 747, 748, 749, 750, 751, 752, 753, 754, 755, 756,\n",
       "       757, 758, 759, 760, 761, 762, 763, 764, 765, 766, 767, 768, 769,\n",
       "       770, 771, 772, 773, 774, 775, 776, 777, 778, 779, 780, 781, 782,\n",
       "       783, 784, 785, 786, 787, 788, 789, 790, 791, 792, 793, 794, 795,\n",
       "       796, 797, 798, 799, 800, 801, 802, 803, 804, 805, 806, 807, 808,\n",
       "       809, 810, 811, 812, 813, 814, 815, 816, 817, 818, 819, 820, 821,\n",
       "       822, 823, 824, 825, 826, 827, 828, 829, 830, 831, 832, 833, 834,\n",
       "       835, 836, 837, 838, 839, 840, 841, 842, 843, 844, 845, 846, 847,\n",
       "       848, 849, 850, 851, 852, 853, 854, 855, 856, 857, 858, 859, 860,\n",
       "       861, 862, 863, 864, 865, 866, 867, 868, 869, 870, 871, 872, 873,\n",
       "       874, 875, 876, 877, 878, 879, 880, 881, 882, 883, 884, 885, 886,\n",
       "       887, 888, 889, 890, 891, 892, 893, 894, 895, 896, 897, 898, 899,\n",
       "       900, 901, 902, 903, 904, 905, 906, 907, 908, 909, 910, 911, 912,\n",
       "       913, 914, 915, 916, 917, 918, 919, 920, 921, 922, 923, 924, 925,\n",
       "       926, 927, 928, 929, 930, 931, 932, 933, 934, 935, 936, 937, 938,\n",
       "       939, 940, 941, 942, 943, 944, 945], dtype=int64)"
      ]
     },
     "execution_count": 142,
     "metadata": {},
     "output_type": "execute_result"
    }
   ],
   "source": [
    "common = df_patients.merge(df_re_admission_registry, on=[\"PatientID\"])\n",
    "df_patients[(~df_patients.PatientID.isin(common.PatientID))][\"PatientID\"].values\n"
   ]
  },
  {
   "cell_type": "markdown",
   "id": "566009df",
   "metadata": {},
   "source": [
    "# 57. Find reasonForVisit with highest count of acuity 5 patients.\n"
   ]
  },
  {
   "cell_type": "code",
   "execution_count": 186,
   "id": "02b94f95",
   "metadata": {},
   "outputs": [
    {
     "data": {
      "text/plain": [
       "357    Shortness of Breath\n",
       "453               Gun Shot\n",
       "200                  Fever\n",
       "201               Gun Shot\n",
       "207              Pneumonia\n",
       "Name: ReasonForVisit, dtype: object"
      ]
     },
     "execution_count": 186,
     "metadata": {},
     "output_type": "execute_result"
    }
   ],
   "source": [
    "ed_visit = df_ed_visits.sort_values(by=[\"Acuity\"],ascending=False).head(5)\n",
    "ed_visit[\"ReasonForVisit\"]"
   ]
  },
  {
   "cell_type": "markdown",
   "id": "016f33e3",
   "metadata": {},
   "source": [
    "# 58. Display full name of patients who are born in 1986.\n"
   ]
  },
  {
   "cell_type": "code",
   "execution_count": 168,
   "id": "3f5cdb6c",
   "metadata": {},
   "outputs": [
    {
     "data": {
      "text/plain": [
       "23         Gabriel  Joseph\n",
       "24         Lincoln  Brenda\n",
       "29             Ala Halpert\n",
       "72            Lolita Darci\n",
       "164         Fadel Bernardt\n",
       "238         Bentley Kippax\n",
       "367            Vale Olanda\n",
       "373          Britt Dureden\n",
       "386       Cristabel Chatel\n",
       "415       Constantia Group\n",
       "452       Morgan Scrowston\n",
       "561             Dom Baglow\n",
       "568        Ignazio Melling\n",
       "595         Homenick Rings\n",
       "639           Hashim Slark\n",
       "643       Ellie Ramsbotham\n",
       "674        Llewellyn Group\n",
       "714             Niles Shaw\n",
       "733             Yvette Inc\n",
       "777          Siouxie Group\n",
       "852            Carly Group\n",
       "868        Worth Pickering\n",
       "877           Arni Baldack\n",
       "909       Kuvalis Coupland\n",
       "922    Rebbecca Rollingson\n",
       "940            Wat Fideler\n",
       "dtype: object"
      ]
     },
     "execution_count": 168,
     "metadata": {},
     "output_type": "execute_result"
    }
   ],
   "source": [
    "(df_patients[\"FirstName\"]+\" \"+df_patients[\"LastName\"]).where(df_patients['DateOfBirth'].dt.year == 1986).dropna()\n"
   ]
  },
  {
   "cell_type": "markdown",
   "id": "b646da02",
   "metadata": {},
   "source": [
    "# 59. Create a bar chart by making list on Acuity & EDDisposition column (with no duplicates) & make the hatchs onto the bar by using set_hatch() method.\n"
   ]
  },
  {
   "cell_type": "code",
   "execution_count": 193,
   "id": "fcc3254f",
   "metadata": {},
   "outputs": [
    {
     "data": {
      "text/plain": [
       "array(['Admitted', 'Discharged'], dtype=object)"
      ]
     },
     "execution_count": 193,
     "metadata": {},
     "output_type": "execute_result"
    }
   ],
   "source": [
    "ed_disposition = df_ed_visits[\"EDDisposition\"].unique()\n",
    "ed_disposition"
   ]
  },
  {
   "cell_type": "code",
   "execution_count": 216,
   "id": "23e23a7b",
   "metadata": {},
   "outputs": [
    {
     "data": {
      "text/plain": [
       "array([1, 2, 3, 4, 5], dtype=int64)"
      ]
     },
     "execution_count": 216,
     "metadata": {},
     "output_type": "execute_result"
    }
   ],
   "source": [
    "ed_acuity = df_ed_visits[\"Acuity\"].unique()\n",
    "ed_acuity"
   ]
  },
  {
   "cell_type": "code",
   "execution_count": null,
   "id": "232f2687",
   "metadata": {},
   "outputs": [],
   "source": []
  },
  {
   "cell_type": "code",
   "execution_count": 198,
   "id": "ad6e2d76",
   "metadata": {},
   "outputs": [
    {
     "data": {
      "image/png": "[encoded data removed]",
      "text/plain": [
       "<Figure size 640x480 with 1 Axes>"
      ]
     },
     "metadata": {},
     "output_type": "display_data"
    }
   ],
   "source": [
    "ed_disposition = df_ed_visits[\"EDDisposition\"].unique()\n",
    "df = pd.DataFrame(np.random.rand(5, 2), columns=ed_disposition)\n",
    "ax = plt.figure().add_subplot(111)\n",
    "bars = df.plot(ax=ax, kind='bar')\n",
    "hatches = [\"*\", \"/\", \"o\", \"x\"]\n",
    "\n",
    "for patch in bars.patches:\n",
    "   patch.set_hatch(hatches[np.random.randint(10)%len(hatches)])\n",
    "\n",
    "plt.show()"
   ]
  },
  {
   "cell_type": "markdown",
   "id": "5d42b087",
   "metadata": {},
   "source": [
    "# 60. Create a heat map on Readmission Registry table to find correlation between columns values.\n"
   ]
  },
  {
   "cell_type": "code",
   "execution_count": 177,
   "id": "8053bf78",
   "metadata": {},
   "outputs": [
    {
     "data": {
      "image/png": "[encoded data removed]",
      "text/plain": [
       "<Figure size 640x480 with 2 Axes>"
      ]
     },
     "metadata": {},
     "output_type": "display_data"
    }
   ],
   "source": [
    "readmission_registry = df_re_admission_registry.corr()\n",
    "sns.heatmap(readmission_registry,cmap = \"Spectral\", annot=True)\n",
    "plt.show()"
   ]
  },
  {
   "cell_type": "code",
   "execution_count": null,
   "id": "eb5d6925",
   "metadata": {},
   "outputs": [],
   "source": []
  },
  {
   "cell_type": "code",
   "execution_count": null,
   "id": "e5b2081d",
   "metadata": {},
   "outputs": [],
   "source": []
  }
 ],
 "metadata": {
  "kernelspec": {
   "display_name": "Python 3 (ipykernel)",
   "language": "python",
   "name": "python3"
  },
  "language_info": {
   "codemirror_mode": {
    "name": "ipython",
    "version": 3
   },
   "file_extension": ".py",
   "mimetype": "text/x-python",
   "name": "python",
   "nbconvert_exporter": "python",
   "pygments_lexer": "ipython3",
   "version": "3.10.9"
  }
 },
 "nbformat": 4,
 "nbformat_minor": 5
}
