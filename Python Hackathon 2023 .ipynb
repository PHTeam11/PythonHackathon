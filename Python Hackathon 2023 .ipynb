{
 "cells": [
  {
   "cell_type": "code",
   "execution_count": 2,
   "id": "34ece856",
   "metadata": {},
   "outputs": [],
   "source": [
    "import numpy as np\n",
    "import pandas as pd\n",
    "import matplotlib.pyplot as plt\n",
    "import seaborn as sns\n",
    "import warnings\n",
    "from datetime import datetime, date"
   ]
  },
  {
   "cell_type": "code",
   "execution_count": 4,
   "id": "e19e030a",
   "metadata": {},
   "outputs": [],
   "source": [
    "warnings.simplefilter(action='ignore', category=FutureWarning)"
   ]
  },
  {
   "cell_type": "code",
   "execution_count": 5,
   "id": "4ae127fb",
   "metadata": {},
   "outputs": [],
   "source": [
    "%matplotlib inline"
   ]
  },
  {
   "cell_type": "code",
   "execution_count": 6,
   "id": "ba737ca6",
   "metadata": {},
   "outputs": [],
   "source": [
    "df_patients = pd.read_excel(\"HospitalDatabase.xlsx\",\"Patients\")\n",
    "df_ed_visits = pd.read_excel(\"HospitalDatabase.xlsx\",\"EDVisits\")\n",
    "df_ambulatory_visits = pd.read_excel(\"HospitalDatabase.xlsx\",\"AmbulatoryVisits\")\n",
    "df_re_admission_registry = pd.read_excel(\"HospitalDatabase.xlsx\",\"ReAdmissionRegistry\")\n",
    "df_discharge = pd.read_excel(\"HospitalDatabase.xlsx\",\"Discharges\")\n",
    "df_providers = pd.read_excel(\"HospitalDatabase.xlsx\",\"Providers\")\n",
    "df_ed_unique = pd.read_excel(\"HospitalDatabase.xlsx\",\"EDUnique\")"
   ]
  },
  {
   "cell_type": "code",
   "execution_count": 7,
   "id": "2a4fe610",
   "metadata": {},
   "outputs": [
    {
     "data": {
      "text/html": [
       "<div>\n",
       "<style scoped>\n",
       "    .dataframe tbody tr th:only-of-type {\n",
       "        vertical-align: middle;\n",
       "    }\n",
       "\n",
       "    .dataframe tbody tr th {\n",
       "        vertical-align: top;\n",
       "    }\n",
       "\n",
       "    .dataframe thead th {\n",
       "        text-align: right;\n",
       "    }\n",
       "</style>\n",
       "<table border=\"1\" class=\"dataframe\">\n",
       "  <thead>\n",
       "    <tr style=\"text-align: right;\">\n",
       "      <th></th>\n",
       "      <th>PatientID</th>\n",
       "      <th>FirstName</th>\n",
       "      <th>LastName</th>\n",
       "      <th>DateOfBirth</th>\n",
       "      <th>Gender</th>\n",
       "      <th>Race</th>\n",
       "      <th>Language</th>\n",
       "    </tr>\n",
       "  </thead>\n",
       "  <tbody>\n",
       "    <tr>\n",
       "      <th>0</th>\n",
       "      <td>1</td>\n",
       "      <td>Lanni</td>\n",
       "      <td>Sue</td>\n",
       "      <td>1960-01-01 00:00:00.000</td>\n",
       "      <td>Male</td>\n",
       "      <td>White</td>\n",
       "      <td>English</td>\n",
       "    </tr>\n",
       "    <tr>\n",
       "      <th>1</th>\n",
       "      <td>2</td>\n",
       "      <td>Far</td>\n",
       "      <td>Myers</td>\n",
       "      <td>1985-11-15 02:08:42.090</td>\n",
       "      <td>Male</td>\n",
       "      <td>White</td>\n",
       "      <td>English</td>\n",
       "    </tr>\n",
       "    <tr>\n",
       "      <th>2</th>\n",
       "      <td>3</td>\n",
       "      <td>Devlin</td>\n",
       "      <td>Michael</td>\n",
       "      <td>1976-04-15 02:52:09.762</td>\n",
       "      <td>Male</td>\n",
       "      <td>White</td>\n",
       "      <td>English</td>\n",
       "    </tr>\n",
       "    <tr>\n",
       "      <th>3</th>\n",
       "      <td>4</td>\n",
       "      <td>Carmine</td>\n",
       "      <td>Texas</td>\n",
       "      <td>1968-10-15 03:32:13.635</td>\n",
       "      <td>Male</td>\n",
       "      <td>White</td>\n",
       "      <td>English</td>\n",
       "    </tr>\n",
       "    <tr>\n",
       "      <th>4</th>\n",
       "      <td>5</td>\n",
       "      <td>Tann</td>\n",
       "      <td>Bama</td>\n",
       "      <td>1962-05-01 19:12:58.950</td>\n",
       "      <td>Male</td>\n",
       "      <td>White</td>\n",
       "      <td>English</td>\n",
       "    </tr>\n",
       "    <tr>\n",
       "      <th>5</th>\n",
       "      <td>6</td>\n",
       "      <td>Jerrilyn</td>\n",
       "      <td>Kane</td>\n",
       "      <td>1969-03-30 09:36:56.550</td>\n",
       "      <td>Male</td>\n",
       "      <td>White</td>\n",
       "      <td>English</td>\n",
       "    </tr>\n",
       "    <tr>\n",
       "      <th>6</th>\n",
       "      <td>7</td>\n",
       "      <td>Skipton</td>\n",
       "      <td>Bar</td>\n",
       "      <td>1975-11-25 22:23:53.525</td>\n",
       "      <td>Male</td>\n",
       "      <td>White</td>\n",
       "      <td>English</td>\n",
       "    </tr>\n",
       "    <tr>\n",
       "      <th>7</th>\n",
       "      <td>8</td>\n",
       "      <td>Alexandra</td>\n",
       "      <td>Green</td>\n",
       "      <td>1967-06-16 16:37:21.694</td>\n",
       "      <td>Male</td>\n",
       "      <td>White</td>\n",
       "      <td>English</td>\n",
       "    </tr>\n",
       "    <tr>\n",
       "      <th>8</th>\n",
       "      <td>9</td>\n",
       "      <td>Devlin</td>\n",
       "      <td>Black</td>\n",
       "      <td>1974-09-24 23:43:46.185</td>\n",
       "      <td>Male</td>\n",
       "      <td>White</td>\n",
       "      <td>English</td>\n",
       "    </tr>\n",
       "    <tr>\n",
       "      <th>9</th>\n",
       "      <td>10</td>\n",
       "      <td>Granny</td>\n",
       "      <td>Man</td>\n",
       "      <td>1969-09-15 11:20:42.218</td>\n",
       "      <td>Male</td>\n",
       "      <td>White</td>\n",
       "      <td>English</td>\n",
       "    </tr>\n",
       "  </tbody>\n",
       "</table>\n",
       "</div>"
      ],
      "text/plain": [
       "   PatientID  FirstName LastName             DateOfBirth Gender   Race  \\\n",
       "0          1      Lanni      Sue 1960-01-01 00:00:00.000   Male  White   \n",
       "1          2        Far    Myers 1985-11-15 02:08:42.090   Male  White   \n",
       "2          3    Devlin   Michael 1976-04-15 02:52:09.762   Male  White   \n",
       "3          4    Carmine    Texas 1968-10-15 03:32:13.635   Male  White   \n",
       "4          5      Tann      Bama 1962-05-01 19:12:58.950   Male  White   \n",
       "5          6  Jerrilyn      Kane 1969-03-30 09:36:56.550   Male  White   \n",
       "6          7    Skipton      Bar 1975-11-25 22:23:53.525   Male  White   \n",
       "7          8  Alexandra    Green 1967-06-16 16:37:21.694   Male  White   \n",
       "8          9    Devlin     Black 1974-09-24 23:43:46.185   Male  White   \n",
       "9         10     Granny      Man 1969-09-15 11:20:42.218   Male  White   \n",
       "\n",
       "  Language  \n",
       "0  English  \n",
       "1  English  \n",
       "2  English  \n",
       "3  English  \n",
       "4  English  \n",
       "5  English  \n",
       "6  English  \n",
       "7  English  \n",
       "8  English  \n",
       "9  English  "
      ]
     },
     "execution_count": 7,
     "metadata": {},
     "output_type": "execute_result"
    }
   ],
   "source": [
    "df_patients = pd.read_excel(\"HospitalDatabase.xlsx\",\"Patients\")\n",
    "df_patients.head(10)"
   ]
  },
  {
   "cell_type": "markdown",
   "id": "9e3c195d",
   "metadata": {},
   "source": [
    "# 23. Add column 'Age' in Patient table.\n"
   ]
  },
  {
   "cell_type": "code",
   "execution_count": 8,
   "id": "9f32c670",
   "metadata": {},
   "outputs": [
    {
     "data": {
      "text/html": [
       "<div>\n",
       "<style scoped>\n",
       "    .dataframe tbody tr th:only-of-type {\n",
       "        vertical-align: middle;\n",
       "    }\n",
       "\n",
       "    .dataframe tbody tr th {\n",
       "        vertical-align: top;\n",
       "    }\n",
       "\n",
       "    .dataframe thead th {\n",
       "        text-align: right;\n",
       "    }\n",
       "</style>\n",
       "<table border=\"1\" class=\"dataframe\">\n",
       "  <thead>\n",
       "    <tr style=\"text-align: right;\">\n",
       "      <th></th>\n",
       "      <th>PatientID</th>\n",
       "      <th>FirstName</th>\n",
       "      <th>LastName</th>\n",
       "      <th>DateOfBirth</th>\n",
       "      <th>Gender</th>\n",
       "      <th>Race</th>\n",
       "      <th>Language</th>\n",
       "      <th>Date</th>\n",
       "      <th>Age</th>\n",
       "    </tr>\n",
       "  </thead>\n",
       "  <tbody>\n",
       "    <tr>\n",
       "      <th>0</th>\n",
       "      <td>1</td>\n",
       "      <td>Lanni</td>\n",
       "      <td>Sue</td>\n",
       "      <td>1960-01-01 00:00:00.000</td>\n",
       "      <td>Male</td>\n",
       "      <td>White</td>\n",
       "      <td>English</td>\n",
       "      <td>1960-01-01</td>\n",
       "      <td>63</td>\n",
       "    </tr>\n",
       "    <tr>\n",
       "      <th>1</th>\n",
       "      <td>2</td>\n",
       "      <td>Far</td>\n",
       "      <td>Myers</td>\n",
       "      <td>1985-11-15 02:08:42.090</td>\n",
       "      <td>Male</td>\n",
       "      <td>White</td>\n",
       "      <td>English</td>\n",
       "      <td>1985-11-15</td>\n",
       "      <td>37</td>\n",
       "    </tr>\n",
       "    <tr>\n",
       "      <th>2</th>\n",
       "      <td>3</td>\n",
       "      <td>Devlin</td>\n",
       "      <td>Michael</td>\n",
       "      <td>1976-04-15 02:52:09.762</td>\n",
       "      <td>Male</td>\n",
       "      <td>White</td>\n",
       "      <td>English</td>\n",
       "      <td>1976-04-15</td>\n",
       "      <td>46</td>\n",
       "    </tr>\n",
       "    <tr>\n",
       "      <th>3</th>\n",
       "      <td>4</td>\n",
       "      <td>Carmine</td>\n",
       "      <td>Texas</td>\n",
       "      <td>1968-10-15 03:32:13.635</td>\n",
       "      <td>Male</td>\n",
       "      <td>White</td>\n",
       "      <td>English</td>\n",
       "      <td>1968-10-15</td>\n",
       "      <td>54</td>\n",
       "    </tr>\n",
       "    <tr>\n",
       "      <th>4</th>\n",
       "      <td>5</td>\n",
       "      <td>Tann</td>\n",
       "      <td>Bama</td>\n",
       "      <td>1962-05-01 19:12:58.950</td>\n",
       "      <td>Male</td>\n",
       "      <td>White</td>\n",
       "      <td>English</td>\n",
       "      <td>1962-05-01</td>\n",
       "      <td>60</td>\n",
       "    </tr>\n",
       "    <tr>\n",
       "      <th>...</th>\n",
       "      <td>...</td>\n",
       "      <td>...</td>\n",
       "      <td>...</td>\n",
       "      <td>...</td>\n",
       "      <td>...</td>\n",
       "      <td>...</td>\n",
       "      <td>...</td>\n",
       "      <td>...</td>\n",
       "      <td>...</td>\n",
       "    </tr>\n",
       "    <tr>\n",
       "      <th>940</th>\n",
       "      <td>941</td>\n",
       "      <td>Wat</td>\n",
       "      <td>Fideler</td>\n",
       "      <td>1986-05-26 00:01:19.761</td>\n",
       "      <td>Male</td>\n",
       "      <td>Black/African-American</td>\n",
       "      <td>English</td>\n",
       "      <td>1986-05-26</td>\n",
       "      <td>36</td>\n",
       "    </tr>\n",
       "    <tr>\n",
       "      <th>941</th>\n",
       "      <td>942</td>\n",
       "      <td>Wandie</td>\n",
       "      <td>Baythrop</td>\n",
       "      <td>1970-06-10 21:41:03.814</td>\n",
       "      <td>Male</td>\n",
       "      <td>Black/African-American</td>\n",
       "      <td>English</td>\n",
       "      <td>1970-06-10</td>\n",
       "      <td>52</td>\n",
       "    </tr>\n",
       "    <tr>\n",
       "      <th>942</th>\n",
       "      <td>943</td>\n",
       "      <td>Diahann</td>\n",
       "      <td>Smeeton</td>\n",
       "      <td>1983-01-08 21:49:27.884</td>\n",
       "      <td>Male</td>\n",
       "      <td>Black/African-American</td>\n",
       "      <td>English</td>\n",
       "      <td>1983-01-08</td>\n",
       "      <td>40</td>\n",
       "    </tr>\n",
       "    <tr>\n",
       "      <th>943</th>\n",
       "      <td>944</td>\n",
       "      <td>Panchito</td>\n",
       "      <td>Sharple</td>\n",
       "      <td>1963-06-05 07:57:05.569</td>\n",
       "      <td>Male</td>\n",
       "      <td>Black/African-American</td>\n",
       "      <td>English</td>\n",
       "      <td>1963-06-05</td>\n",
       "      <td>59</td>\n",
       "    </tr>\n",
       "    <tr>\n",
       "      <th>944</th>\n",
       "      <td>945</td>\n",
       "      <td>Walsh</td>\n",
       "      <td>Calvie</td>\n",
       "      <td>1972-08-06 03:40:03.454</td>\n",
       "      <td>Male</td>\n",
       "      <td>Black/African-American</td>\n",
       "      <td>English</td>\n",
       "      <td>1972-08-06</td>\n",
       "      <td>50</td>\n",
       "    </tr>\n",
       "  </tbody>\n",
       "</table>\n",
       "<p>945 rows × 9 columns</p>\n",
       "</div>"
      ],
      "text/plain": [
       "     PatientID FirstName  LastName             DateOfBirth Gender  \\\n",
       "0            1     Lanni       Sue 1960-01-01 00:00:00.000   Male   \n",
       "1            2       Far     Myers 1985-11-15 02:08:42.090   Male   \n",
       "2            3   Devlin    Michael 1976-04-15 02:52:09.762   Male   \n",
       "3            4   Carmine     Texas 1968-10-15 03:32:13.635   Male   \n",
       "4            5     Tann       Bama 1962-05-01 19:12:58.950   Male   \n",
       "..         ...       ...       ...                     ...    ...   \n",
       "940        941       Wat   Fideler 1986-05-26 00:01:19.761   Male   \n",
       "941        942    Wandie  Baythrop 1970-06-10 21:41:03.814   Male   \n",
       "942        943   Diahann   Smeeton 1983-01-08 21:49:27.884   Male   \n",
       "943        944  Panchito   Sharple 1963-06-05 07:57:05.569   Male   \n",
       "944        945     Walsh    Calvie 1972-08-06 03:40:03.454   Male   \n",
       "\n",
       "                       Race Language        Date  Age  \n",
       "0                     White  English  1960-01-01   63  \n",
       "1                     White  English  1985-11-15   37  \n",
       "2                     White  English  1976-04-15   46  \n",
       "3                     White  English  1968-10-15   54  \n",
       "4                     White  English  1962-05-01   60  \n",
       "..                      ...      ...         ...  ...  \n",
       "940  Black/African-American  English  1986-05-26   36  \n",
       "941  Black/African-American  English  1970-06-10   52  \n",
       "942  Black/African-American  English  1983-01-08   40  \n",
       "943  Black/African-American  English  1963-06-05   59  \n",
       "944  Black/African-American  English  1972-08-06   50  \n",
       "\n",
       "[945 rows x 9 columns]"
      ]
     },
     "execution_count": 8,
     "metadata": {},
     "output_type": "execute_result"
    }
   ],
   "source": [
    "def age(born):\n",
    "    born = datetime.strptime(born, \"%Y-%m-%d\").date()\n",
    "    today = date.today()\n",
    "    return today.year - born.year - ((today.month, \n",
    "                                      today.day) < (born.month, \n",
    "                                                    born.day))\n",
    "df_patients['Date'] = (pd.to_datetime(df_patients['DateOfBirth']).dt.date).astype(str)\n",
    "df_patients['Age'] = df_patients['Date'].apply(age)\n",
    "df_patients"
   ]
  },
  {
   "cell_type": "markdown",
   "id": "a54eaadb",
   "metadata": {},
   "source": [
    "# 41. Find the age prone to get stroke.\n"
   ]
  },
  {
   "cell_type": "code",
   "execution_count": null,
   "id": "4cdd062c",
   "metadata": {},
   "outputs": [],
   "source": []
  },
  {
   "cell_type": "code",
   "execution_count": null,
   "id": "aa05e56c",
   "metadata": {},
   "outputs": [],
   "source": [
    "# "
   ]
  },
  {
   "cell_type": "code",
   "execution_count": null,
   "id": "450e6afa",
   "metadata": {},
   "outputs": [],
   "source": []
  },
  {
   "cell_type": "code",
   "execution_count": null,
   "id": "3dc081ba",
   "metadata": {},
   "outputs": [],
   "source": []
  },
  {
   "cell_type": "markdown",
   "id": "9bb9776b",
   "metadata": {},
   "source": [
    "# 43. Details of patients whose first name or last name contains \"lau\""
   ]
  },
  {
   "cell_type": "code",
   "execution_count": 7,
   "id": "208aca09",
   "metadata": {},
   "outputs": [],
   "source": [
    "newdf = df_patients[(df_patients['FirstName'].str.contains(\"lau\", case = False) ) | (df_patients['LastName'].str.contains(\"lau\",case = False))]"
   ]
  },
  {
   "cell_type": "code",
   "execution_count": 8,
   "id": "a6e6985a",
   "metadata": {},
   "outputs": [
    {
     "data": {
      "text/html": [
       "<div>\n",
       "<style scoped>\n",
       "    .dataframe tbody tr th:only-of-type {\n",
       "        vertical-align: middle;\n",
       "    }\n",
       "\n",
       "    .dataframe tbody tr th {\n",
       "        vertical-align: top;\n",
       "    }\n",
       "\n",
       "    .dataframe thead th {\n",
       "        text-align: right;\n",
       "    }\n",
       "</style>\n",
       "<table border=\"1\" class=\"dataframe\">\n",
       "  <thead>\n",
       "    <tr style=\"text-align: right;\">\n",
       "      <th></th>\n",
       "      <th>PatientID</th>\n",
       "      <th>FirstName</th>\n",
       "      <th>LastName</th>\n",
       "      <th>DateOfBirth</th>\n",
       "      <th>Gender</th>\n",
       "      <th>Race</th>\n",
       "      <th>Language</th>\n",
       "    </tr>\n",
       "  </thead>\n",
       "  <tbody>\n",
       "    <tr>\n",
       "      <th>282</th>\n",
       "      <td>283</td>\n",
       "      <td>Lauren</td>\n",
       "      <td>Gaskal</td>\n",
       "      <td>1962-05-08 01:54:00.111</td>\n",
       "      <td>Female</td>\n",
       "      <td>Black/African-American</td>\n",
       "      <td>English</td>\n",
       "    </tr>\n",
       "    <tr>\n",
       "      <th>322</th>\n",
       "      <td>323</td>\n",
       "      <td>Lauren</td>\n",
       "      <td>Foort</td>\n",
       "      <td>1960-06-23 20:07:53.045</td>\n",
       "      <td>Female</td>\n",
       "      <td>White</td>\n",
       "      <td>English</td>\n",
       "    </tr>\n",
       "    <tr>\n",
       "      <th>369</th>\n",
       "      <td>370</td>\n",
       "      <td>Zulauf</td>\n",
       "      <td>Ellingham</td>\n",
       "      <td>1982-12-17 16:27:56.391</td>\n",
       "      <td>Female</td>\n",
       "      <td>White</td>\n",
       "      <td>English</td>\n",
       "    </tr>\n",
       "    <tr>\n",
       "      <th>382</th>\n",
       "      <td>383</td>\n",
       "      <td>Zulauf</td>\n",
       "      <td>LLC</td>\n",
       "      <td>1969-03-16 07:48:49.338</td>\n",
       "      <td>Female</td>\n",
       "      <td>White</td>\n",
       "      <td>English</td>\n",
       "    </tr>\n",
       "    <tr>\n",
       "      <th>454</th>\n",
       "      <td>455</td>\n",
       "      <td>Zulauf</td>\n",
       "      <td>Alvar</td>\n",
       "      <td>1961-10-02 08:24:17.334</td>\n",
       "      <td>Female</td>\n",
       "      <td>White</td>\n",
       "      <td>English</td>\n",
       "    </tr>\n",
       "    <tr>\n",
       "      <th>463</th>\n",
       "      <td>464</td>\n",
       "      <td>Zulauf</td>\n",
       "      <td>Manske</td>\n",
       "      <td>1965-06-22 02:49:28.667</td>\n",
       "      <td>Female</td>\n",
       "      <td>White</td>\n",
       "      <td>English</td>\n",
       "    </tr>\n",
       "    <tr>\n",
       "      <th>818</th>\n",
       "      <td>819</td>\n",
       "      <td>Zulauf</td>\n",
       "      <td>Bitcheno</td>\n",
       "      <td>1967-04-02 07:17:53.635</td>\n",
       "      <td>Female</td>\n",
       "      <td>White</td>\n",
       "      <td>English</td>\n",
       "    </tr>\n",
       "    <tr>\n",
       "      <th>830</th>\n",
       "      <td>831</td>\n",
       "      <td>Zulauf</td>\n",
       "      <td>O'Shavlan</td>\n",
       "      <td>1970-05-17 08:09:28.988</td>\n",
       "      <td>Female</td>\n",
       "      <td>White</td>\n",
       "      <td>English</td>\n",
       "    </tr>\n",
       "    <tr>\n",
       "      <th>850</th>\n",
       "      <td>851</td>\n",
       "      <td>Lemmy</td>\n",
       "      <td>Klausen</td>\n",
       "      <td>1973-06-18 06:19:43.475</td>\n",
       "      <td>Female</td>\n",
       "      <td>White</td>\n",
       "      <td>English</td>\n",
       "    </tr>\n",
       "    <tr>\n",
       "      <th>906</th>\n",
       "      <td>907</td>\n",
       "      <td>Jerrilyn</td>\n",
       "      <td>Klausen</td>\n",
       "      <td>1979-09-04 13:05:57.870</td>\n",
       "      <td>Male</td>\n",
       "      <td>Black/African-American</td>\n",
       "      <td>English</td>\n",
       "    </tr>\n",
       "    <tr>\n",
       "      <th>910</th>\n",
       "      <td>911</td>\n",
       "      <td>Zulauf</td>\n",
       "      <td>Orbine</td>\n",
       "      <td>1973-06-26 03:13:50.449</td>\n",
       "      <td>Male</td>\n",
       "      <td>Black/African-American</td>\n",
       "      <td>English</td>\n",
       "    </tr>\n",
       "  </tbody>\n",
       "</table>\n",
       "</div>"
      ],
      "text/plain": [
       "     PatientID FirstName   LastName             DateOfBirth  Gender  \\\n",
       "282        283    Lauren     Gaskal 1962-05-08 01:54:00.111  Female   \n",
       "322        323    Lauren      Foort 1960-06-23 20:07:53.045  Female   \n",
       "369        370    Zulauf  Ellingham 1982-12-17 16:27:56.391  Female   \n",
       "382        383    Zulauf        LLC 1969-03-16 07:48:49.338  Female   \n",
       "454        455    Zulauf      Alvar 1961-10-02 08:24:17.334  Female   \n",
       "463        464    Zulauf     Manske 1965-06-22 02:49:28.667  Female   \n",
       "818        819    Zulauf   Bitcheno 1967-04-02 07:17:53.635  Female   \n",
       "830        831    Zulauf  O'Shavlan 1970-05-17 08:09:28.988  Female   \n",
       "850        851     Lemmy    Klausen 1973-06-18 06:19:43.475  Female   \n",
       "906        907  Jerrilyn    Klausen 1979-09-04 13:05:57.870    Male   \n",
       "910        911    Zulauf     Orbine 1973-06-26 03:13:50.449    Male   \n",
       "\n",
       "                       Race Language  \n",
       "282  Black/African-American  English  \n",
       "322                   White  English  \n",
       "369                   White  English  \n",
       "382                   White  English  \n",
       "454                   White  English  \n",
       "463                   White  English  \n",
       "818                   White  English  \n",
       "830                   White  English  \n",
       "850                   White  English  \n",
       "906  Black/African-American  English  \n",
       "910  Black/African-American  English  "
      ]
     },
     "execution_count": 8,
     "metadata": {},
     "output_type": "execute_result"
    }
   ],
   "source": [
    "newdf"
   ]
  },
  {
   "cell_type": "markdown",
   "id": "1c37d742",
   "metadata": {},
   "source": [
    "# 45. Usage of Enumeration in Python with any example"
   ]
  },
  {
   "cell_type": "code",
   "execution_count": 10,
   "id": "dfb273d1",
   "metadata": {},
   "outputs": [
    {
     "name": "stdout",
     "output_type": "stream",
     "text": [
      "<class 'enumerate'>\n",
      "<enumerate object at 0x00000229249F5B40>\n"
     ]
    }
   ],
   "source": [
    "drinks = ['tea', 'coffee', 'cappuccino', 'lemonade']\n",
    "enumerated_drinks = enumerate(drinks)\n",
    "print(type(enumerated_drinks))\n",
    "print(enumerated_drinks)"
   ]
  },
  {
   "cell_type": "code",
   "execution_count": 11,
   "id": "b3ac3482",
   "metadata": {},
   "outputs": [
    {
     "name": "stdout",
     "output_type": "stream",
     "text": [
      "[(0, 'tea'), (1, 'coffee'), (2, 'cappuccino'), (3, 'lemonade')]\n"
     ]
    }
   ],
   "source": [
    "list_enumerated_drinks = list(enumerated_drinks)\n",
    "print(list_enumerated_drinks)"
   ]
  },
  {
   "cell_type": "code",
   "execution_count": 12,
   "id": "8622b8d5",
   "metadata": {},
   "outputs": [
    {
     "name": "stdout",
     "output_type": "stream",
     "text": [
      "(0, 'tea')\n",
      "tea\n"
     ]
    }
   ],
   "source": [
    "print(list_enumerated_drinks[0])\n",
    "print(list_enumerated_drinks[0][1])"
   ]
  },
  {
   "cell_type": "markdown",
   "id": "6a8c2432",
   "metadata": {},
   "source": [
    "# 46.Count of cancelled status"
   ]
  },
  {
   "cell_type": "code",
   "execution_count": 20,
   "id": "ec4825f5",
   "metadata": {},
   "outputs": [
    {
     "data": {
      "text/plain": [
       "60"
      ]
     },
     "execution_count": 20,
     "metadata": {},
     "output_type": "execute_result"
    }
   ],
   "source": [
    "new_df = df_ambulatory_visits[df_ambulatory_visits['VisitStatus']=='Canceled'][\"VisitID\"]\n",
    "new_df.count()"
   ]
  },
  {
   "cell_type": "markdown",
   "id": "76a924d6",
   "metadata": {},
   "source": [
    "# 47. Display the patient details with maximum pulse pressure.\n"
   ]
  },
  {
   "cell_type": "code",
   "execution_count": 21,
   "id": "5b9523fa",
   "metadata": {},
   "outputs": [
    {
     "data": {
      "text/html": [
       "<div>\n",
       "<style scoped>\n",
       "    .dataframe tbody tr th:only-of-type {\n",
       "        vertical-align: middle;\n",
       "    }\n",
       "\n",
       "    .dataframe tbody tr th {\n",
       "        vertical-align: top;\n",
       "    }\n",
       "\n",
       "    .dataframe thead th {\n",
       "        text-align: right;\n",
       "    }\n",
       "</style>\n",
       "<table border=\"1\" class=\"dataframe\">\n",
       "  <thead>\n",
       "    <tr style=\"text-align: right;\">\n",
       "      <th></th>\n",
       "      <th>VisitID</th>\n",
       "      <th>PatientMRN</th>\n",
       "      <th>ProviderID</th>\n",
       "      <th>DateofVisit</th>\n",
       "      <th>DateScheduled</th>\n",
       "      <th>VisitDepartmentID</th>\n",
       "      <th>VisitType</th>\n",
       "      <th>BloodPressureSystolic</th>\n",
       "      <th>BloodPressureDiastolic</th>\n",
       "      <th>Pulse</th>\n",
       "      <th>VisitStatus</th>\n",
       "    </tr>\n",
       "  </thead>\n",
       "  <tbody>\n",
       "    <tr>\n",
       "      <th>495</th>\n",
       "      <td>174</td>\n",
       "      <td>812</td>\n",
       "      <td>22</td>\n",
       "      <td>2019-02-19</td>\n",
       "      <td>2019-01-31 21:32:02.485</td>\n",
       "      <td>6</td>\n",
       "      <td>Follow Up</td>\n",
       "      <td>182.0</td>\n",
       "      <td>115.899432</td>\n",
       "      <td>99.986463</td>\n",
       "      <td>Completed</td>\n",
       "    </tr>\n",
       "  </tbody>\n",
       "</table>\n",
       "</div>"
      ],
      "text/plain": [
       "     VisitID  PatientMRN  ProviderID DateofVisit           DateScheduled  \\\n",
       "495      174         812          22  2019-02-19 2019-01-31 21:32:02.485   \n",
       "\n",
       "     VisitDepartmentID  VisitType  BloodPressureSystolic  \\\n",
       "495                  6  Follow Up                  182.0   \n",
       "\n",
       "     BloodPressureDiastolic      Pulse VisitStatus  \n",
       "495              115.899432  99.986463   Completed  "
      ]
     },
     "execution_count": 21,
     "metadata": {},
     "output_type": "execute_result"
    }
   ],
   "source": [
    "df_ambulatory_visits[df_ambulatory_visits['Pulse']==df_ambulatory_visits['Pulse'].max()]"
   ]
  },
  {
   "cell_type": "markdown",
   "id": "f2622402",
   "metadata": {},
   "source": [
    "# 48. Create a heat map to show the correlation between the column values of Edvisits.\n"
   ]
  },
  {
   "cell_type": "code",
   "execution_count": 40,
   "id": "b8c522e7",
   "metadata": {},
   "outputs": [
    {
     "data": {
      "image/png": "[encoded data removed]",
      "text/plain": [
       "<Figure size 640x480 with 2 Axes>"
      ]
     },
     "metadata": {},
     "output_type": "display_data"
    }
   ],
   "source": [
    "ed_visit = df_ed_visits.corr()\n",
    "sns.heatmap(ed_visit,cmap = \"coolwarm\", annot=True)\n",
    "plt.show()"
   ]
  },
  {
   "cell_type": "markdown",
   "id": "d0815136",
   "metadata": {},
   "source": [
    "# 49. Plot a graph by counting the no. of patients in each department.\n"
   ]
  },
  {
   "cell_type": "code",
   "execution_count": 245,
   "id": "f899eafc",
   "metadata": {},
   "outputs": [
    {
     "data": {
      "text/plain": [
       "<Axes: title={'center': 'No. of Patients per Department'}, xlabel='PatientMRN', ylabel='VisitDepartmentID'>"
      ]
     },
     "execution_count": 245,
     "metadata": {},
     "output_type": "execute_result"
    },
    {
     "data": {
      "image/png": "[encoded data removed]",
      "text/plain": [
       "<Figure size 640x480 with 1 Axes>"
      ]
     },
     "metadata": {},
     "output_type": "display_data"
    }
   ],
   "source": [
    "by_dept = df_ambulatory_visits.groupby(\"VisitDepartmentID\").count()[\"PatientMRN\"]\n",
    "by_dept.plot(kind='bar',title=\"No. of Patients per Department\", ylabel='VisitDepartmentID',\n",
    "         xlabel='PatientMRN')"
   ]
  },
  {
   "cell_type": "markdown",
   "id": "91522273",
   "metadata": {},
   "source": [
    "# 52. Using indexing , loc to retrieve the row with maximum BloodPressureSystolic.\n"
   ]
  },
  {
   "cell_type": "code",
   "execution_count": 53,
   "id": "774d5293",
   "metadata": {},
   "outputs": [
    {
     "data": {
      "text/plain": [
       "VisitID                                          933\n",
       "PatientMRN                                       884\n",
       "ProviderID                                        27\n",
       "DateofVisit                      2019-02-14 00:00:00\n",
       "DateScheduled             2019-01-22 19:26:49.163000\n",
       "VisitDepartmentID                                 12\n",
       "VisitType                               Telemedicine\n",
       "BloodPressureSystolic                          190.0\n",
       "BloodPressureDiastolic                    143.989174\n",
       "Pulse                                      74.976879\n",
       "VisitStatus                                Completed\n",
       "Name: 236, dtype: object"
      ]
     },
     "execution_count": 53,
     "metadata": {},
     "output_type": "execute_result"
    }
   ],
   "source": [
    "df_ambulatory_visits.loc[df_ambulatory_visits[\"BloodPressureSystolic\"].idxmax()]"
   ]
  },
  {
   "cell_type": "markdown",
   "id": "727988e2",
   "metadata": {},
   "source": [
    "# 53. Plot a graph by multiplotting on the same canvas  (Take any set of x & y values).\n"
   ]
  },
  {
   "cell_type": "code",
   "execution_count": 54,
   "id": "8fa69e0a",
   "metadata": {},
   "outputs": [],
   "source": [
    "x = np.linspace(0,5,10)\n",
    "y = x ** 2"
   ]
  },
  {
   "cell_type": "code",
   "execution_count": 55,
   "id": "cd99a86a",
   "metadata": {},
   "outputs": [
    {
     "data": {
      "text/plain": [
       "array([0.        , 0.55555556, 1.11111111, 1.66666667, 2.22222222,\n",
       "       2.77777778, 3.33333333, 3.88888889, 4.44444444, 5.        ])"
      ]
     },
     "execution_count": 55,
     "metadata": {},
     "output_type": "execute_result"
    }
   ],
   "source": [
    "x"
   ]
  },
  {
   "cell_type": "code",
   "execution_count": 56,
   "id": "3fa20b67",
   "metadata": {},
   "outputs": [
    {
     "data": {
      "text/plain": [
       "array([ 0.        ,  0.30864198,  1.2345679 ,  2.77777778,  4.9382716 ,\n",
       "        7.71604938, 11.11111111, 15.12345679, 19.75308642, 25.        ])"
      ]
     },
     "execution_count": 56,
     "metadata": {},
     "output_type": "execute_result"
    }
   ],
   "source": [
    "y"
   ]
  },
  {
   "cell_type": "code",
   "execution_count": 59,
   "id": "6777c445",
   "metadata": {},
   "outputs": [
    {
     "data": {
      "text/plain": [
       "[<matplotlib.lines.Line2D at 0x22930f0f4c0>]"
      ]
     },
     "execution_count": 59,
     "metadata": {},
     "output_type": "execute_result"
    },
    {
     "data": {
      "image/png": "[encoded data removed]",
      "text/plain": [
       "<Figure size 640x480 with 2 Axes>"
      ]
     },
     "metadata": {},
     "output_type": "display_data"
    }
   ],
   "source": [
    "plt.subplot(1,2,1)\n",
    "plt.plot(x,y,\"r--\")\n",
    "plt.subplot(1,2,2)\n",
    "plt.plot(x,y,\"g*-\")"
   ]
  },
  {
   "cell_type": "markdown",
   "id": "22375279",
   "metadata": {},
   "source": [
    "# 54. Retrieve the row with minimum DBP using sorting technique.\n"
   ]
  },
  {
   "cell_type": "code",
   "execution_count": 66,
   "id": "8c392557",
   "metadata": {},
   "outputs": [
    {
     "data": {
      "text/html": [
       "<div>\n",
       "<style scoped>\n",
       "    .dataframe tbody tr th:only-of-type {\n",
       "        vertical-align: middle;\n",
       "    }\n",
       "\n",
       "    .dataframe tbody tr th {\n",
       "        vertical-align: top;\n",
       "    }\n",
       "\n",
       "    .dataframe thead th {\n",
       "        text-align: right;\n",
       "    }\n",
       "</style>\n",
       "<table border=\"1\" class=\"dataframe\">\n",
       "  <thead>\n",
       "    <tr style=\"text-align: right;\">\n",
       "      <th></th>\n",
       "      <th>VisitID</th>\n",
       "      <th>PatientMRN</th>\n",
       "      <th>ProviderID</th>\n",
       "      <th>DateofVisit</th>\n",
       "      <th>DateScheduled</th>\n",
       "      <th>VisitDepartmentID</th>\n",
       "      <th>VisitType</th>\n",
       "      <th>BloodPressureSystolic</th>\n",
       "      <th>BloodPressureDiastolic</th>\n",
       "      <th>Pulse</th>\n",
       "      <th>VisitStatus</th>\n",
       "    </tr>\n",
       "  </thead>\n",
       "  <tbody>\n",
       "    <tr>\n",
       "      <th>757</th>\n",
       "      <td>163</td>\n",
       "      <td>801</td>\n",
       "      <td>11</td>\n",
       "      <td>2019-02-08</td>\n",
       "      <td>2019-02-07 23:41:12.181</td>\n",
       "      <td>7</td>\n",
       "      <td>Follow Up</td>\n",
       "      <td>120.0</td>\n",
       "      <td>51.695653</td>\n",
       "      <td>53.310495</td>\n",
       "      <td>Completed</td>\n",
       "    </tr>\n",
       "  </tbody>\n",
       "</table>\n",
       "</div>"
      ],
      "text/plain": [
       "     VisitID  PatientMRN  ProviderID DateofVisit           DateScheduled  \\\n",
       "757      163         801          11  2019-02-08 2019-02-07 23:41:12.181   \n",
       "\n",
       "     VisitDepartmentID  VisitType  BloodPressureSystolic  \\\n",
       "757                  7  Follow Up                  120.0   \n",
       "\n",
       "     BloodPressureDiastolic      Pulse VisitStatus  \n",
       "757               51.695653  53.310495   Completed  "
      ]
     },
     "execution_count": 66,
     "metadata": {},
     "output_type": "execute_result"
    }
   ],
   "source": [
    "df_ambulatory_visits.sort_values(by=[\"BloodPressureDiastolic\"]).head(1)\n"
   ]
  },
  {
   "cell_type": "markdown",
   "id": "353a3c4a",
   "metadata": {},
   "source": [
    "# 55. Replace all the null values in ReadmissionFlag with 0.\n"
   ]
  },
  {
   "cell_type": "code",
   "execution_count": 69,
   "id": "4d0c0a0d",
   "metadata": {},
   "outputs": [
    {
     "data": {
      "text/plain": [
       "0      0.0\n",
       "1      1.0\n",
       "2      1.0\n",
       "3      1.0\n",
       "4      0.0\n",
       "      ... \n",
       "715    0.0\n",
       "716    0.0\n",
       "717    0.0\n",
       "718    0.0\n",
       "719    0.0\n",
       "Name: ReadmissionFlag, Length: 720, dtype: float64"
      ]
     },
     "execution_count": 69,
     "metadata": {},
     "output_type": "execute_result"
    }
   ],
   "source": [
    "df_re_admission_registry[\"ReadmissionFlag\"].fillna(0)"
   ]
  },
  {
   "cell_type": "markdown",
   "id": "a8b12038",
   "metadata": {},
   "source": [
    "# 56. Get the list of patient ID's which are not there in ReadmissionRegistry.\n"
   ]
  },
  {
   "cell_type": "code",
   "execution_count": 142,
   "id": "c631714d",
   "metadata": {},
   "outputs": [
    {
     "data": {
      "text/plain": [
       "array([  4, 135, 145, 189, 200, 224, 234, 374, 378, 379, 380, 381, 382,\n",
       "       383, 384, 385, 386, 387, 388, 389, 390, 391, 392, 393, 394, 395,\n",
       "       396, 397, 398, 399, 414, 501, 562, 599, 690, 691, 704, 726, 743,\n",
       "       744, 745, 746, 747, 748, 749, 750, 751, 752, 753, 754, 755, 756,\n",
       "       757, 758, 759, 760, 761, 762, 763, 764, 765, 766, 767, 768, 769,\n",
       "       770, 771, 772, 773, 774, 775, 776, 777, 778, 779, 780, 781, 782,\n",
       "       783, 784, 785, 786, 787, 788, 789, 790, 791, 792, 793, 794, 795,\n",
       "       796, 797, 798, 799, 800, 801, 802, 803, 804, 805, 806, 807, 808,\n",
       "       809, 810, 811, 812, 813, 814, 815, 816, 817, 818, 819, 820, 821,\n",
       "       822, 823, 824, 825, 826, 827, 828, 829, 830, 831, 832, 833, 834,\n",
       "       835, 836, 837, 838, 839, 840, 841, 842, 843, 844, 845, 846, 847,\n",
       "       848, 849, 850, 851, 852, 853, 854, 855, 856, 857, 858, 859, 860,\n",
       "       861, 862, 863, 864, 865, 866, 867, 868, 869, 870, 871, 872, 873,\n",
       "       874, 875, 876, 877, 878, 879, 880, 881, 882, 883, 884, 885, 886,\n",
       "       887, 888, 889, 890, 891, 892, 893, 894, 895, 896, 897, 898, 899,\n",
       "       900, 901, 902, 903, 904, 905, 906, 907, 908, 909, 910, 911, 912,\n",
       "       913, 914, 915, 916, 917, 918, 919, 920, 921, 922, 923, 924, 925,\n",
       "       926, 927, 928, 929, 930, 931, 932, 933, 934, 935, 936, 937, 938,\n",
       "       939, 940, 941, 942, 943, 944, 945], dtype=int64)"
      ]
     },
     "execution_count": 142,
     "metadata": {},
     "output_type": "execute_result"
    }
   ],
   "source": [
    "common = df_patients.merge(df_re_admission_registry, on=[\"PatientID\"])\n",
    "df_patients[(~df_patients.PatientID.isin(common.PatientID))][\"PatientID\"].values\n"
   ]
  },
  {
   "cell_type": "markdown",
   "id": "566009df",
   "metadata": {},
   "source": [
    "# 57. Find reasonForVisit with highest count of acuity 5 patients.\n"
   ]
  },
  {
   "cell_type": "code",
   "execution_count": 186,
   "id": "02b94f95",
   "metadata": {},
   "outputs": [
    {
     "data": {
      "text/plain": [
       "357    Shortness of Breath\n",
       "453               Gun Shot\n",
       "200                  Fever\n",
       "201               Gun Shot\n",
       "207              Pneumonia\n",
       "Name: ReasonForVisit, dtype: object"
      ]
     },
     "execution_count": 186,
     "metadata": {},
     "output_type": "execute_result"
    }
   ],
   "source": [
    "ed_visit = df_ed_visits.sort_values(by=[\"Acuity\"],ascending=False).head(5)\n",
    "ed_visit[\"ReasonForVisit\"]"
   ]
  },
  {
   "cell_type": "markdown",
   "id": "016f33e3",
   "metadata": {},
   "source": [
    "# 58. Display full name of patients who are born in 1986.\n"
   ]
  },
  {
   "cell_type": "code",
   "execution_count": 168,
   "id": "3f5cdb6c",
   "metadata": {},
   "outputs": [
    {
     "data": {
      "text/plain": [
       "23         Gabriel  Joseph\n",
       "24         Lincoln  Brenda\n",
       "29             Ala Halpert\n",
       "72            Lolita Darci\n",
       "164         Fadel Bernardt\n",
       "238         Bentley Kippax\n",
       "367            Vale Olanda\n",
       "373          Britt Dureden\n",
       "386       Cristabel Chatel\n",
       "415       Constantia Group\n",
       "452       Morgan Scrowston\n",
       "561             Dom Baglow\n",
       "568        Ignazio Melling\n",
       "595         Homenick Rings\n",
       "639           Hashim Slark\n",
       "643       Ellie Ramsbotham\n",
       "674        Llewellyn Group\n",
       "714             Niles Shaw\n",
       "733             Yvette Inc\n",
       "777          Siouxie Group\n",
       "852            Carly Group\n",
       "868        Worth Pickering\n",
       "877           Arni Baldack\n",
       "909       Kuvalis Coupland\n",
       "922    Rebbecca Rollingson\n",
       "940            Wat Fideler\n",
       "dtype: object"
      ]
     },
     "execution_count": 168,
     "metadata": {},
     "output_type": "execute_result"
    }
   ],
   "source": [
    "(df_patients[\"FirstName\"]+\" \"+df_patients[\"LastName\"]).where(df_patients['DateOfBirth'].dt.year == 1986).dropna()\n"
   ]
  },
  {
   "cell_type": "markdown",
   "id": "5d42b087",
   "metadata": {},
   "source": [
    "# 60. Create a heat map on Readmission Registry table to find correlation between columns values.\n"
   ]
  },
  {
   "cell_type": "code",
   "execution_count": 177,
   "id": "8053bf78",
   "metadata": {},
   "outputs": [
    {
     "data": {
      "image/png": "[encoded data removed]",
      "text/plain": [
       "<Figure size 640x480 with 2 Axes>"
      ]
     },
     "metadata": {},
     "output_type": "display_data"
    }
   ],
   "source": [
    "readmission_registry = df_re_admission_registry.corr()\n",
    "sns.heatmap(readmission_registry,cmap = \"Spectral\", annot=True)\n",
    "plt.show()"
   ]
  },
  {
   "cell_type": "code",
   "execution_count": null,
   "id": "980abe9d",
   "metadata": {},
   "outputs": [],
   "source": []
  }
 ],
 "metadata": {
  "kernelspec": {
   "display_name": "Python 3 (ipykernel)",
   "language": "python",
   "name": "python3"
  },
  "language_info": {
   "codemirror_mode": {
    "name": "ipython",
    "version": 3
   },
   "file_extension": ".py",
   "mimetype": "text/x-python",
   "name": "python",
   "nbconvert_exporter": "python",
   "pygments_lexer": "ipython3",
   "version": "3.10.9"
  }
 },
 "nbformat": 4,
 "nbformat_minor": 5
}
