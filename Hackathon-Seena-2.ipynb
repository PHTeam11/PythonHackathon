{
 "cells": [
  {
   "cell_type": "code",
   "execution_count": 1,
   "id": "3fd4e267",
   "metadata": {},
   "outputs": [],
   "source": [
    "import numpy as np\n",
    "import pandas as pd\n",
    "import matplotlib.pyplot as plt\n",
    "import seaborn as sns\n",
    "import datetime\n",
    "import warnings \n",
    "from datetime import date\n",
    "\n",
    "warnings.filterwarnings(\"ignore\")"
   ]
  },
  {
   "cell_type": "code",
   "execution_count": 2,
   "id": "4044f907",
   "metadata": {},
   "outputs": [
    {
     "data": {
      "text/html": [
       "<div>\n",
       "<style scoped>\n",
       "    .dataframe tbody tr th:only-of-type {\n",
       "        vertical-align: middle;\n",
       "    }\n",
       "\n",
       "    .dataframe tbody tr th {\n",
       "        vertical-align: top;\n",
       "    }\n",
       "\n",
       "    .dataframe thead th {\n",
       "        text-align: right;\n",
       "    }\n",
       "</style>\n",
       "<table border=\"1\" class=\"dataframe\">\n",
       "  <thead>\n",
       "    <tr style=\"text-align: right;\">\n",
       "      <th></th>\n",
       "      <th>PatientID</th>\n",
       "      <th>FirstName</th>\n",
       "      <th>LastName</th>\n",
       "      <th>DateOfBirth</th>\n",
       "      <th>Gender</th>\n",
       "      <th>Race</th>\n",
       "      <th>Language</th>\n",
       "    </tr>\n",
       "  </thead>\n",
       "  <tbody>\n",
       "    <tr>\n",
       "      <th>0</th>\n",
       "      <td>1</td>\n",
       "      <td>Lanni</td>\n",
       "      <td>Sue</td>\n",
       "      <td>1960-01-01 00:00:00.000</td>\n",
       "      <td>Male</td>\n",
       "      <td>White</td>\n",
       "      <td>English</td>\n",
       "    </tr>\n",
       "    <tr>\n",
       "      <th>1</th>\n",
       "      <td>2</td>\n",
       "      <td>Far</td>\n",
       "      <td>Myers</td>\n",
       "      <td>1985-11-15 02:08:42.090</td>\n",
       "      <td>Male</td>\n",
       "      <td>White</td>\n",
       "      <td>English</td>\n",
       "    </tr>\n",
       "    <tr>\n",
       "      <th>2</th>\n",
       "      <td>3</td>\n",
       "      <td>Devlin</td>\n",
       "      <td>Michael</td>\n",
       "      <td>1976-04-15 02:52:09.762</td>\n",
       "      <td>Male</td>\n",
       "      <td>White</td>\n",
       "      <td>English</td>\n",
       "    </tr>\n",
       "    <tr>\n",
       "      <th>3</th>\n",
       "      <td>4</td>\n",
       "      <td>Carmine</td>\n",
       "      <td>Texas</td>\n",
       "      <td>1968-10-15 03:32:13.635</td>\n",
       "      <td>Male</td>\n",
       "      <td>White</td>\n",
       "      <td>English</td>\n",
       "    </tr>\n",
       "    <tr>\n",
       "      <th>4</th>\n",
       "      <td>5</td>\n",
       "      <td>Tann</td>\n",
       "      <td>Bama</td>\n",
       "      <td>1962-05-01 19:12:58.950</td>\n",
       "      <td>Male</td>\n",
       "      <td>White</td>\n",
       "      <td>English</td>\n",
       "    </tr>\n",
       "    <tr>\n",
       "      <th>...</th>\n",
       "      <td>...</td>\n",
       "      <td>...</td>\n",
       "      <td>...</td>\n",
       "      <td>...</td>\n",
       "      <td>...</td>\n",
       "      <td>...</td>\n",
       "      <td>...</td>\n",
       "    </tr>\n",
       "    <tr>\n",
       "      <th>940</th>\n",
       "      <td>941</td>\n",
       "      <td>Wat</td>\n",
       "      <td>Fideler</td>\n",
       "      <td>1986-05-26 00:01:19.761</td>\n",
       "      <td>Male</td>\n",
       "      <td>Black/African-American</td>\n",
       "      <td>English</td>\n",
       "    </tr>\n",
       "    <tr>\n",
       "      <th>941</th>\n",
       "      <td>942</td>\n",
       "      <td>Wandie</td>\n",
       "      <td>Baythrop</td>\n",
       "      <td>1970-06-10 21:41:03.814</td>\n",
       "      <td>Male</td>\n",
       "      <td>Black/African-American</td>\n",
       "      <td>English</td>\n",
       "    </tr>\n",
       "    <tr>\n",
       "      <th>942</th>\n",
       "      <td>943</td>\n",
       "      <td>Diahann</td>\n",
       "      <td>Smeeton</td>\n",
       "      <td>1983-01-08 21:49:27.884</td>\n",
       "      <td>Male</td>\n",
       "      <td>Black/African-American</td>\n",
       "      <td>English</td>\n",
       "    </tr>\n",
       "    <tr>\n",
       "      <th>943</th>\n",
       "      <td>944</td>\n",
       "      <td>Panchito</td>\n",
       "      <td>Sharple</td>\n",
       "      <td>1963-06-05 07:57:05.569</td>\n",
       "      <td>Male</td>\n",
       "      <td>Black/African-American</td>\n",
       "      <td>English</td>\n",
       "    </tr>\n",
       "    <tr>\n",
       "      <th>944</th>\n",
       "      <td>945</td>\n",
       "      <td>Walsh</td>\n",
       "      <td>Calvie</td>\n",
       "      <td>1972-08-06 03:40:03.454</td>\n",
       "      <td>Male</td>\n",
       "      <td>Black/African-American</td>\n",
       "      <td>English</td>\n",
       "    </tr>\n",
       "  </tbody>\n",
       "</table>\n",
       "<p>945 rows × 7 columns</p>\n",
       "</div>"
      ],
      "text/plain": [
       "     PatientID FirstName  LastName             DateOfBirth Gender  \\\n",
       "0            1     Lanni       Sue 1960-01-01 00:00:00.000   Male   \n",
       "1            2       Far     Myers 1985-11-15 02:08:42.090   Male   \n",
       "2            3   Devlin    Michael 1976-04-15 02:52:09.762   Male   \n",
       "3            4   Carmine     Texas 1968-10-15 03:32:13.635   Male   \n",
       "4            5     Tann       Bama 1962-05-01 19:12:58.950   Male   \n",
       "..         ...       ...       ...                     ...    ...   \n",
       "940        941       Wat   Fideler 1986-05-26 00:01:19.761   Male   \n",
       "941        942    Wandie  Baythrop 1970-06-10 21:41:03.814   Male   \n",
       "942        943   Diahann   Smeeton 1983-01-08 21:49:27.884   Male   \n",
       "943        944  Panchito   Sharple 1963-06-05 07:57:05.569   Male   \n",
       "944        945     Walsh    Calvie 1972-08-06 03:40:03.454   Male   \n",
       "\n",
       "                       Race Language  \n",
       "0                     White  English  \n",
       "1                     White  English  \n",
       "2                     White  English  \n",
       "3                     White  English  \n",
       "4                     White  English  \n",
       "..                      ...      ...  \n",
       "940  Black/African-American  English  \n",
       "941  Black/African-American  English  \n",
       "942  Black/African-American  English  \n",
       "943  Black/African-American  English  \n",
       "944  Black/African-American  English  \n",
       "\n",
       "[945 rows x 7 columns]"
      ]
     },
     "execution_count": 2,
     "metadata": {},
     "output_type": "execute_result"
    }
   ],
   "source": [
    "df_patients = pd.read_excel('HospitalDatabase.xlsx','Patients')\n",
    "df_ed_visits = pd.read_excel('HospitalDatabase.xlsx','EDVisits')\n",
    "df_ambulatory_visits = pd.read_excel('HospitalDatabase.xlsx','AmbulatoryVisits')\n",
    "df_discharge = pd.read_excel('HospitalDatabase.xlsx','Discharges')\n",
    "df_ed_unique = pd.read_excel('HospitalDatabase.xlsx','EDUnique')\n",
    "df_providers = pd.read_excel('HospitalDatabase.xlsx','Providers')\n",
    "\n",
    "df_patients"
   ]
  },
  {
   "cell_type": "markdown",
   "id": "e238e60b",
   "metadata": {},
   "source": [
    "# 61. np.arange(1,31).reshape(6,5) Find the array slicing to get the elements with values 11,12,16,17."
   ]
  },
  {
   "cell_type": "code",
   "execution_count": 3,
   "id": "f555cf82",
   "metadata": {},
   "outputs": [
    {
     "name": "stdout",
     "output_type": "stream",
     "text": [
      "[11 12] [16 17]\n"
     ]
    }
   ],
   "source": [
    "arr = np.arange(1,31).reshape(6,5)\n",
    "print(arr[2,:2],arr[3,:2])"
   ]
  },
  {
   "cell_type": "markdown",
   "id": "1044b675",
   "metadata": {},
   "source": [
    "# 62. Create a dataframe with acuity and EDDisposition as the indices and the count of number of patients as the value."
   ]
  },
  {
   "cell_type": "code",
   "execution_count": 4,
   "id": "f1d28618",
   "metadata": {},
   "outputs": [
    {
     "data": {
      "text/html": [
       "<div>\n",
       "<style scoped>\n",
       "    .dataframe tbody tr th:only-of-type {\n",
       "        vertical-align: middle;\n",
       "    }\n",
       "\n",
       "    .dataframe tbody tr th {\n",
       "        vertical-align: top;\n",
       "    }\n",
       "\n",
       "    .dataframe thead th {\n",
       "        text-align: right;\n",
       "    }\n",
       "</style>\n",
       "<table border=\"1\" class=\"dataframe\">\n",
       "  <thead>\n",
       "    <tr style=\"text-align: right;\">\n",
       "      <th></th>\n",
       "      <th></th>\n",
       "      <th>Count</th>\n",
       "    </tr>\n",
       "    <tr>\n",
       "      <th>Acuity</th>\n",
       "      <th>EDDisposition</th>\n",
       "      <th></th>\n",
       "    </tr>\n",
       "  </thead>\n",
       "  <tbody>\n",
       "    <tr>\n",
       "      <th rowspan=\"2\" valign=\"top\">1</th>\n",
       "      <th>Admitted</th>\n",
       "      <td>32</td>\n",
       "    </tr>\n",
       "    <tr>\n",
       "      <th>Discharged</th>\n",
       "      <td>558</td>\n",
       "    </tr>\n",
       "    <tr>\n",
       "      <th rowspan=\"2\" valign=\"top\">2</th>\n",
       "      <th>Admitted</th>\n",
       "      <td>116</td>\n",
       "    </tr>\n",
       "    <tr>\n",
       "      <th>Discharged</th>\n",
       "      <td>66</td>\n",
       "    </tr>\n",
       "    <tr>\n",
       "      <th>3</th>\n",
       "      <th>Admitted</th>\n",
       "      <td>81</td>\n",
       "    </tr>\n",
       "    <tr>\n",
       "      <th rowspan=\"2\" valign=\"top\">4</th>\n",
       "      <th>Admitted</th>\n",
       "      <td>107</td>\n",
       "    </tr>\n",
       "    <tr>\n",
       "      <th>Discharged</th>\n",
       "      <td>30</td>\n",
       "    </tr>\n",
       "    <tr>\n",
       "      <th rowspan=\"2\" valign=\"top\">5</th>\n",
       "      <th>Admitted</th>\n",
       "      <td>179</td>\n",
       "    </tr>\n",
       "    <tr>\n",
       "      <th>Discharged</th>\n",
       "      <td>30</td>\n",
       "    </tr>\n",
       "  </tbody>\n",
       "</table>\n",
       "</div>"
      ],
      "text/plain": [
       "                      Count\n",
       "Acuity EDDisposition       \n",
       "1      Admitted          32\n",
       "       Discharged       558\n",
       "2      Admitted         116\n",
       "       Discharged        66\n",
       "3      Admitted          81\n",
       "4      Admitted         107\n",
       "       Discharged        30\n",
       "5      Admitted         179\n",
       "       Discharged        30"
      ]
     },
     "execution_count": 4,
     "metadata": {},
     "output_type": "execute_result"
    }
   ],
   "source": [
    "data = {\n",
    "    'Acuity': df_ed_visits['Acuity'],\n",
    "    'EDDisposition': df_ed_visits['EDDisposition']\n",
    "       }\n",
    "df = pd.DataFrame(data)\n",
    "df_count = df.groupby(['Acuity', 'EDDisposition']).size().reset_index(name='Count')\n",
    "df_count.set_index(['Acuity', 'EDDisposition'], inplace=True)\n",
    "df_count"
   ]
  },
  {
   "cell_type": "markdown",
   "id": "014838c3",
   "metadata": {},
   "source": [
    "# 63. List male patients over the age of 60 who have undergone surgery from January-March 2019."
   ]
  },
  {
   "cell_type": "code",
   "execution_count": null,
   "id": "7ac72c2a",
   "metadata": {},
   "outputs": [],
   "source": []
  },
  {
   "cell_type": "markdown",
   "id": "4949d2f4",
   "metadata": {},
   "source": [
    "# 64. Create a dataframe by splitting provider name to firstname and lastname with names for the columns."
   ]
  },
  {
   "cell_type": "code",
   "execution_count": 5,
   "id": "5668aecd",
   "metadata": {},
   "outputs": [
    {
     "data": {
      "text/html": [
       "<div>\n",
       "<style scoped>\n",
       "    .dataframe tbody tr th:only-of-type {\n",
       "        vertical-align: middle;\n",
       "    }\n",
       "\n",
       "    .dataframe tbody tr th {\n",
       "        vertical-align: top;\n",
       "    }\n",
       "\n",
       "    .dataframe thead th {\n",
       "        text-align: right;\n",
       "    }\n",
       "</style>\n",
       "<table border=\"1\" class=\"dataframe\">\n",
       "  <thead>\n",
       "    <tr style=\"text-align: right;\">\n",
       "      <th></th>\n",
       "      <th>FirstName</th>\n",
       "      <th>LastName</th>\n",
       "    </tr>\n",
       "  </thead>\n",
       "  <tbody>\n",
       "    <tr>\n",
       "      <th>0</th>\n",
       "      <td>Sally</td>\n",
       "      <td>Sue</td>\n",
       "    </tr>\n",
       "    <tr>\n",
       "      <th>1</th>\n",
       "      <td>Mike</td>\n",
       "      <td>Myers</td>\n",
       "    </tr>\n",
       "    <tr>\n",
       "      <th>2</th>\n",
       "      <td>Jordan</td>\n",
       "      <td>Michael</td>\n",
       "    </tr>\n",
       "    <tr>\n",
       "      <th>3</th>\n",
       "      <td>Ted</td>\n",
       "      <td>Texas</td>\n",
       "    </tr>\n",
       "    <tr>\n",
       "      <th>4</th>\n",
       "      <td>Ala</td>\n",
       "      <td>Bama</td>\n",
       "    </tr>\n",
       "    <tr>\n",
       "      <th>5</th>\n",
       "      <td>Harry</td>\n",
       "      <td>Kane</td>\n",
       "    </tr>\n",
       "    <tr>\n",
       "      <th>6</th>\n",
       "      <td>Barry</td>\n",
       "      <td>Bar</td>\n",
       "    </tr>\n",
       "    <tr>\n",
       "      <th>7</th>\n",
       "      <td>Ted</td>\n",
       "      <td>Green</td>\n",
       "    </tr>\n",
       "    <tr>\n",
       "      <th>8</th>\n",
       "      <td>Ted</td>\n",
       "      <td>Black</td>\n",
       "    </tr>\n",
       "    <tr>\n",
       "      <th>9</th>\n",
       "      <td>Fred</td>\n",
       "      <td>Man</td>\n",
       "    </tr>\n",
       "    <tr>\n",
       "      <th>10</th>\n",
       "      <td>Kim</td>\n",
       "      <td>Kimberly</td>\n",
       "    </tr>\n",
       "    <tr>\n",
       "      <th>11</th>\n",
       "      <td>Sarah</td>\n",
       "      <td>Ab</td>\n",
       "    </tr>\n",
       "    <tr>\n",
       "      <th>12</th>\n",
       "      <td>Abigail</td>\n",
       "      <td>Marriot</td>\n",
       "    </tr>\n",
       "    <tr>\n",
       "      <th>13</th>\n",
       "      <td>Dave</td>\n",
       "      <td>Yu</td>\n",
       "    </tr>\n",
       "    <tr>\n",
       "      <th>14</th>\n",
       "      <td>Christian</td>\n",
       "      <td>Saint</td>\n",
       "    </tr>\n",
       "    <tr>\n",
       "      <th>15</th>\n",
       "      <td>Perry</td>\n",
       "      <td>Pardon</td>\n",
       "    </tr>\n",
       "    <tr>\n",
       "      <th>16</th>\n",
       "      <td>Kent</td>\n",
       "      <td>Kendall</td>\n",
       "    </tr>\n",
       "    <tr>\n",
       "      <th>17</th>\n",
       "      <td>Ryan</td>\n",
       "      <td>Kevin</td>\n",
       "    </tr>\n",
       "    <tr>\n",
       "      <th>18</th>\n",
       "      <td>Tyler</td>\n",
       "      <td>Conner</td>\n",
       "    </tr>\n",
       "    <tr>\n",
       "      <th>19</th>\n",
       "      <td>Bailey</td>\n",
       "      <td>Barret</td>\n",
       "    </tr>\n",
       "    <tr>\n",
       "      <th>20</th>\n",
       "      <td>Megan</td>\n",
       "      <td>Bonco</td>\n",
       "    </tr>\n",
       "    <tr>\n",
       "      <th>21</th>\n",
       "      <td>Joesph</td>\n",
       "      <td>Walter</td>\n",
       "    </tr>\n",
       "    <tr>\n",
       "      <th>22</th>\n",
       "      <td>Walter</td>\n",
       "      <td>King</td>\n",
       "    </tr>\n",
       "    <tr>\n",
       "      <th>23</th>\n",
       "      <td>Luke</td>\n",
       "      <td>Long</td>\n",
       "    </tr>\n",
       "    <tr>\n",
       "      <th>24</th>\n",
       "      <td>Justin</td>\n",
       "      <td>Time</td>\n",
       "    </tr>\n",
       "    <tr>\n",
       "      <th>25</th>\n",
       "      <td>Mike</td>\n",
       "      <td>Joseph</td>\n",
       "    </tr>\n",
       "    <tr>\n",
       "      <th>26</th>\n",
       "      <td>Bridget</td>\n",
       "      <td>Brenda</td>\n",
       "    </tr>\n",
       "    <tr>\n",
       "      <th>27</th>\n",
       "      <td>Brenda</td>\n",
       "      <td>Bing</td>\n",
       "    </tr>\n",
       "    <tr>\n",
       "      <th>28</th>\n",
       "      <td>Chandler</td>\n",
       "      <td>Bing</td>\n",
       "    </tr>\n",
       "    <tr>\n",
       "      <th>29</th>\n",
       "      <td>Joesph</td>\n",
       "      <td>Ross</td>\n",
       "    </tr>\n",
       "    <tr>\n",
       "      <th>30</th>\n",
       "      <td>Dwight</td>\n",
       "      <td>Scott</td>\n",
       "    </tr>\n",
       "    <tr>\n",
       "      <th>31</th>\n",
       "      <td>Michael</td>\n",
       "      <td>Halpert</td>\n",
       "    </tr>\n",
       "    <tr>\n",
       "      <th>32</th>\n",
       "      <td>Pamela</td>\n",
       "      <td>Ding</td>\n",
       "    </tr>\n",
       "    <tr>\n",
       "      <th>33</th>\n",
       "      <td>Tony</td>\n",
       "      <td>Creed</td>\n",
       "    </tr>\n",
       "    <tr>\n",
       "      <th>34</th>\n",
       "      <td>Phyllis</td>\n",
       "      <td>Stanley</td>\n",
       "    </tr>\n",
       "    <tr>\n",
       "      <th>35</th>\n",
       "      <td>Holly</td>\n",
       "      <td>Hue</td>\n",
       "    </tr>\n",
       "    <tr>\n",
       "      <th>36</th>\n",
       "      <td>Trent</td>\n",
       "      <td>Tye</td>\n",
       "    </tr>\n",
       "    <tr>\n",
       "      <th>37</th>\n",
       "      <td>Kimberly</td>\n",
       "      <td>Cone</td>\n",
       "    </tr>\n",
       "    <tr>\n",
       "      <th>38</th>\n",
       "      <td>Harry</td>\n",
       "      <td>West</td>\n",
       "    </tr>\n",
       "    <tr>\n",
       "      <th>39</th>\n",
       "      <td>Rosie</td>\n",
       "      <td>Renter</td>\n",
       "    </tr>\n",
       "  </tbody>\n",
       "</table>\n",
       "</div>"
      ],
      "text/plain": [
       "    FirstName  LastName\n",
       "0       Sally       Sue\n",
       "1        Mike     Myers\n",
       "2      Jordan   Michael\n",
       "3         Ted     Texas\n",
       "4         Ala      Bama\n",
       "5       Harry      Kane\n",
       "6       Barry       Bar\n",
       "7         Ted     Green\n",
       "8         Ted     Black\n",
       "9        Fred       Man\n",
       "10        Kim  Kimberly\n",
       "11      Sarah        Ab\n",
       "12    Abigail   Marriot\n",
       "13       Dave        Yu\n",
       "14  Christian     Saint\n",
       "15      Perry    Pardon\n",
       "16       Kent   Kendall\n",
       "17       Ryan     Kevin\n",
       "18      Tyler    Conner\n",
       "19     Bailey    Barret\n",
       "20      Megan     Bonco\n",
       "21     Joesph    Walter\n",
       "22     Walter      King\n",
       "23       Luke      Long\n",
       "24     Justin      Time\n",
       "25       Mike    Joseph\n",
       "26    Bridget    Brenda\n",
       "27     Brenda      Bing\n",
       "28   Chandler      Bing\n",
       "29     Joesph      Ross\n",
       "30     Dwight     Scott\n",
       "31    Michael   Halpert\n",
       "32     Pamela      Ding\n",
       "33       Tony     Creed\n",
       "34    Phyllis   Stanley\n",
       "35      Holly       Hue\n",
       "36      Trent       Tye\n",
       "37   Kimberly      Cone\n",
       "38      Harry      West\n",
       "39      Rosie    Renter"
      ]
     },
     "execution_count": 5,
     "metadata": {},
     "output_type": "execute_result"
    }
   ],
   "source": [
    "splitName = pd.DataFrame(df_providers['ProviderName'])\n",
    "splitName[['FirstName','LastName']] = splitName['ProviderName'].str.split(expand = True)\n",
    "splitName\n",
    "# Drop the Provider Name column\n",
    "splitName.drop('ProviderName', axis=1, inplace=True)\n",
    "splitName"
   ]
  },
  {
   "cell_type": "markdown",
   "id": "8fdb7f80",
   "metadata": {},
   "source": [
    "# 65. Plot a graph showing the count of patients for the reason visited the hospital."
   ]
  },
  {
   "cell_type": "code",
   "execution_count": 6,
   "id": "952bef74",
   "metadata": {
    "scrolled": true
   },
   "outputs": [
    {
     "data": {
      "image/png": "[encoded data removed]",
      "text/plain": [
       "<Figure size 1440x576 with 1 Axes>"
      ]
     },
     "metadata": {
      "needs_background": "light"
     },
     "output_type": "display_data"
    }
   ],
   "source": [
    "plt.figure(figsize=(20,8))\n",
    "plt.title('Count of patients by the reason visited the hospital')\n",
    "sns.countplot(data = df_ed_visits,x = 'ReasonForVisit')\n",
    "plt.show()"
   ]
  },
  {
   "cell_type": "markdown",
   "id": "5e58239a",
   "metadata": {},
   "source": [
    "# 66. Get the FirstName, LastName, DateOfBirth of the Patients whose reason for visit is Migraine. Use EDUnique Sheet for reason for visit."
   ]
  },
  {
   "cell_type": "code",
   "execution_count": 7,
   "id": "b0facda7",
   "metadata": {},
   "outputs": [
    {
     "data": {
      "text/html": [
       "<div>\n",
       "<style scoped>\n",
       "    .dataframe tbody tr th:only-of-type {\n",
       "        vertical-align: middle;\n",
       "    }\n",
       "\n",
       "    .dataframe tbody tr th {\n",
       "        vertical-align: top;\n",
       "    }\n",
       "\n",
       "    .dataframe thead th {\n",
       "        text-align: right;\n",
       "    }\n",
       "</style>\n",
       "<table border=\"1\" class=\"dataframe\">\n",
       "  <thead>\n",
       "    <tr style=\"text-align: right;\">\n",
       "      <th></th>\n",
       "      <th>FirstName</th>\n",
       "      <th>LastName</th>\n",
       "      <th>DateOfBirth</th>\n",
       "    </tr>\n",
       "  </thead>\n",
       "  <tbody>\n",
       "    <tr>\n",
       "      <th>1</th>\n",
       "      <td>Far</td>\n",
       "      <td>Myers</td>\n",
       "      <td>1985-11-15 02:08:42.090</td>\n",
       "    </tr>\n",
       "    <tr>\n",
       "      <th>2</th>\n",
       "      <td>Devlin</td>\n",
       "      <td>Michael</td>\n",
       "      <td>1976-04-15 02:52:09.762</td>\n",
       "    </tr>\n",
       "    <tr>\n",
       "      <th>11</th>\n",
       "      <td>Zonnya</td>\n",
       "      <td>Ab</td>\n",
       "      <td>1963-05-23 10:04:33.074</td>\n",
       "    </tr>\n",
       "    <tr>\n",
       "      <th>13</th>\n",
       "      <td>Gan</td>\n",
       "      <td>Yu</td>\n",
       "      <td>1970-06-02 06:22:54.675</td>\n",
       "    </tr>\n",
       "    <tr>\n",
       "      <th>21</th>\n",
       "      <td>Joesph</td>\n",
       "      <td>Long</td>\n",
       "      <td>1979-12-04 16:45:56.080</td>\n",
       "    </tr>\n",
       "    <tr>\n",
       "      <th>...</th>\n",
       "      <td>...</td>\n",
       "      <td>...</td>\n",
       "      <td>...</td>\n",
       "    </tr>\n",
       "    <tr>\n",
       "      <th>896</th>\n",
       "      <td>Barrows</td>\n",
       "      <td>Coupland</td>\n",
       "      <td>1979-10-31 18:28:35.483</td>\n",
       "    </tr>\n",
       "    <tr>\n",
       "      <th>907</th>\n",
       "      <td>Knox</td>\n",
       "      <td>Group</td>\n",
       "      <td>1975-08-25 22:27:50.177</td>\n",
       "    </tr>\n",
       "    <tr>\n",
       "      <th>909</th>\n",
       "      <td>Kuvalis</td>\n",
       "      <td>Coupland</td>\n",
       "      <td>1986-05-23 19:23:27.752</td>\n",
       "    </tr>\n",
       "    <tr>\n",
       "      <th>914</th>\n",
       "      <td>Jerrilyn</td>\n",
       "      <td>Dyson</td>\n",
       "      <td>1978-01-18 02:41:55.178</td>\n",
       "    </tr>\n",
       "    <tr>\n",
       "      <th>923</th>\n",
       "      <td>Daniel</td>\n",
       "      <td>Shakesby</td>\n",
       "      <td>1980-11-28 17:57:03.702</td>\n",
       "    </tr>\n",
       "  </tbody>\n",
       "</table>\n",
       "<p>116 rows × 3 columns</p>\n",
       "</div>"
      ],
      "text/plain": [
       "    FirstName  LastName             DateOfBirth\n",
       "1         Far     Myers 1985-11-15 02:08:42.090\n",
       "2     Devlin    Michael 1976-04-15 02:52:09.762\n",
       "11     Zonnya        Ab 1963-05-23 10:04:33.074\n",
       "13        Gan        Yu 1970-06-02 06:22:54.675\n",
       "21     Joesph      Long 1979-12-04 16:45:56.080\n",
       "..        ...       ...                     ...\n",
       "896   Barrows  Coupland 1979-10-31 18:28:35.483\n",
       "907      Knox     Group 1975-08-25 22:27:50.177\n",
       "909   Kuvalis  Coupland 1986-05-23 19:23:27.752\n",
       "914  Jerrilyn     Dyson 1978-01-18 02:41:55.178\n",
       "923    Daniel  Shakesby 1980-11-28 17:57:03.702\n",
       "\n",
       "[116 rows x 3 columns]"
      ]
     },
     "execution_count": 7,
     "metadata": {},
     "output_type": "execute_result"
    }
   ],
   "source": [
    "migrainePatientIDs = df_ed_unique[df_ed_unique['ReasonForVisit']=='Migraine']['PatientID']\n",
    "migrainePatients = df_patients[df_patients['PatientID'].isin(migrainePatientIDs)]\n",
    "(migrainePatients[['FirstName','LastName','DateOfBirth']])"
   ]
  },
  {
   "cell_type": "markdown",
   "id": "d1d93035",
   "metadata": {},
   "source": [
    "# 67. Make a pivot table by the no. of patients from the admission date till discharge date."
   ]
  },
  {
   "cell_type": "code",
   "execution_count": 8,
   "id": "a2ab908e",
   "metadata": {},
   "outputs": [
    {
     "data": {
      "text/html": [
       "<div>\n",
       "<style scoped>\n",
       "    .dataframe tbody tr th:only-of-type {\n",
       "        vertical-align: middle;\n",
       "    }\n",
       "\n",
       "    .dataframe tbody tr th {\n",
       "        vertical-align: top;\n",
       "    }\n",
       "\n",
       "    .dataframe thead th {\n",
       "        text-align: right;\n",
       "    }\n",
       "</style>\n",
       "<table border=\"1\" class=\"dataframe\">\n",
       "  <thead>\n",
       "    <tr style=\"text-align: right;\">\n",
       "      <th></th>\n",
       "      <th></th>\n",
       "      <th>PatientID</th>\n",
       "    </tr>\n",
       "    <tr>\n",
       "      <th>AdmissionDate</th>\n",
       "      <th>LOS</th>\n",
       "      <th></th>\n",
       "    </tr>\n",
       "  </thead>\n",
       "  <tbody>\n",
       "    <tr>\n",
       "      <th rowspan=\"5\" valign=\"top\">2018-01-01</th>\n",
       "      <th>3 days 19:59:31.391000</th>\n",
       "      <td>1</td>\n",
       "    </tr>\n",
       "    <tr>\n",
       "      <th>3 days 21:28:51.898000</th>\n",
       "      <td>1</td>\n",
       "    </tr>\n",
       "    <tr>\n",
       "      <th>3 days 22:28:23.672000</th>\n",
       "      <td>1</td>\n",
       "    </tr>\n",
       "    <tr>\n",
       "      <th>4 days 05:47:04.933000</th>\n",
       "      <td>1</td>\n",
       "    </tr>\n",
       "    <tr>\n",
       "      <th>4 days 14:18:30.029000</th>\n",
       "      <td>1</td>\n",
       "    </tr>\n",
       "    <tr>\n",
       "      <th>...</th>\n",
       "      <th>...</th>\n",
       "      <td>...</td>\n",
       "    </tr>\n",
       "    <tr>\n",
       "      <th rowspan=\"5\" valign=\"top\">2018-02-22</th>\n",
       "      <th>13 days 21:22:10.061000</th>\n",
       "      <td>1</td>\n",
       "    </tr>\n",
       "    <tr>\n",
       "      <th>14 days 02:43:18.749000</th>\n",
       "      <td>1</td>\n",
       "    </tr>\n",
       "    <tr>\n",
       "      <th>14 days 09:27:18.377000</th>\n",
       "      <td>1</td>\n",
       "    </tr>\n",
       "    <tr>\n",
       "      <th>16 days 06:06:12.068000</th>\n",
       "      <td>1</td>\n",
       "    </tr>\n",
       "    <tr>\n",
       "      <th>16 days 20:38:30.568000</th>\n",
       "      <td>1</td>\n",
       "    </tr>\n",
       "  </tbody>\n",
       "</table>\n",
       "<p>720 rows × 1 columns</p>\n",
       "</div>"
      ],
      "text/plain": [
       "                                       PatientID\n",
       "AdmissionDate LOS                               \n",
       "2018-01-01    3 days 19:59:31.391000           1\n",
       "              3 days 21:28:51.898000           1\n",
       "              3 days 22:28:23.672000           1\n",
       "              4 days 05:47:04.933000           1\n",
       "              4 days 14:18:30.029000           1\n",
       "...                                          ...\n",
       "2018-02-22    13 days 21:22:10.061000          1\n",
       "              14 days 02:43:18.749000          1\n",
       "              14 days 09:27:18.377000          1\n",
       "              16 days 06:06:12.068000          1\n",
       "              16 days 20:38:30.568000          1\n",
       "\n",
       "[720 rows x 1 columns]"
      ]
     },
     "execution_count": 8,
     "metadata": {},
     "output_type": "execute_result"
    }
   ],
   "source": [
    "df_discharge['LOS'] = pd.to_datetime(df_discharge['DischargeDate']) - pd.to_datetime(df_discharge['AdmissionDate'])\n",
    "pivot_table = pd.pivot_table(df_discharge,values = ['PatientID'] ,index = ['AdmissionDate', 'LOS'], aggfunc = 'count')\n",
    "pivot_table"
   ]
  },
  {
   "cell_type": "markdown",
   "id": "c2da2e17",
   "metadata": {},
   "source": [
    "# 68.Calculate average LOS."
   ]
  },
  {
   "cell_type": "code",
   "execution_count": 9,
   "id": "00c50095",
   "metadata": {},
   "outputs": [
    {
     "data": {
      "text/plain": [
       "8.82458915915616"
      ]
     },
     "execution_count": 9,
     "metadata": {},
     "output_type": "execute_result"
    }
   ],
   "source": [
    "df_discharge['ExpectedLOS'].mean()"
   ]
  },
  {
   "cell_type": "markdown",
   "id": "f18a0eed",
   "metadata": {},
   "source": [
    "# 69. Number of patients on 'Transfer' based on primary diagnosis."
   ]
  },
  {
   "cell_type": "code",
   "execution_count": 10,
   "id": "674e9128",
   "metadata": {},
   "outputs": [
    {
     "name": "stdout",
     "output_type": "stream",
     "text": [
      "Number of patients on Transfer based on primary diagnosis is : 39\n"
     ]
    }
   ],
   "source": [
    "transferPatients = df_discharge[df_discharge['DischargeDisposition']=='Transfer']\n",
    "print('Number of patients on Transfer based on primary diagnosis is :',len(transferPatients) )"
   ]
  },
  {
   "cell_type": "markdown",
   "id": "cdd368fb",
   "metadata": {},
   "source": [
    "# 70. Violin plot for Level of Acuity by Visit Reason"
   ]
  },
  {
   "cell_type": "code",
   "execution_count": 11,
   "id": "71557f8b",
   "metadata": {},
   "outputs": [
    {
     "data": {
      "image/png": "[encoded data removed]",
      "text/plain": [
       "<Figure size 1440x576 with 1 Axes>"
      ]
     },
     "metadata": {
      "needs_background": "light"
     },
     "output_type": "display_data"
    }
   ],
   "source": [
    "plt.figure(figsize=(20,8))\n",
    "sns.violinplot(data = df_ed_visits, x = 'ReasonForVisit' , y = 'Acuity')\n",
    "plt.title('Level of Acuity by Visit Reason')\n",
    "plt.xlabel('Visit Reason')\n",
    "plt.ylabel('Level of Acuity')\n",
    "plt.show()"
   ]
  },
  {
   "cell_type": "markdown",
   "id": "b4ba3fd5",
   "metadata": {},
   "source": [
    "# 71. Find the count of White Spanish Male."
   ]
  },
  {
   "cell_type": "code",
   "execution_count": 12,
   "id": "62b6c61a",
   "metadata": {},
   "outputs": [
    {
     "name": "stdout",
     "output_type": "stream",
     "text": [
      "The count of White Spanish Male is: 15\n"
     ]
    }
   ],
   "source": [
    "whiteSpanishMale = df_patients[(df_patients['Race']=='White') & (df_patients['Gender']=='Male') & (df_patients['Language']=='Spanish')]\n",
    "count = len(whiteSpanishMale)\n",
    "print(\"The count of White Spanish Male is:\", count)"
   ]
  },
  {
   "cell_type": "markdown",
   "id": "89464d4a",
   "metadata": {},
   "source": [
    "# 72. Which PrimaryDiagnosis has the biggest difference between maximum and minimum Expected LOS?"
   ]
  },
  {
   "cell_type": "code",
   "execution_count": 13,
   "id": "bf58c275",
   "metadata": {
    "scrolled": true
   },
   "outputs": [
    {
     "name": "stdout",
     "output_type": "stream",
     "text": [
      "Primary diagnosis with the biggest difference:  PrimaryDiagnosis\n",
      "Pneumonia    14.83426\n",
      "Name: ExpectedLOS, dtype: float64\n"
     ]
    }
   ],
   "source": [
    "diagnosisMax = df_discharge.groupby('PrimaryDiagnosis')['ExpectedLOS'].max()\n",
    "diagnosisMin = df_discharge.groupby('PrimaryDiagnosis')['ExpectedLOS'].min() \n",
    "diff = diagnosisMax - diagnosisMin\n",
    "sortedDiff = diff.sort_values(ascending=False)\n",
    "print(\"Primary diagnosis with the biggest difference: \", sortedDiff.head(1))"
   ]
  },
  {
   "cell_type": "markdown",
   "id": "07e5fcaa",
   "metadata": {},
   "source": [
    "# 73. Which patient id has most entries in readmission registry."
   ]
  },
  {
   "cell_type": "code",
   "execution_count": null,
   "id": "51802174",
   "metadata": {},
   "outputs": [],
   "source": []
  },
  {
   "cell_type": "markdown",
   "id": "e1b6edd5",
   "metadata": {},
   "source": [
    "# 74. \"Create a figure object called fig using plt.figure() **\n",
    " ** Use add_axes to add an axis to the figure canvas at [0,0,1,1]. Call this new axis ax. **\n",
    " ** Plot (x,y) on that axes and set the labels.\n",
    " Note : You can plot on any x,y set of values.\""
   ]
  },
  {
   "cell_type": "code",
   "execution_count": null,
   "id": "d3eac04a",
   "metadata": {},
   "outputs": [],
   "source": []
  },
  {
   "cell_type": "markdown",
   "id": "36718ac4",
   "metadata": {},
   "source": [
    "# 75. \"Using numpy functions, multiply the following arrays\n",
    "a=np.arange(6).reshape(2,3)\n",
    "b=np.arange(6).reshape(3,2)\""
   ]
  },
  {
   "cell_type": "code",
   "execution_count": 14,
   "id": "3207fac3",
   "metadata": {},
   "outputs": [
    {
     "data": {
      "text/plain": [
       "array([[10, 13],\n",
       "       [28, 40]])"
      ]
     },
     "execution_count": 14,
     "metadata": {},
     "output_type": "execute_result"
    }
   ],
   "source": [
    "a=np.arange(6).reshape(2,3)\n",
    "b=np.arange(6).reshape(3,2)\n",
    "np.dot(a,b)"
   ]
  },
  {
   "cell_type": "markdown",
   "id": "f1851467",
   "metadata": {},
   "source": [
    "# 76. Mortality O:E"
   ]
  },
  {
   "cell_type": "code",
   "execution_count": null,
   "id": "24405a2a",
   "metadata": {},
   "outputs": [],
   "source": []
  },
  {
   "cell_type": "markdown",
   "id": "44131be1",
   "metadata": {},
   "source": [
    "# 77. Plot a graph to count the patients based on discharge disposition."
   ]
  },
  {
   "cell_type": "code",
   "execution_count": 15,
   "id": "0d8d9c12",
   "metadata": {},
   "outputs": [
    {
     "data": {
      "image/png": "[encoded data removed]",
      "text/plain": [
       "<Figure size 720x576 with 1 Axes>"
      ]
     },
     "metadata": {
      "needs_background": "light"
     },
     "output_type": "display_data"
    }
   ],
   "source": [
    "plt.figure(figsize=(10,8))\n",
    "plt.title('Count the patients based on discharge disposition')\n",
    "sns.countplot(data = df_discharge,x = 'DischargeDisposition' )\n",
    "plt.show()"
   ]
  },
  {
   "cell_type": "markdown",
   "id": "4011c24c",
   "metadata": {},
   "source": [
    "# 78. Display total count of patients service wise based on gender.\n"
   ]
  },
  {
   "cell_type": "code",
   "execution_count": null,
   "id": "ae06628c",
   "metadata": {},
   "outputs": [],
   "source": []
  },
  {
   "cell_type": "markdown",
   "id": "264acbfe",
   "metadata": {},
   "source": [
    "# 79.Create a pivot table displaying average LOS based on Service and Primary Diagnosis."
   ]
  },
  {
   "cell_type": "code",
   "execution_count": null,
   "id": "b13d59ba",
   "metadata": {},
   "outputs": [],
   "source": []
  },
  {
   "cell_type": "markdown",
   "id": "317839c5",
   "metadata": {},
   "source": [
    "# 80. Display the data for all 'White Female' patients above the age of 50."
   ]
  },
  {
   "cell_type": "code",
   "execution_count": null,
   "id": "829f93d2",
   "metadata": {},
   "outputs": [],
   "source": []
  },
  {
   "cell_type": "code",
   "execution_count": null,
   "id": "06512752",
   "metadata": {},
   "outputs": [],
   "source": []
  }
 ],
 "metadata": {
  "kernelspec": {
   "display_name": "Python 3 (ipykernel)",
   "language": "python",
   "name": "python3"
  },
  "language_info": {
   "codemirror_mode": {
    "name": "ipython",
    "version": 3
   },
   "file_extension": ".py",
   "mimetype": "text/x-python",
   "name": "python",
   "nbconvert_exporter": "python",
   "pygments_lexer": "ipython3",
   "version": "3.9.12"
  }
 },
 "nbformat": 4,
 "nbformat_minor": 5
}
